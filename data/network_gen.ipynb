{
 "cells": [
  {
   "cell_type": "code",
   "execution_count": 1,
   "metadata": {},
   "outputs": [],
   "source": [
    "import numpy as np\n",
    "import networkx as nx\n",
    "import networkx.generators.random_graphs as nxrg"
   ]
  },
  {
   "cell_type": "code",
   "execution_count": 2,
   "metadata": {},
   "outputs": [],
   "source": [
    "def adjacency_gen(nnodes, undirected = False):\n",
    "    adj = np.random.randint(2, size = (nnodes, nnodes), dtype = int)\n",
    "    for i in range(nnodes):\n",
    "        adj[i,i] = 0\n",
    "    if(undirected):\n",
    "        for i in range(nnodes):\n",
    "            for j in range(i):\n",
    "                adj[i,j] = adj[j,i]\n",
    "    return adj"
   ]
  },
  {
   "cell_type": "code",
   "execution_count": 49,
   "metadata": {},
   "outputs": [],
   "source": [
    "def flow_gen(adj, paths, nsample, Range=10, zero_centered=False, backflow = False, processed_paths = False, noise_level=0.2):\n",
    "    '''\n",
    "    generates flow samples based on eigenpaths with gaussian noise\n",
    "    input:\n",
    "    adj: adjacency matrix of graph, rows represent staring nodes, columns representing destination nodes\n",
    "    paths: eigenpaths of a fixed length, \n",
    "        must be in the format [s1, d1, w1], [s2=d1, d2, w2], ... [sl=d(l-1), dl, wl]\n",
    "        where s is the starting node of the edge, d is the ending node of the edge\n",
    "        and w is the weight of each edge in the path\n",
    "    nsample: number of samples generated\n",
    "    backflow: allow edge adjacency matrix to have backflow, making it symetric\n",
    "    noise: add gaussian noise or not\n",
    "    \n",
    "    output:\n",
    "    sample: nsample * nedges np array\n",
    "    edge_adj: edge adjacency matrix\n",
    "    '''\n",
    "    nEdges = 0\n",
    "    #encode adjacency matrix into edge vector\n",
    "    Edges = []\n",
    "    for start in range(adj.shape[0]):\n",
    "        for dest in range(adj.shape[0]):\n",
    "            if(adj[start, dest] == 1):\n",
    "                nEdges += 1\n",
    "                Edges.append([start, dest])\n",
    "    \n",
    "    Paths = np.zeros((len(paths), nEdges), dtype = float)\n",
    "    if processed_paths == False:\n",
    "        for p in paths:\n",
    "            prev_end = None\n",
    "            for e in p:\n",
    "                assert adj[e[0], e[1]] == 1 #all paths must exist\n",
    "                assert prev_end is None or e[0] == prev_end #all paths must be valid\n",
    "                prev_end = e[1]\n",
    "\n",
    "        for p in range(len(paths)):\n",
    "            for e in range(len(paths[p])):\n",
    "                Paths[p, Edges.index(paths[p][e][0:2])] = paths[p][e][2]\n",
    "    else:\n",
    "        Paths = paths\n",
    "    \n",
    "    print(\"Edges:\\n\", Edges)\n",
    "    print(\"Paths:\\n\", Paths)\n",
    "    \n",
    "    sample = np.zeros((nsample, nEdges), dtype = float)\n",
    "    noiseless_sample = np.zeros((nsample, nEdges), dtype = float)\n",
    "    for i in range(nsample):\n",
    "        w = np.random.rand(len(paths))*Range #random weight for each path\n",
    "        if zero_centered == True:\n",
    "            w = w - Range/2\n",
    "        sample[i,:] += w@Paths + Range * noise_level*np.random.randn(nEdges)\n",
    "        noiseless_sample[i,:] += w@Paths\n",
    "        \n",
    "    #transform adjacency matrix into edge adjacecny matrix\n",
    "    edge_adj = np.zeros((nEdges, nEdges), dtype = int)\n",
    "    for e in range(nEdges):\n",
    "        for i in range(adj.shape[0]):\n",
    "            if(adj[Edges[e][1], i] == 1):\n",
    "                edge_adj[e, Edges.index([Edges[e][1], i])] = 1\n",
    "    \n",
    "    if(backflow == True):\n",
    "        for i in range(nEdges):\n",
    "            for j in range(i):\n",
    "                if(edge_adj[i.j] == 1 or edge_adj[j,i] == 1):\n",
    "                    edge_adj[i,j] = 1 \n",
    "                    edge_adj[j,i] = 1\n",
    "    \n",
    "    return sample, noiseless_sample, edge_adj, Paths"
   ]
  },
  {
   "cell_type": "code",
   "execution_count": 4,
   "metadata": {},
   "outputs": [],
   "source": [
    "def path_gen(paths, weighted = False):\n",
    "    results = []\n",
    "    for pth in paths:\n",
    "        print(pth)\n",
    "        w_pth = []\n",
    "        if weighted:\n",
    "            weights = np.random.uniform(low = 5.0, high = 15.0, size = (len(pth)-1, ))\n",
    "            for i in range(len(pth) - 1):\n",
    "                w_pth.append([pth[i], pth[i+1], int(weights[i]) ])\n",
    "        else:\n",
    "            for i in range(len(pth) - 1):\n",
    "                w_pth.append([pth[i], pth[i+1], 1 ])\n",
    "            \n",
    "        results.append(w_pth)\n",
    "    return results"
   ]
  },
  {
   "cell_type": "code",
   "execution_count": 13,
   "metadata": {
    "collapsed": true
   },
   "outputs": [
    {
     "name": "stdout",
     "output_type": "stream",
     "text": [
      "[[0 1 1 0 1 1 1 1 0 0]\n",
      " [0 0 0 1 0 1 0 1 0 1]\n",
      " [1 0 0 0 1 0 0 1 0 0]\n",
      " [0 0 0 0 0 1 1 1 0 0]\n",
      " [1 1 0 0 0 0 0 0 0 0]\n",
      " [1 0 1 0 1 0 1 0 0 1]\n",
      " [0 0 1 0 1 0 0 0 1 1]\n",
      " [1 1 0 0 1 1 0 0 1 1]\n",
      " [0 1 1 0 1 1 0 1 0 1]\n",
      " [0 1 0 0 0 1 0 0 0 0]]\n"
     ]
    }
   ],
   "source": [
    "G = adjacency_gen(10, undirected = False)\n",
    "print(G)"
   ]
  },
  {
   "cell_type": "code",
   "execution_count": 52,
   "metadata": {
    "collapsed": true
   },
   "outputs": [
    {
     "name": "stdout",
     "output_type": "stream",
     "text": [
      "[[0 0 0 0 0 1 1 0 0 0 1 1 1 0 1 0 0 0 0 1 0 0 1 1 0 1 0 0 0 0]\n",
      " [0 0 0 1 0 0 1 0 0 0 0 0 0 0 0 0 0 0 0 0 0 0 0 0 0 0 1 1 1 0]\n",
      " [0 0 0 0 0 1 0 1 0 1 1 0 0 0 0 0 1 1 0 0 0 0 0 1 0 1 0 1 0 0]\n",
      " [0 1 0 0 0 1 1 0 0 0 0 0 1 0 0 0 0 0 0 1 0 1 1 1 0 0 0 1 0 0]\n",
      " [0 0 0 0 0 0 1 0 0 1 1 1 1 0 1 0 1 1 0 0 0 0 0 0 0 0 0 1 1 1]\n",
      " [1 0 1 1 0 0 0 0 1 0 0 0 1 0 1 0 0 0 0 1 0 1 1 0 0 0 0 1 0 0]\n",
      " [1 1 0 1 1 0 0 1 1 0 0 1 0 0 1 0 0 0 0 0 1 0 1 1 0 1 1 1 1 0]\n",
      " [0 0 1 0 0 0 1 0 1 1 1 0 1 0 0 0 0 0 0 1 0 0 0 0 0 1 0 0 0 0]\n",
      " [0 0 0 0 0 1 1 1 0 0 0 1 1 0 0 1 0 0 0 1 1 1 0 0 1 0 0 0 0 0]\n",
      " [0 0 1 0 1 0 0 1 0 0 0 1 0 0 1 0 0 0 0 1 1 0 1 1 1 0 1 0 1 0]\n",
      " [1 0 1 0 1 0 0 1 0 0 0 0 0 1 0 1 0 0 1 1 0 1 1 1 0 0 1 0 0 1]\n",
      " [1 0 0 0 1 0 1 0 1 1 0 0 0 0 0 0 1 0 0 0 0 1 1 0 1 0 0 0 0 0]\n",
      " [1 0 0 1 1 1 0 1 1 0 0 0 0 0 0 0 0 0 1 1 1 0 1 0 0 0 0 0 1 1]\n",
      " [0 0 0 0 0 0 0 0 0 0 1 0 0 0 0 1 1 1 1 0 0 1 0 0 0 1 1 0 0 1]\n",
      " [1 0 0 0 1 1 1 0 0 1 0 0 0 0 0 0 0 0 0 1 1 0 0 0 0 0 0 0 0 1]\n",
      " [0 0 0 0 0 0 0 0 1 0 1 0 0 1 0 0 0 1 0 1 0 1 0 1 0 0 0 0 0 1]\n",
      " [0 0 1 0 1 0 0 0 0 0 0 1 0 1 0 0 0 0 1 0 0 1 1 0 1 1 1 1 1 1]\n",
      " [0 0 1 0 1 0 0 0 0 0 0 0 0 1 0 1 0 0 0 1 1 0 0 0 0 0 1 1 0 0]\n",
      " [0 0 0 0 0 0 0 0 0 0 1 0 1 1 0 0 1 0 0 0 0 0 0 1 0 0 0 0 0 0]\n",
      " [1 0 0 1 0 1 0 1 1 1 1 0 1 0 1 1 0 1 0 0 0 0 1 0 1 0 1 1 1 1]\n",
      " [0 0 0 0 0 0 1 0 1 1 0 0 1 0 1 0 0 1 0 0 0 0 0 1 1 0 1 1 1 1]\n",
      " [0 0 0 1 0 1 0 0 1 0 1 1 0 1 0 1 1 0 0 0 0 0 1 0 0 0 1 0 0 0]\n",
      " [1 0 0 1 0 1 1 0 0 1 1 1 1 0 0 0 1 0 0 1 0 1 0 0 1 1 0 0 0 0]\n",
      " [1 0 1 1 0 0 1 0 0 1 1 0 0 0 0 1 0 0 1 0 1 0 0 0 1 0 0 0 0 0]\n",
      " [0 0 0 0 0 0 0 0 1 1 0 1 0 0 0 0 1 0 0 1 1 0 1 1 0 1 0 1 0 0]\n",
      " [1 0 1 0 0 0 1 1 0 0 0 0 0 1 0 0 1 0 0 0 0 0 1 0 1 0 0 0 1 0]\n",
      " [0 1 0 0 0 0 1 0 0 1 1 0 0 1 0 0 1 1 0 1 1 1 0 0 0 0 0 0 0 1]\n",
      " [0 1 1 1 1 1 1 0 0 0 0 0 0 0 0 0 1 1 0 1 1 0 0 0 1 0 0 0 0 1]\n",
      " [0 1 0 0 1 0 1 0 0 1 0 0 1 0 0 0 1 0 0 1 1 0 0 0 0 1 0 0 0 1]\n",
      " [0 0 0 0 1 0 0 0 0 0 1 0 1 1 1 1 1 0 0 1 1 0 0 0 0 0 1 1 1 0]]\n"
     ]
    }
   ],
   "source": [
    "gnp = nxrg.fast_gnp_random_graph(30, 0.3, seed=None, directed=False)\n",
    "gnp_G = nx.adjacency_matrix(gnp).toarray()\n",
    "print(gnp_G)"
   ]
  },
  {
   "cell_type": "code",
   "execution_count": 47,
   "metadata": {
    "collapsed": true
   },
   "outputs": [
    {
     "name": "stdout",
     "output_type": "stream",
     "text": [
      "[[0 1 1 0 0 1 0 0 1 1]\n",
      " [1 0 1 1 1 0 0 0 0 1]\n",
      " [1 1 0 1 1 0 0 0 0 0]\n",
      " [0 1 1 0 1 1 0 1 0 0]\n",
      " [0 1 1 1 0 1 1 1 1 0]\n",
      " [1 0 0 1 1 0 1 1 1 0]\n",
      " [0 0 0 0 1 1 0 1 1 1]\n",
      " [0 0 0 1 1 1 1 0 1 1]\n",
      " [1 0 0 0 1 1 1 1 0 1]\n",
      " [1 1 0 0 0 0 1 1 1 0]]\n"
     ]
    }
   ],
   "source": [
    "swg = nxrg.newman_watts_strogatz_graph(10, 4, 0.3)\n",
    "swg_G = nx.adjacency_matrix(swg).toarray()\n",
    "print(swg_G)"
   ]
  },
  {
   "cell_type": "code",
   "execution_count": 5,
   "metadata": {},
   "outputs": [
    {
     "name": "stdout",
     "output_type": "stream",
     "text": [
      "[[0 0 1 ... 0 0 0]\n",
      " [0 0 1 ... 0 0 0]\n",
      " [1 1 0 ... 0 0 0]\n",
      " ...\n",
      " [0 0 0 ... 0 0 0]\n",
      " [0 0 0 ... 0 0 0]\n",
      " [0 0 0 ... 0 0 0]]\n"
     ]
    }
   ],
   "source": [
    "sfg = nxrg.barabasi_albert_graph(100,2)\n",
    "sfg_G = nx.adjacency_matrix(sfg).toarray()\n",
    "print(sfg_G)"
   ]
  },
  {
   "cell_type": "code",
   "execution_count": 6,
   "metadata": {},
   "outputs": [
    {
     "name": "stdout",
     "output_type": "stream",
     "text": [
      "[[0 0 1 ... 0 0 0]\n",
      " [0 0 1 ... 0 0 0]\n",
      " [1 1 0 ... 0 0 0]\n",
      " ...\n",
      " [0 0 0 ... 0 0 0]\n",
      " [0 0 0 ... 0 0 0]\n",
      " [0 0 0 ... 0 0 0]]\n",
      "[[0. 0. 0. ... 0. 0. 0.]\n",
      " [0. 0. 0. ... 0. 0. 0.]\n",
      " [0. 0. 0. ... 0. 0. 0.]]\n",
      "(array([0, 0, 0, 0, 0, 1, 1, 1, 1, 1, 2, 2, 2, 2, 2]), array([  6,  32,  53,  61,  87,  22,  30,  52,  62, 116,  21, 152, 309,\n",
      "       338, 387]))\n"
     ]
    }
   ],
   "source": [
    "G = np.load('graph.npy')\n",
    "print(G)\n",
    "loaded_paths = np.load('paths.npy')\n",
    "print(loaded_paths)\n",
    "restored_path = np.nonzero(loaded_paths)\n",
    "print(restored_path)"
   ]
  },
  {
   "cell_type": "code",
   "execution_count": 7,
   "metadata": {
    "scrolled": true
   },
   "outputs": [
    {
     "name": "stdout",
     "output_type": "stream",
     "text": [
      "[(1, 1), (7, 2), (8, 2), (20, 2), (22, 2), (31, 2), (32, 2), (35, 2), (40, 2), (45, 2), (52, 2), (53, 2), (55, 2), (57, 2), (58, 2), (59, 2), (62, 2), (63, 2), (64, 2), (65, 2), (66, 2), (67, 2), (68, 2), (70, 2), (71, 2), (73, 2), (75, 2), (77, 2), (78, 2), (79, 2), (80, 2), (81, 2), (83, 2), (84, 2), (85, 2), (87, 2), (88, 2), (89, 2), (90, 2), (91, 2), (92, 2), (93, 2), (94, 2), (95, 2), (96, 2), (97, 2), (98, 2), (99, 2), (6, 3), (12, 3), (24, 3), (27, 3), (28, 3), (34, 3), (39, 3), (42, 3), (43, 3), (44, 3), (46, 3), (47, 3), (49, 3), (50, 3), (51, 3), (60, 3), (61, 3), (69, 3), (72, 3), (74, 3), (76, 3), (82, 3), (86, 3), (14, 4), (15, 4), (16, 4), (25, 4), (29, 4), (33, 4), (37, 4), (38, 4), (48, 4), (56, 4), (11, 5), (19, 5), (23, 5), (26, 5), (30, 5), (36, 5), (54, 5), (13, 6), (21, 6), (41, 6), (17, 7), (5, 8), (0, 9), (4, 10), (18, 10), (9, 13), (10, 20), (3, 23), (2, 35)]\n"
     ]
    },
    {
     "data": {
      "image/png": "[encoded data removed]",
      "text/plain": [
       "<Figure size 432x288 with 1 Axes>"
      ]
     },
     "metadata": {},
     "output_type": "display_data"
    }
   ],
   "source": [
    "#DiG = nx.from_numpy_matrix(G, create_using=nx.DiGraph())\n",
    "DiG = sfg\n",
    "nx.draw_networkx(DiG, with_label = True) \n",
    "degs = []\n",
    "for node in range(100):\n",
    "    deg = DiG.degree(node)\n",
    "    degs.append((node, deg))\n",
    "    \n",
    "degs_sorted = sorted(degs, key=lambda deg: deg[1])\n",
    "\n",
    "print(degs_sorted)"
   ]
  },
  {
   "cell_type": "code",
   "execution_count": 40,
   "metadata": {},
   "outputs": [
    {
     "name": "stdout",
     "output_type": "stream",
     "text": [
      "5\n",
      "[93, 9, 2]\n",
      "[5, 3, 80]\n"
     ]
    }
   ],
   "source": [
    "print(nx.diameter(DiG))\n",
    "print(nx.shortest_path(DiG, 93, 2))\n",
    "print(nx.shortest_path(DiG, 5, 80))"
   ]
  },
  {
   "cell_type": "code",
   "execution_count": 7,
   "metadata": {
    "scrolled": false
   },
   "outputs": [
    {
     "name": "stdout",
     "output_type": "stream",
     "text": [
      "[8, 7, 1, 2, 4]\n",
      "[8, 7, 1, 3, 9]\n",
      "[[[8, 7, 1], [7, 1, 1], [1, 2, 1], [2, 4, 1]], [[8, 7, 1], [7, 1, 1], [1, 3, 1], [3, 9, 1]]]\n"
     ]
    }
   ],
   "source": [
    "swg_pth = path_gen([[8,7,1,2,4], \n",
    "                    [8,7,1,3,9]])\n",
    "print(swg_pth)"
   ]
  },
  {
   "cell_type": "code",
   "execution_count": 82,
   "metadata": {
    "collapsed": true
   },
   "outputs": [
    {
     "name": "stdout",
     "output_type": "stream",
     "text": [
      "[[4, 2, 0, 3], [4, 2, 0, 6, 3], [4, 2, 3], [4, 2, 5, 3], [4, 2, 7, 0, 3], [4, 2, 7, 0, 6, 3], [4, 2, 8, 3], [4, 2, 9, 3], [4, 3]]\n"
     ]
    }
   ],
   "source": [
    "spaths = nx.all_simple_paths(sfg, 4, 3)\n",
    "print(list(spaths))"
   ]
  },
  {
   "cell_type": "code",
   "execution_count": 43,
   "metadata": {},
   "outputs": [
    {
     "name": "stdout",
     "output_type": "stream",
     "text": [
      "[60, 48, 3, 0, 7, 2, 5]\n",
      "[32, 3, 2, 5, 11]\n",
      "[52, 9, 2, 5, 3, 59]\n",
      "[31, 21, 2, 5, 27]\n",
      "[93, 9, 2, 5, 3, 80]\n",
      "[[[60, 48, 1], [48, 3, 1], [3, 0, 1], [0, 7, 1], [7, 2, 1], [2, 5, 1]], [[32, 3, 1], [3, 2, 1], [2, 5, 1], [5, 11, 1]], [[52, 9, 1], [9, 2, 1], [2, 5, 1], [5, 3, 1], [3, 59, 1]], [[31, 21, 1], [21, 2, 1], [2, 5, 1], [5, 27, 1]], [[93, 9, 1], [9, 2, 1], [2, 5, 1], [5, 3, 1], [3, 80, 1]]]\n"
     ]
    }
   ],
   "source": [
    "sfg_pth = path_gen([[60, 48, 3, 0, 7, 2, 5], \n",
    "                    [32, 3, 2, 5, 11],\n",
    "                    [52, 9, 2, 5, 3, 59],\n",
    "                    [31, 21, 2, 5, 27],\n",
    "                    [93, 9, 2, 5, 3, 80]])\n",
    "print(sfg_pth)"
   ]
  },
  {
   "cell_type": "code",
   "execution_count": 66,
   "metadata": {
    "collapsed": true
   },
   "outputs": [
    {
     "name": "stdout",
     "output_type": "stream",
     "text": [
      "[12, 0, 11, 8, 20]\n",
      "[8, 12, 29, 26, 1]\n",
      "[13, 21, 5, 2, 7]\n",
      "[[[12, 0, 1], [0, 11, 1], [11, 8, 1], [8, 20, 1]], [[8, 12, 1], [12, 29, 1], [29, 26, 1], [26, 1, 1]], [[13, 21, 1], [21, 5, 1], [5, 2, 1], [2, 7, 1]]]\n"
     ]
    }
   ],
   "source": [
    "npg_pth = path_gen([[12,0,11,8,20], \n",
    "                    [8,12,29,26,1],\n",
    "                    [13,21,5,2,7]])\n",
    "print(npg_pth)"
   ]
  },
  {
   "cell_type": "code",
   "execution_count": 50,
   "metadata": {},
   "outputs": [
    {
     "name": "stdout",
     "output_type": "stream",
     "text": [
      "Edges:\n",
      " [[0, 2], [0, 3], [0, 4], [0, 7], [0, 25], [0, 41], [0, 43], [0, 88], [0, 94], [1, 2], [2, 0], [2, 1], [2, 3], [2, 4], [2, 5], [2, 6], [2, 7], [2, 8], [2, 9], [2, 14], [2, 20], [2, 21], [2, 22], [2, 24], [2, 30], [2, 33], [2, 34], [2, 37], [2, 38], [2, 39], [2, 42], [2, 43], [2, 54], [2, 55], [2, 61], [2, 63], [2, 64], [2, 66], [2, 74], [2, 75], [2, 76], [2, 79], [2, 84], [2, 87], [2, 94], [3, 0], [3, 2], [3, 5], [3, 8], [3, 10], [3, 12], [3, 13], [3, 19], [3, 26], [3, 29], [3, 32], [3, 37], [3, 38], [3, 42], [3, 48], [3, 49], [3, 50], [3, 59], [3, 69], [3, 71], [3, 75], [3, 80], [3, 96], [4, 0], [4, 2], [4, 10], [4, 12], [4, 15], [4, 17], [4, 47], [4, 72], [4, 89], [4, 90], [5, 2], [5, 3], [5, 6], [5, 9], [5, 11], [5, 27], [5, 53], [5, 87], [6, 2], [6, 5], [6, 82], [7, 0], [7, 2], [8, 2], [8, 3], [9, 2], [9, 5], [9, 14], [9, 17], [9, 28], [9, 34], [9, 52], [9, 53], [9, 56], [9, 65], [9, 70], [9, 85], [9, 93], [10, 3], [10, 4], [10, 11], [10, 13], [10, 15], [10, 16], [10, 18], [10, 21], [10, 27], [10, 29], [10, 35], [10, 40], [10, 49], [10, 60], [10, 62], [10, 65], [10, 76], [10, 77], [10, 97], [10, 99], [11, 5], [11, 10], [11, 19], [11, 46], [11, 82], [12, 3], [12, 4], [12, 30], [13, 3], [13, 10], [13, 16], [13, 26], [13, 66], [13, 90], [14, 2], [14, 9], [14, 55], [14, 68], [15, 4], [15, 10], [15, 31], [15, 48], [16, 10], [16, 13], [16, 20], [16, 24], [17, 4], [17, 9], [17, 18], [17, 22], [17, 50], [17, 81], [17, 92], [18, 10], [18, 17], [18, 23], [18, 25], [18, 35], [18, 36], [18, 39], [18, 56], [18, 57], [18, 74], [19, 3], [19, 11], [19, 54], [19, 68], [19, 81], [20, 2], [20, 16], [21, 2], [21, 10], [21, 23], [21, 31], [21, 33], [21, 69], [22, 2], [22, 17], [23, 18], [23, 21], [23, 28], [23, 58], [23, 78], [24, 2], [24, 16], [24, 45], [25, 0], [25, 18], [25, 44], [25, 67], [26, 3], [26, 13], [26, 32], [26, 44], [26, 61], [27, 5], [27, 10], [27, 92], [28, 9], [28, 23], [28, 36], [29, 3], [29, 10], [29, 64], [29, 80], [30, 2], [30, 12], [30, 46], [30, 72], [30, 91], [31, 15], [31, 21], [32, 3], [32, 26], [33, 2], [33, 21], [33, 52], [33, 97], [34, 2], [34, 9], [34, 45], [35, 10], [35, 18], [36, 18], [36, 28], [36, 41], [36, 63], [36, 88], [37, 2], [37, 3], [37, 40], [37, 47], [38, 2], [38, 3], [38, 51], [38, 78], [39, 2], [39, 18], [39, 93], [40, 10], [40, 37], [41, 0], [41, 36], [41, 51], [41, 71], [41, 73], [41, 79], [42, 2], [42, 3], [42, 62], [43, 0], [43, 2], [43, 57], [44, 25], [44, 26], [44, 83], [45, 24], [45, 34], [46, 11], [46, 30], [46, 67], [47, 4], [47, 37], [47, 91], [48, 3], [48, 15], [48, 60], [48, 85], [49, 3], [49, 10], [49, 86], [50, 3], [50, 17], [50, 89], [51, 38], [51, 41], [51, 99], [52, 9], [52, 33], [53, 5], [53, 9], [54, 2], [54, 19], [54, 58], [54, 59], [54, 98], [55, 2], [55, 14], [56, 9], [56, 18], [56, 70], [56, 73], [57, 18], [57, 43], [58, 23], [58, 54], [59, 3], [59, 54], [60, 10], [60, 48], [60, 95], [61, 2], [61, 26], [61, 98], [62, 10], [62, 42], [63, 2], [63, 36], [64, 2], [64, 29], [65, 9], [65, 10], [66, 2], [66, 13], [67, 25], [67, 46], [68, 14], [68, 19], [69, 3], [69, 21], [69, 83], [70, 9], [70, 56], [71, 3], [71, 41], [72, 4], [72, 30], [72, 77], [73, 41], [73, 56], [74, 2], [74, 18], [74, 84], [75, 2], [75, 3], [76, 2], [76, 10], [76, 86], [77, 10], [77, 72], [78, 23], [78, 38], [79, 2], [79, 41], [80, 3], [80, 29], [81, 17], [81, 19], [82, 6], [82, 11], [82, 96], [83, 44], [83, 69], [84, 2], [84, 74], [85, 9], [85, 48], [86, 49], [86, 76], [86, 95], [87, 2], [87, 5], [88, 0], [88, 36], [89, 4], [89, 50], [90, 4], [90, 13], [91, 30], [91, 47], [92, 17], [92, 27], [93, 9], [93, 39], [94, 0], [94, 2], [95, 60], [95, 86], [96, 3], [96, 82], [97, 10], [97, 33], [98, 54], [98, 61], [99, 10], [99, 51]]\n",
      "Paths:\n",
      " [[0. 0. 0. 1. 0. 0. 0. 0. 0. 0. 0. 0. 0. 0. 1. 0. 0. 0. 0. 0. 0. 0. 0. 0.\n",
      "  0. 0. 0. 0. 0. 0. 0. 0. 0. 0. 0. 0. 0. 0. 0. 0. 0. 0. 0. 0. 0. 1. 0. 0.\n",
      "  0. 0. 0. 0. 0. 0. 0. 0. 0. 0. 0. 0. 0. 0. 0. 0. 0. 0. 0. 0. 0. 0. 0. 0.\n",
      "  0. 0. 0. 0. 0. 0. 0. 0. 0. 0. 0. 0. 0. 0. 0. 0. 0. 0. 1. 0. 0. 0. 0. 0.\n",
      "  0. 0. 0. 0. 0. 0. 0. 0. 0. 0. 0. 0. 0. 0. 0. 0. 0. 0. 0. 0. 0. 0. 0. 0.\n",
      "  0. 0. 0. 0. 0. 0. 0. 0. 0. 0. 0. 0. 0. 0. 0. 0. 0. 0. 0. 0. 0. 0. 0. 0.\n",
      "  0. 0. 0. 0. 0. 0. 0. 0. 0. 0. 0. 0. 0. 0. 0. 0. 0. 0. 0. 0. 0. 0. 0. 0.\n",
      "  0. 0. 0. 0. 0. 0. 0. 0. 0. 0. 0. 0. 0. 0. 0. 0. 0. 0. 0. 0. 0. 0. 0. 0.\n",
      "  0. 0. 0. 0. 0. 0. 0. 0. 0. 0. 0. 0. 0. 0. 0. 0. 0. 0. 0. 0. 0. 0. 0. 0.\n",
      "  0. 0. 0. 0. 0. 0. 0. 0. 0. 0. 0. 0. 0. 0. 0. 0. 0. 0. 0. 0. 0. 0. 0. 0.\n",
      "  0. 0. 0. 0. 0. 0. 0. 0. 0. 0. 0. 0. 0. 0. 0. 0. 0. 0. 0. 0. 0. 0. 0. 0.\n",
      "  0. 0. 0. 0. 0. 0. 1. 0. 0. 0. 0. 0. 0. 0. 0. 0. 0. 0. 0. 0. 0. 0. 0. 0.\n",
      "  0. 0. 0. 0. 0. 0. 0. 0. 0. 0. 0. 0. 0. 0. 0. 0. 0. 1. 0. 0. 0. 0. 0. 0.\n",
      "  0. 0. 0. 0. 0. 0. 0. 0. 0. 0. 0. 0. 0. 0. 0. 0. 0. 0. 0. 0. 0. 0. 0. 0.\n",
      "  0. 0. 0. 0. 0. 0. 0. 0. 0. 0. 0. 0. 0. 0. 0. 0. 0. 0. 0. 0. 0. 0. 0. 0.\n",
      "  0. 0. 0. 0. 0. 0. 0. 0. 0. 0. 0. 0. 0. 0. 0. 0. 0. 0. 0. 0. 0. 0. 0. 0.\n",
      "  0. 0. 0. 0. 0. 0. 0. 0.]\n",
      " [0. 0. 0. 0. 0. 0. 0. 0. 0. 0. 0. 0. 0. 0. 1. 0. 0. 0. 0. 0. 0. 0. 0. 0.\n",
      "  0. 0. 0. 0. 0. 0. 0. 0. 0. 0. 0. 0. 0. 0. 0. 0. 0. 0. 0. 0. 0. 0. 1. 0.\n",
      "  0. 0. 0. 0. 0. 0. 0. 0. 0. 0. 0. 0. 0. 0. 0. 0. 0. 0. 0. 0. 0. 0. 0. 0.\n",
      "  0. 0. 0. 0. 0. 0. 0. 0. 0. 0. 1. 0. 0. 0. 0. 0. 0. 0. 0. 0. 0. 0. 0. 0.\n",
      "  0. 0. 0. 0. 0. 0. 0. 0. 0. 0. 0. 0. 0. 0. 0. 0. 0. 0. 0. 0. 0. 0. 0. 0.\n",
      "  0. 0. 0. 0. 0. 0. 0. 0. 0. 0. 0. 0. 0. 0. 0. 0. 0. 0. 0. 0. 0. 0. 0. 0.\n",
      "  0. 0. 0. 0. 0. 0. 0. 0. 0. 0. 0. 0. 0. 0. 0. 0. 0. 0. 0. 0. 0. 0. 0. 0.\n",
      "  0. 0. 0. 0. 0. 0. 0. 0. 0. 0. 0. 0. 0. 0. 0. 0. 0. 0. 0. 0. 0. 0. 0. 0.\n",
      "  0. 0. 0. 0. 0. 0. 0. 0. 0. 0. 0. 0. 0. 0. 0. 0. 0. 0. 0. 0. 0. 0. 0. 0.\n",
      "  0. 0. 1. 0. 0. 0. 0. 0. 0. 0. 0. 0. 0. 0. 0. 0. 0. 0. 0. 0. 0. 0. 0. 0.\n",
      "  0. 0. 0. 0. 0. 0. 0. 0. 0. 0. 0. 0. 0. 0. 0. 0. 0. 0. 0. 0. 0. 0. 0. 0.\n",
      "  0. 0. 0. 0. 0. 0. 0. 0. 0. 0. 0. 0. 0. 0. 0. 0. 0. 0. 0. 0. 0. 0. 0. 0.\n",
      "  0. 0. 0. 0. 0. 0. 0. 0. 0. 0. 0. 0. 0. 0. 0. 0. 0. 0. 0. 0. 0. 0. 0. 0.\n",
      "  0. 0. 0. 0. 0. 0. 0. 0. 0. 0. 0. 0. 0. 0. 0. 0. 0. 0. 0. 0. 0. 0. 0. 0.\n",
      "  0. 0. 0. 0. 0. 0. 0. 0. 0. 0. 0. 0. 0. 0. 0. 0. 0. 0. 0. 0. 0. 0. 0. 0.\n",
      "  0. 0. 0. 0. 0. 0. 0. 0. 0. 0. 0. 0. 0. 0. 0. 0. 0. 0. 0. 0. 0. 0. 0. 0.\n",
      "  0. 0. 0. 0. 0. 0. 0. 0.]]\n"
     ]
    }
   ],
   "source": [
    "flows, noiseless_flows, edge_adj, paths = flow_gen(sfg_G, sfg_pth[0:2], 2000, Range=2, zero_centered=True, \\\n",
    "                                                   processed_paths = False, noise_level=0.2)"
   ]
  },
  {
   "cell_type": "code",
   "execution_count": 71,
   "metadata": {
    "collapsed": true
   },
   "outputs": [
    {
     "name": "stdout",
     "output_type": "stream",
     "text": [
      "noiseless:\n",
      " [[ 0.          0.          0.         -0.23747479  0.          0.\n",
      "   0.          0.          0.          0.          0.          0.\n",
      "   0.          0.          0.          0.          0.99925106  0.\n",
      "   0.          0.          0.          0.          0.          0.\n",
      "   0.          0.          0.          0.          0.          0.\n",
      "   0.          0.          0.          0.          0.          0.\n",
      "   0.          0.          0.          0.          0.          0.\n",
      "   0.          0.          0.          0.99925106  0.          0.\n",
      "   0.          0.          0.          0.          0.          0.\n",
      "   0.          0.          0.          0.          0.          0.\n",
      "   0.          0.          0.          0.          0.          0.\n",
      "   0.          0.          0.          0.          0.          0.\n",
      "   0.          0.          0.          0.          0.          0.\n",
      "   0.          0.          0.         -0.43117308  0.          0.\n",
      "  -0.23747479  0.          0.          0.          0.          0.\n",
      "   0.          0.          0.          0.          0.          0.\n",
      "   0.          0.          0.          0.          0.          0.\n",
      "   0.          0.          0.          0.          0.          0.\n",
      "   0.          0.          0.          0.          0.          0.\n",
      "   0.         -0.23747479  0.          0.          0.          0.\n",
      "   0.         -0.23747479  0.          0.          0.          0.\n",
      "   0.          0.          0.          0.          0.          0.\n",
      "  -0.43117308  0.          0.          0.          0.          0.\n",
      "   0.99925106  0.          0.          0.          0.          0.\n",
      "   0.          0.          0.          0.          0.          0.\n",
      "   0.          0.          0.          0.          0.          0.\n",
      "   0.          0.          0.          0.          0.          0.\n",
      "   0.          0.          0.          0.          0.          0.\n",
      "   0.          0.          0.          0.          0.          0.\n",
      "   0.          0.          0.          0.          0.          0.\n",
      "   0.          0.          0.          0.          0.          0.\n",
      "   0.          0.          0.          0.          0.          0.\n",
      "   0.          0.          0.          0.          0.          0.\n",
      "   0.          0.          0.          0.          0.          0.\n",
      "   0.          0.          0.          0.          0.          0.\n",
      "   0.          0.          0.          0.          0.99925106  0.\n",
      "   0.          0.          0.          0.          0.          0.\n",
      "   0.          0.          0.          0.          0.          0.\n",
      "   0.          0.          0.          0.          0.          0.\n",
      "   0.          0.          0.          0.          0.          0.\n",
      "   0.          0.          0.          0.          0.          0.\n",
      "   0.          0.          0.          0.          0.          0.\n",
      "   0.          0.          0.          0.          0.          0.\n",
      "   0.          0.          0.          0.          0.          0.\n",
      "   0.         -0.43117308  0.          0.          0.          0.\n",
      "   0.          0.          0.          0.          0.          0.\n",
      "   0.          0.          0.          0.          0.          0.\n",
      "   0.          0.          0.          0.          0.          0.\n",
      "   0.          0.          0.          0.          0.          0.\n",
      "   0.          0.          0.          0.          0.          0.\n",
      "   0.          0.          0.          0.          0.          0.\n",
      "   0.         -0.43117308  0.          0.        ]]\n",
      "with noise:\n",
      " [[-0.05706418 -0.04799646  0.22946424 -0.50479209 -0.04827376  0.29097029\n",
      "  -0.00600267 -0.62431912 -0.34387436 -0.56842927  0.00166838  0.23650915\n",
      "   0.08916515  0.57668451 -0.80827695  0.078401    0.80908804  0.48394222\n",
      "   0.37510843  0.00522459  0.37731581 -0.75129017  0.20150079  0.43661398\n",
      "  -0.41507111  0.56348793 -0.34892648  0.00713849  0.61941353  0.43120157\n",
      "  -0.41452547 -0.13147561 -0.09718278  0.28239783  0.53574207 -0.60202704\n",
      "   0.34484157  0.24482421 -0.36661246  0.28416192  0.41548896  0.52601659\n",
      "  -0.07877408  0.28195956 -0.21436865  0.03486933  0.29049056  0.41160962\n",
      "  -0.03293571  0.36107911 -0.09829414  0.37233168  0.45603385  0.00859355\n",
      "   0.3281625   0.03157305 -0.29014809 -0.06791074  0.42858634  0.27004465\n",
      "   0.73850283  0.32032967  0.70382147  0.36089298 -0.13701336 -0.00292331\n",
      "   0.0403093   0.32171811 -0.46160564 -0.77545376 -0.66495289  0.64993713\n",
      "  -0.28777171  0.15637992 -0.48268503  0.78887931  0.48550362 -0.04920463\n",
      "  -0.25071488 -0.5073881   0.0222373  -0.39926612  0.25249178  0.11645394\n",
      "  -0.28422998 -0.06448952  0.34072025  0.32249209 -0.6916984  -0.11254195\n",
      "  -0.50008176  0.41145525  0.18491319 -0.03990723 -1.02301665  0.01004776\n",
      "  -0.71379902 -0.65990029  0.24383631  0.42553137 -0.08412513 -0.31943822\n",
      "   0.64385838  0.21435783 -0.64927959  0.18376651  0.30541396 -0.10838582\n",
      "   0.06061273  0.33144724 -0.34594648  0.04042313  0.07123711 -0.55004476\n",
      "  -0.46261594  0.18230989 -0.35476375  0.10278714 -0.02246612 -0.38382165\n",
      "  -0.24829607 -0.76784343 -0.29451493  0.1847347   0.37681062  0.36514425\n",
      "   0.16588252  0.17021544 -0.409692    0.42595662 -0.42622257 -0.62755342\n",
      "   0.14366021  0.47506752  0.1782223   0.44430507 -0.23977468  1.37102672\n",
      "   1.66215652 -0.35640749  0.34079978  0.2576621  -0.02427768  0.50527162\n",
      "   0.60081959 -0.04582605 -0.0817791  -0.52569786  0.01171359  0.32928994\n",
      "  -0.16371531  0.30895203 -0.5218763  -0.11197738  0.19113573 -0.15962777\n",
      "  -0.2463741  -0.20166103 -0.21212582 -0.20194891 -0.14629826 -0.05530807\n",
      "  -0.25436635  0.08734189 -0.34572883  0.59498579  0.04473723  0.09105781\n",
      "   0.29867405 -0.83882944  0.36657678  0.63971717  0.74310801 -0.14726875\n",
      "   0.05094879 -0.47647552  0.06158021 -0.07801835  0.20483768  0.07810043\n",
      "   0.20291583  0.19838764  0.33212099  0.3196315   0.38760408  0.02186243\n",
      "   0.14140101  0.13806838  0.37254983 -0.1885971   0.05555791 -0.23054608\n",
      "  -0.19591816  0.3036563  -0.10071257 -0.10020681 -0.23559632  0.12254836\n",
      "   0.52834287 -0.05534836  0.52486673  0.38670183  0.13535264  0.13483328\n",
      "   0.52832998  0.16801364 -0.63726121  0.0940492   0.23179138 -0.16987316\n",
      "   0.21348533  0.18523022  0.00167968  0.4035101   1.45804981  0.3663866\n",
      "  -0.14033859  0.3872541  -0.0464907  -0.11536651 -0.52671352 -0.04652001\n",
      "  -0.40510191 -0.01117582  0.38105332  0.63556972  0.25600742  0.33985459\n",
      "   0.21179568  0.56796211 -0.85843563  0.25497198  0.46541003  0.26326293\n",
      "  -0.70124559  0.08143863 -0.23413209  0.05215896  0.16983487  0.05828368\n",
      "  -0.202951    0.12378868 -0.58786181  0.52540802 -0.15326313 -0.35077935\n",
      "   0.15342357  0.41555202  0.32750659 -0.49373899 -0.0209119  -0.64807593\n",
      "   0.17699112 -0.46394906 -0.60543944 -0.44410213  0.5558142  -0.06811091\n",
      "   0.14916806 -0.74432829  0.48176975 -0.03162048  0.92230262  0.01169042\n",
      "   0.43759763 -1.00771325 -0.12236881  0.28388949 -0.14557792  0.48316236\n",
      "  -0.20317688 -0.40927214  0.22353211  0.50867484 -0.53571444 -0.33985309\n",
      "   0.09625894 -0.53902533 -0.50709829 -0.52495982 -0.15522298  1.38175016\n",
      "   0.70909819  0.24038628  0.27467966  0.09215725 -0.01188178 -0.29531464\n",
      "   0.58026635  0.04515227 -0.23875414  0.18239599 -0.25890598 -0.91937747\n",
      "  -0.65152767 -0.56726102 -0.45654209  0.12175547  0.80043409  0.58904173\n",
      "  -1.10170848 -0.04195367 -0.16336855 -0.69821764  0.28568532  0.48846059\n",
      "   0.10153555 -0.411651    0.21545119  0.49350724]]\n"
     ]
    },
    {
     "data": {
      "text/plain": [
       "(2000, 310)"
      ]
     },
     "execution_count": 71,
     "metadata": {},
     "output_type": "execute_result"
    }
   ],
   "source": [
    "print('noiseless:\\n',noiseless_flows[0:1])\n",
    "print('with noise:\\n',flows[0:1])\n",
    "noiseless_flows.shape"
   ]
  },
  {
   "cell_type": "code",
   "execution_count": 54,
   "metadata": {},
   "outputs": [],
   "source": [
    "np.save('flows.npy', flows)\n",
    "np.save('noiseless_flows.npy', noiseless_flows)\n",
    "np.save('adj.npy', edge_adj)\n",
    "np.save('paths.npy', paths)\n",
    "np.save('graph.npy', G)"
   ]
  },
  {
   "cell_type": "code",
   "execution_count": 16,
   "metadata": {},
   "outputs": [
    {
     "name": "stdout",
     "output_type": "stream",
     "text": [
      "[ 0.          0.          0.          0.          0.          0.\n",
      " 48.98215367  0.          0.          0.          0.          0.\n",
      "  0.          0.         48.98215367  0.          0.          0.\n",
      "  0.          0.         48.98215367  0.          0.          0.\n",
      "  0.          0.          0.         48.98215367  0.          0.\n",
      "  0.          0.          0.          0.          0.          0.\n",
      "  0.          0.          0.          0.          0.          0.\n",
      "  0.          0.          0.          0.          0.          0.\n",
      "  0.          0.          0.          0.          0.          0.        ]\n"
     ]
    }
   ],
   "source": [
    "print(noiseless_flows[0])"
   ]
  }
 ],
 "metadata": {
  "kernelspec": {
   "display_name": "Python 3",
   "language": "python",
   "name": "python3"
  },
  "language_info": {
   "codemirror_mode": {
    "name": "ipython",
    "version": 3
   },
   "file_extension": ".py",
   "mimetype": "text/x-python",
   "name": "python",
   "nbconvert_exporter": "python",
   "pygments_lexer": "ipython3",
   "version": "3.8.2"
  }
 },
 "nbformat": 4,
 "nbformat_minor": 4
}
