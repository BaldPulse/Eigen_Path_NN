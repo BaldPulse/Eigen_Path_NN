{
 "cells": [
  {
   "cell_type": "code",
   "execution_count": 2,
   "metadata": {},
   "outputs": [],
   "source": [
    "import numpy as np\n",
    "import networkx as nx\n",
    "import networkx.generators.random_graphs as nxrg"
   ]
  },
  {
   "cell_type": "code",
   "execution_count": 3,
   "metadata": {},
   "outputs": [],
   "source": [
    "def adjacency_gen(nnodes, undirected = False):\n",
    "    adj = np.random.randint(2, size = (nnodes, nnodes), dtype = int)\n",
    "    for i in range(nnodes):\n",
    "        adj[i,i] = 0\n",
    "    if(undirected):\n",
    "        for i in range(nnodes):\n",
    "            for j in range(i):\n",
    "                adj[i,j] = adj[j,i]\n",
    "    return adj"
   ]
  },
  {
   "cell_type": "code",
   "execution_count": 34,
   "metadata": {},
   "outputs": [],
   "source": [
    "def flow_gen(adj, paths, nsample, Range=10, backflow = False):\n",
    "    '''\n",
    "    generates flow samples based on eigenpaths with gaussian noise\n",
    "    input:\n",
    "    adj: adjacency matrix of graph, rows represent staring nodes, columns representing destination nodes\n",
    "    paths: eigenpaths of a fixed length, \n",
    "        must be in the format [s1, d1, w1], [s2=d1, d2, w2], ... [sl=d(l-1), dl, wl]\n",
    "        where s is the starting node of the edge, d is the ending node of the edge\n",
    "        and w is the weight of each edge in the path\n",
    "    nsample: number of samples generated\n",
    "    backflow: allow edge adjacency matrix to have backflow, making it symetric\n",
    "    noise: add gaussian noise or not\n",
    "    \n",
    "    output:\n",
    "    sample: nsample * nedges np array\n",
    "    edge_adj: edge adjacency matrix\n",
    "    '''\n",
    "    \n",
    "    for p in paths:\n",
    "        prev_end = None\n",
    "        for e in p:\n",
    "            assert adj[e[0], e[1]] == 1 #all paths must exist\n",
    "            assert prev_end is None or e[0] == prev_end #all paths must be valid\n",
    "            prev_end = e[1]\n",
    "    \n",
    "    #encode adjacency matrix into edge vector\n",
    "    nEdges = 0\n",
    "    Edges = []\n",
    "    for start in range(adj.shape[0]):\n",
    "        for dest in range(adj.shape[0]):\n",
    "            if(adj[start, dest] == 1):\n",
    "                nEdges += 1\n",
    "                Edges.append([start, dest])\n",
    "    print(\"Edges:\\n\", Edges)\n",
    "    \n",
    "    Paths = np.zeros((len(paths), nEdges), dtype = float)\n",
    "    for p in range(len(paths)):\n",
    "        for e in range(len(paths[0])):\n",
    "            Paths[p, Edges.index(paths[p][e][0:2])] = paths[p][e][2]\n",
    "    print(\"Paths:\\n\", Paths)\n",
    "    \n",
    "    sample = np.zeros((nsample, nEdges), dtype = float)\n",
    "    noiseless_sample = np.zeros((nsample, nEdges), dtype = float)\n",
    "    for i in range(nsample):\n",
    "        w = np.random.rand(len(paths))*Range #random weight for each path\n",
    "        sample[i,:] += w@Paths + np.random.randn(nEdges)\n",
    "        noiseless_sample[i,:] += w@Paths\n",
    "        \n",
    "    #transform adjacency matrix into edge adjacecny matrix\n",
    "    edge_adj = np.zeros((nEdges, nEdges), dtype = int)\n",
    "    for e in range(nEdges):\n",
    "        for i in range(adj.shape[0]):\n",
    "            if(adj[Edges[e][1], i] == 1):\n",
    "                edge_adj[e, Edges.index([Edges[e][1], i])] = 1\n",
    "    \n",
    "    if(backflow == True):\n",
    "        for i in range(nEdges):\n",
    "            for j in range(i):\n",
    "                if(edge_adj[i.j] == 1 or edge_adj[j,i] == 1):\n",
    "                    edge_adj[i,j] = 1 \n",
    "                    edge_adj[j,i] = 1\n",
    "    \n",
    "    return sample, noiseless_sample, edge_adj, Paths"
   ]
  },
  {
   "cell_type": "code",
   "execution_count": 24,
   "metadata": {},
   "outputs": [],
   "source": [
    "def path_gen(paths, weighted = False):\n",
    "    results = []\n",
    "    for pth in paths:\n",
    "        print(pth)\n",
    "        w_pth = []\n",
    "        if weighted:\n",
    "            weights = np.random.uniform(low = 5.0, high = 15.0, size = (len(pth)-1, ))\n",
    "            for i in range(len(pth) - 1):\n",
    "                w_pth.append([pth[i], pth[i+1], int(weights[i]) ])\n",
    "        else:\n",
    "            for i in range(len(pth) - 1):\n",
    "                w_pth.append([pth[i], pth[i+1], 1 ])\n",
    "            \n",
    "        results.append(w_pth)\n",
    "    return results"
   ]
  },
  {
   "cell_type": "code",
   "execution_count": 13,
   "metadata": {},
   "outputs": [
    {
     "name": "stdout",
     "output_type": "stream",
     "text": [
      "[[0 1 1 0 1 1 1 1 0 0]\n",
      " [0 0 0 1 0 1 0 1 0 1]\n",
      " [1 0 0 0 1 0 0 1 0 0]\n",
      " [0 0 0 0 0 1 1 1 0 0]\n",
      " [1 1 0 0 0 0 0 0 0 0]\n",
      " [1 0 1 0 1 0 1 0 0 1]\n",
      " [0 0 1 0 1 0 0 0 1 1]\n",
      " [1 1 0 0 1 1 0 0 1 1]\n",
      " [0 1 1 0 1 1 0 1 0 1]\n",
      " [0 1 0 0 0 1 0 0 0 0]]\n"
     ]
    }
   ],
   "source": [
    "G = adjacency_gen(10, undirected = False)\n",
    "print(G)"
   ]
  },
  {
   "cell_type": "code",
   "execution_count": 19,
   "metadata": {},
   "outputs": [
    {
     "name": "stdout",
     "output_type": "stream",
     "text": [
      "[[0 1 1 1 0 1 0 0 0 1]\n",
      " [1 0 0 1 1 0 0 0 0 1]\n",
      " [1 0 0 0 0 1 1 1 1 0]\n",
      " [1 1 0 0 1 1 1 1 0 0]\n",
      " [0 1 0 1 0 1 0 1 1 1]\n",
      " [1 0 1 1 1 0 1 1 0 1]\n",
      " [0 0 1 1 0 1 0 0 0 0]\n",
      " [0 0 1 1 1 1 0 0 0 1]\n",
      " [0 0 1 0 1 0 0 0 0 0]\n",
      " [1 1 0 0 1 1 0 1 0 0]]\n"
     ]
    }
   ],
   "source": [
    "gnp = nxrg.fast_gnp_random_graph(10, 0.5, seed=None, directed=False)\n",
    "gnp_G = nx.adjacency_matrix(gnp).toarray()\n",
    "print(gnp_G)"
   ]
  },
  {
   "cell_type": "code",
   "execution_count": 21,
   "metadata": {},
   "outputs": [
    {
     "name": "stdout",
     "output_type": "stream",
     "text": [
      "[[0 1 1 1 0 1 0 1 1 1]\n",
      " [1 0 1 1 0 1 0 1 1 1]\n",
      " [1 1 0 1 1 0 0 1 0 0]\n",
      " [1 1 1 0 1 1 0 1 1 0]\n",
      " [0 0 1 1 0 1 1 1 1 0]\n",
      " [1 1 0 1 1 0 1 1 1 0]\n",
      " [0 0 0 0 1 1 0 1 1 1]\n",
      " [1 1 1 1 1 1 1 0 1 1]\n",
      " [1 1 0 1 1 1 1 1 0 1]\n",
      " [1 1 0 0 0 0 1 1 1 0]]\n"
     ]
    }
   ],
   "source": [
    "swg = nxrg.newman_watts_strogatz_graph(10, 4, 0.5)\n",
    "swg_G = nx.adjacency_matrix(swg).toarray()\n",
    "print(swg_G)"
   ]
  },
  {
   "cell_type": "code",
   "execution_count": 79,
   "metadata": {},
   "outputs": [
    {
     "name": "stdout",
     "output_type": "stream",
     "text": [
      "[[0 0 1 1 0 0 1 1 0 0]\n",
      " [0 0 1 0 0 0 0 0 0 0]\n",
      " [1 1 0 1 1 1 0 1 1 1]\n",
      " [1 0 1 0 1 1 1 0 1 1]\n",
      " [0 0 1 1 0 0 0 0 0 0]\n",
      " [0 0 1 1 0 0 0 0 0 0]\n",
      " [1 0 0 1 0 0 0 0 0 0]\n",
      " [1 0 1 0 0 0 0 0 0 0]\n",
      " [0 0 1 1 0 0 0 0 0 0]\n",
      " [0 0 1 1 0 0 0 0 0 0]]\n"
     ]
    }
   ],
   "source": [
    "sfg = nxrg.barabasi_albert_graph(10, 2)\n",
    "sfg_G = nx.adjacency_matrix(sfg).toarray()\n",
    "print(sfg_G)"
   ]
  },
  {
   "cell_type": "code",
   "execution_count": 13,
   "metadata": {},
   "outputs": [
    {
     "name": "stdout",
     "output_type": "stream",
     "text": [
      "[[0 1 1 0 0 1 0 0 1 1]\n",
      " [1 0 1 1 1 0 1 1 0 1]\n",
      " [1 1 0 1 1 1 0 1 0 0]\n",
      " [0 1 1 0 1 1 0 0 0 1]\n",
      " [0 1 1 1 0 1 1 0 0 0]\n",
      " [1 0 1 1 1 0 1 1 0 0]\n",
      " [0 1 0 0 1 1 0 1 1 0]\n",
      " [0 1 1 0 0 1 1 0 1 1]\n",
      " [1 0 0 0 0 0 1 1 0 1]\n",
      " [1 1 0 1 0 0 0 1 1 0]]\n"
     ]
    }
   ],
   "source": [
    "G = np.load('graph.npy')\n",
    "print(G)"
   ]
  },
  {
   "cell_type": "code",
   "execution_count": 20,
   "metadata": {},
   "outputs": [
    {
     "ename": "NodeNotFound",
     "evalue": "target node 8 not in graph",
     "output_type": "error",
     "traceback": [
      "\u001b[0;31m---------------------------------------------------------------------------\u001b[0m",
      "\u001b[0;31mTypeError\u001b[0m                                 Traceback (most recent call last)",
      "\u001b[0;32m~/.local/lib/python3.8/site-packages/networkx/algorithms/simple_paths.py\u001b[0m in \u001b[0;36mall_simple_paths\u001b[0;34m(G, source, target, cutoff)\u001b[0m\n\u001b[1;32m    235\u001b[0m         \u001b[0;32mtry\u001b[0m\u001b[0;34m:\u001b[0m\u001b[0;34m\u001b[0m\u001b[0;34m\u001b[0m\u001b[0m\n\u001b[0;32m--> 236\u001b[0;31m             \u001b[0mtargets\u001b[0m \u001b[0;34m=\u001b[0m \u001b[0mset\u001b[0m\u001b[0;34m(\u001b[0m\u001b[0mtarget\u001b[0m\u001b[0;34m)\u001b[0m\u001b[0;34m\u001b[0m\u001b[0;34m\u001b[0m\u001b[0m\n\u001b[0m\u001b[1;32m    237\u001b[0m         \u001b[0;32mexcept\u001b[0m \u001b[0mTypeError\u001b[0m\u001b[0;34m:\u001b[0m\u001b[0;34m\u001b[0m\u001b[0;34m\u001b[0m\u001b[0m\n",
      "\u001b[0;31mTypeError\u001b[0m: 'int' object is not iterable",
      "\nDuring handling of the above exception, another exception occurred:\n",
      "\u001b[0;31mNodeNotFound\u001b[0m                              Traceback (most recent call last)",
      "\u001b[0;32m<ipython-input-20-94de95b24c40>\u001b[0m in \u001b[0;36m<module>\u001b[0;34m\u001b[0m\n\u001b[0;32m----> 1\u001b[0;31m \u001b[0mspaths\u001b[0m \u001b[0;34m=\u001b[0m \u001b[0mnx\u001b[0m\u001b[0;34m.\u001b[0m\u001b[0mall_simple_paths\u001b[0m\u001b[0;34m(\u001b[0m\u001b[0mG\u001b[0m\u001b[0;34m,\u001b[0m \u001b[0;36m1\u001b[0m\u001b[0;34m,\u001b[0m \u001b[0;36m8\u001b[0m\u001b[0;34m)\u001b[0m\u001b[0;34m\u001b[0m\u001b[0;34m\u001b[0m\u001b[0m\n\u001b[0m\u001b[1;32m      2\u001b[0m \u001b[0mprint\u001b[0m\u001b[0;34m(\u001b[0m\u001b[0mlist\u001b[0m\u001b[0;34m(\u001b[0m\u001b[0mspaths\u001b[0m\u001b[0;34m)\u001b[0m\u001b[0;34m)\u001b[0m\u001b[0;34m\u001b[0m\u001b[0;34m\u001b[0m\u001b[0m\n",
      "\u001b[0;32m~/.local/lib/python3.8/site-packages/networkx/algorithms/simple_paths.py\u001b[0m in \u001b[0;36mall_simple_paths\u001b[0;34m(G, source, target, cutoff)\u001b[0m\n\u001b[1;32m    236\u001b[0m             \u001b[0mtargets\u001b[0m \u001b[0;34m=\u001b[0m \u001b[0mset\u001b[0m\u001b[0;34m(\u001b[0m\u001b[0mtarget\u001b[0m\u001b[0;34m)\u001b[0m\u001b[0;34m\u001b[0m\u001b[0;34m\u001b[0m\u001b[0m\n\u001b[1;32m    237\u001b[0m         \u001b[0;32mexcept\u001b[0m \u001b[0mTypeError\u001b[0m\u001b[0;34m:\u001b[0m\u001b[0;34m\u001b[0m\u001b[0;34m\u001b[0m\u001b[0m\n\u001b[0;32m--> 238\u001b[0;31m             \u001b[0;32mraise\u001b[0m \u001b[0mnx\u001b[0m\u001b[0;34m.\u001b[0m\u001b[0mNodeNotFound\u001b[0m\u001b[0;34m(\u001b[0m\u001b[0;34m'target node %s not in graph'\u001b[0m \u001b[0;34m%\u001b[0m \u001b[0mtarget\u001b[0m\u001b[0;34m)\u001b[0m\u001b[0;34m\u001b[0m\u001b[0;34m\u001b[0m\u001b[0m\n\u001b[0m\u001b[1;32m    239\u001b[0m     \u001b[0;32mif\u001b[0m \u001b[0msource\u001b[0m \u001b[0;32min\u001b[0m \u001b[0mtargets\u001b[0m\u001b[0;34m:\u001b[0m\u001b[0;34m\u001b[0m\u001b[0;34m\u001b[0m\u001b[0m\n\u001b[1;32m    240\u001b[0m         \u001b[0;32mreturn\u001b[0m \u001b[0;34m[\u001b[0m\u001b[0;34m]\u001b[0m\u001b[0;34m\u001b[0m\u001b[0;34m\u001b[0m\u001b[0m\n",
      "\u001b[0;31mNodeNotFound\u001b[0m: target node 8 not in graph"
     ]
    }
   ],
   "source": [
    "spaths = nx.all_simple_paths(G, 1, 8)\n",
    "print(list(spaths))"
   ]
  },
  {
   "cell_type": "code",
   "execution_count": 19,
   "metadata": {},
   "outputs": [
    {
     "data": {
      "image/png": "[encoded data removed]",
      "text/plain": [
       "<Figure size 432x288 with 1 Axes>"
      ]
     },
     "metadata": {},
     "output_type": "display_data"
    }
   ],
   "source": [
    "DiG = nx.from_numpy_matrix(G, create_using=nx.DiGraph())\n",
    "nx.draw_networkx(DiG, with_label = True) "
   ]
  },
  {
   "cell_type": "code",
   "execution_count": 22,
   "metadata": {},
   "outputs": [
    {
     "name": "stdout",
     "output_type": "stream",
     "text": [
      "[[1, 0, 2, 3, 4, 5, 6, 7, 8], [1, 0, 2, 3, 4, 5, 6, 7, 9, 8], [1, 0, 2, 3, 4, 5, 6, 8], [1, 0, 2, 3, 4, 5, 7, 6, 8], [1, 0, 2, 3, 4, 5, 7, 8], [1, 0, 2, 3, 4, 5, 7, 9, 8], [1, 0, 2, 3, 4, 6, 5, 7, 8], [1, 0, 2, 3, 4, 6, 5, 7, 9, 8], [1, 0, 2, 3, 4, 6, 7, 8], [1, 0, 2, 3, 4, 6, 7, 9, 8], [1, 0, 2, 3, 4, 6, 8], [1, 0, 2, 3, 5, 4, 6, 7, 8], [1, 0, 2, 3, 5, 4, 6, 7, 9, 8], [1, 0, 2, 3, 5, 4, 6, 8], [1, 0, 2, 3, 5, 6, 7, 8], [1, 0, 2, 3, 5, 6, 7, 9, 8], [1, 0, 2, 3, 5, 6, 8], [1, 0, 2, 3, 5, 7, 6, 8], [1, 0, 2, 3, 5, 7, 8], [1, 0, 2, 3, 5, 7, 9, 8], [1, 0, 2, 3, 9, 7, 5, 4, 6, 8], [1, 0, 2, 3, 9, 7, 5, 6, 8], [1, 0, 2, 3, 9, 7, 6, 8], [1, 0, 2, 3, 9, 7, 8], [1, 0, 2, 3, 9, 8], [1, 0, 2, 4, 3, 5, 6, 7, 8], [1, 0, 2, 4, 3, 5, 6, 7, 9, 8], [1, 0, 2, 4, 3, 5, 6, 8], [1, 0, 2, 4, 3, 5, 7, 6, 8], [1, 0, 2, 4, 3, 5, 7, 8], [1, 0, 2, 4, 3, 5, 7, 9, 8], [1, 0, 2, 4, 3, 9, 7, 5, 6, 8], [1, 0, 2, 4, 3, 9, 7, 6, 8], [1, 0, 2, 4, 3, 9, 7, 8], [1, 0, 2, 4, 3, 9, 8], [1, 0, 2, 4, 5, 3, 9, 7, 6, 8], [1, 0, 2, 4, 5, 3, 9, 7, 8], [1, 0, 2, 4, 5, 3, 9, 8], [1, 0, 2, 4, 5, 6, 7, 8], [1, 0, 2, 4, 5, 6, 7, 9, 8], [1, 0, 2, 4, 5, 6, 8], [1, 0, 2, 4, 5, 7, 6, 8], [1, 0, 2, 4, 5, 7, 8], [1, 0, 2, 4, 5, 7, 9, 8], [1, 0, 2, 4, 6, 5, 3, 9, 7, 8], [1, 0, 2, 4, 6, 5, 3, 9, 8], [1, 0, 2, 4, 6, 5, 7, 8], [1, 0, 2, 4, 6, 5, 7, 9, 8], [1, 0, 2, 4, 6, 7, 5, 3, 9, 8], [1, 0, 2, 4, 6, 7, 8], [1, 0, 2, 4, 6, 7, 9, 8], [1, 0, 2, 4, 6, 8], [1, 0, 2, 5, 3, 4, 6, 7, 8], [1, 0, 2, 5, 3, 4, 6, 7, 9, 8], [1, 0, 2, 5, 3, 4, 6, 8], [1, 0, 2, 5, 3, 9, 7, 6, 8], [1, 0, 2, 5, 3, 9, 7, 8], [1, 0, 2, 5, 3, 9, 8], [1, 0, 2, 5, 4, 3, 9, 7, 6, 8], [1, 0, 2, 5, 4, 3, 9, 7, 8], [1, 0, 2, 5, 4, 3, 9, 8], [1, 0, 2, 5, 4, 6, 7, 8], [1, 0, 2, 5, 4, 6, 7, 9, 8], [1, 0, 2, 5, 4, 6, 8], [1, 0, 2, 5, 6, 4, 3, 9, 7, 8], [1, 0, 2, 5, 6, 4, 3, 9, 8], [1, 0, 2, 5, 6, 7, 8], [1, 0, 2, 5, 6, 7, 9, 8], [1, 0, 2, 5, 6, 8], [1, 0, 2, 5, 7, 6, 4, 3, 9, 8], [1, 0, 2, 5, 7, 6, 8], [1, 0, 2, 5, 7, 8], [1, 0, 2, 5, 7, 9, 3, 4, 6, 8], [1, 0, 2, 5, 7, 9, 8], [1, 0, 2, 7, 5, 3, 4, 6, 8], [1, 0, 2, 7, 5, 3, 9, 8], [1, 0, 2, 7, 5, 4, 3, 9, 8], [1, 0, 2, 7, 5, 4, 6, 8], [1, 0, 2, 7, 5, 6, 4, 3, 9, 8], [1, 0, 2, 7, 5, 6, 8], [1, 0, 2, 7, 6, 4, 3, 9, 8], [1, 0, 2, 7, 6, 4, 5, 3, 9, 8], [1, 0, 2, 7, 6, 5, 3, 9, 8], [1, 0, 2, 7, 6, 5, 4, 3, 9, 8], [1, 0, 2, 7, 6, 8], [1, 0, 2, 7, 8], [1, 0, 2, 7, 9, 3, 4, 5, 6, 8], [1, 0, 2, 7, 9, 3, 4, 6, 8], [1, 0, 2, 7, 9, 3, 5, 4, 6, 8], [1, 0, 2, 7, 9, 3, 5, 6, 8], [1, 0, 2, 7, 9, 8], [1, 0, 5, 2, 3, 4, 6, 7, 8], [1, 0, 5, 2, 3, 4, 6, 7, 9, 8], [1, 0, 5, 2, 3, 4, 6, 8], [1, 0, 5, 2, 3, 9, 7, 6, 8], [1, 0, 5, 2, 3, 9, 7, 8], [1, 0, 5, 2, 3, 9, 8], [1, 0, 5, 2, 4, 3, 9, 7, 6, 8], [1, 0, 5, 2, 4, 3, 9, 7, 8], [1, 0, 5, 2, 4, 3, 9, 8], [1, 0, 5, 2, 4, 6, 7, 8], [1, 0, 5, 2, 4, 6, 7, 9, 8], [1, 0, 5, 2, 4, 6, 8], [1, 0, 5, 2, 7, 6, 4, 3, 9, 8], [1, 0, 5, 2, 7, 6, 8], [1, 0, 5, 2, 7, 8], [1, 0, 5, 2, 7, 9, 3, 4, 6, 8], [1, 0, 5, 2, 7, 9, 8], [1, 0, 5, 3, 2, 4, 6, 7, 8], [1, 0, 5, 3, 2, 4, 6, 7, 9, 8], [1, 0, 5, 3, 2, 4, 6, 8], [1, 0, 5, 3, 2, 7, 6, 8], [1, 0, 5, 3, 2, 7, 8], [1, 0, 5, 3, 2, 7, 9, 8], [1, 0, 5, 3, 4, 2, 7, 6, 8], [1, 0, 5, 3, 4, 2, 7, 8], [1, 0, 5, 3, 4, 2, 7, 9, 8], [1, 0, 5, 3, 4, 6, 7, 8], [1, 0, 5, 3, 4, 6, 7, 9, 8], [1, 0, 5, 3, 4, 6, 8], [1, 0, 5, 3, 9, 7, 2, 4, 6, 8], [1, 0, 5, 3, 9, 7, 6, 8], [1, 0, 5, 3, 9, 7, 8], [1, 0, 5, 3, 9, 8], [1, 0, 5, 4, 2, 3, 9, 7, 6, 8], [1, 0, 5, 4, 2, 3, 9, 7, 8], [1, 0, 5, 4, 2, 3, 9, 8], [1, 0, 5, 4, 2, 7, 6, 8], [1, 0, 5, 4, 2, 7, 8], [1, 0, 5, 4, 2, 7, 9, 8], [1, 0, 5, 4, 3, 2, 7, 6, 8], [1, 0, 5, 4, 3, 2, 7, 8], [1, 0, 5, 4, 3, 2, 7, 9, 8], [1, 0, 5, 4, 3, 9, 7, 6, 8], [1, 0, 5, 4, 3, 9, 7, 8], [1, 0, 5, 4, 3, 9, 8], [1, 0, 5, 4, 6, 7, 2, 3, 9, 8], [1, 0, 5, 4, 6, 7, 8], [1, 0, 5, 4, 6, 7, 9, 8], [1, 0, 5, 4, 6, 8], [1, 0, 5, 6, 4, 2, 3, 9, 7, 8], [1, 0, 5, 6, 4, 2, 3, 9, 8], [1, 0, 5, 6, 4, 2, 7, 8], [1, 0, 5, 6, 4, 2, 7, 9, 8], [1, 0, 5, 6, 4, 3, 2, 7, 8], [1, 0, 5, 6, 4, 3, 2, 7, 9, 8], [1, 0, 5, 6, 4, 3, 9, 7, 8], [1, 0, 5, 6, 4, 3, 9, 8], [1, 0, 5, 6, 7, 2, 3, 9, 8], [1, 0, 5, 6, 7, 2, 4, 3, 9, 8], [1, 0, 5, 6, 7, 8], [1, 0, 5, 6, 7, 9, 8], [1, 0, 5, 6, 8], [1, 0, 5, 7, 2, 3, 4, 6, 8], [1, 0, 5, 7, 2, 3, 9, 8], [1, 0, 5, 7, 2, 4, 3, 9, 8], [1, 0, 5, 7, 2, 4, 6, 8], [1, 0, 5, 7, 6, 4, 2, 3, 9, 8], [1, 0, 5, 7, 6, 4, 3, 9, 8], [1, 0, 5, 7, 6, 8], [1, 0, 5, 7, 8], [1, 0, 5, 7, 9, 3, 2, 4, 6, 8], [1, 0, 5, 7, 9, 3, 4, 6, 8], [1, 0, 5, 7, 9, 8], [1, 0, 8], [1, 0, 9, 3, 2, 4, 5, 6, 7, 8], [1, 0, 9, 3, 2, 4, 5, 6, 8], [1, 0, 9, 3, 2, 4, 5, 7, 6, 8], [1, 0, 9, 3, 2, 4, 5, 7, 8], [1, 0, 9, 3, 2, 4, 6, 5, 7, 8], [1, 0, 9, 3, 2, 4, 6, 7, 8], [1, 0, 9, 3, 2, 4, 6, 8], [1, 0, 9, 3, 2, 5, 4, 6, 7, 8], [1, 0, 9, 3, 2, 5, 4, 6, 8], [1, 0, 9, 3, 2, 5, 6, 7, 8], [1, 0, 9, 3, 2, 5, 6, 8], [1, 0, 9, 3, 2, 5, 7, 6, 8], [1, 0, 9, 3, 2, 5, 7, 8], [1, 0, 9, 3, 2, 7, 5, 4, 6, 8], [1, 0, 9, 3, 2, 7, 5, 6, 8], [1, 0, 9, 3, 2, 7, 6, 8], [1, 0, 9, 3, 2, 7, 8], [1, 0, 9, 3, 4, 2, 5, 6, 7, 8], [1, 0, 9, 3, 4, 2, 5, 6, 8], [1, 0, 9, 3, 4, 2, 5, 7, 6, 8], [1, 0, 9, 3, 4, 2, 5, 7, 8], [1, 0, 9, 3, 4, 2, 7, 5, 6, 8], [1, 0, 9, 3, 4, 2, 7, 6, 8], [1, 0, 9, 3, 4, 2, 7, 8], [1, 0, 9, 3, 4, 5, 2, 7, 6, 8], [1, 0, 9, 3, 4, 5, 2, 7, 8], [1, 0, 9, 3, 4, 5, 6, 7, 8], [1, 0, 9, 3, 4, 5, 6, 8], [1, 0, 9, 3, 4, 5, 7, 6, 8], [1, 0, 9, 3, 4, 5, 7, 8], [1, 0, 9, 3, 4, 6, 5, 2, 7, 8], [1, 0, 9, 3, 4, 6, 5, 7, 8], [1, 0, 9, 3, 4, 6, 7, 8], [1, 0, 9, 3, 4, 6, 8], [1, 0, 9, 3, 5, 2, 4, 6, 7, 8], [1, 0, 9, 3, 5, 2, 4, 6, 8], [1, 0, 9, 3, 5, 2, 7, 6, 8], [1, 0, 9, 3, 5, 2, 7, 8], [1, 0, 9, 3, 5, 4, 2, 7, 6, 8], [1, 0, 9, 3, 5, 4, 2, 7, 8], [1, 0, 9, 3, 5, 4, 6, 7, 8], [1, 0, 9, 3, 5, 4, 6, 8], [1, 0, 9, 3, 5, 6, 4, 2, 7, 8], [1, 0, 9, 3, 5, 6, 7, 8], [1, 0, 9, 3, 5, 6, 8], [1, 0, 9, 3, 5, 7, 2, 4, 6, 8], [1, 0, 9, 3, 5, 7, 6, 8], [1, 0, 9, 3, 5, 7, 8], [1, 0, 9, 7, 2, 3, 4, 5, 6, 8], [1, 0, 9, 7, 2, 3, 4, 6, 8], [1, 0, 9, 7, 2, 3, 5, 4, 6, 8], [1, 0, 9, 7, 2, 3, 5, 6, 8], [1, 0, 9, 7, 2, 4, 3, 5, 6, 8], [1, 0, 9, 7, 2, 4, 5, 6, 8], [1, 0, 9, 7, 2, 4, 6, 8], [1, 0, 9, 7, 2, 5, 3, 4, 6, 8], [1, 0, 9, 7, 2, 5, 4, 6, 8], [1, 0, 9, 7, 2, 5, 6, 8], [1, 0, 9, 7, 5, 2, 3, 4, 6, 8], [1, 0, 9, 7, 5, 2, 4, 6, 8], [1, 0, 9, 7, 5, 3, 2, 4, 6, 8], [1, 0, 9, 7, 5, 3, 4, 6, 8], [1, 0, 9, 7, 5, 4, 6, 8], [1, 0, 9, 7, 5, 6, 8], [1, 0, 9, 7, 6, 8], [1, 0, 9, 7, 8], [1, 0, 9, 8], [1, 2, 0, 5, 3, 4, 6, 7, 8], [1, 2, 0, 5, 3, 4, 6, 7, 9, 8], [1, 2, 0, 5, 3, 4, 6, 8], [1, 2, 0, 5, 3, 9, 7, 6, 8], [1, 2, 0, 5, 3, 9, 7, 8], [1, 2, 0, 5, 3, 9, 8], [1, 2, 0, 5, 4, 3, 9, 7, 6, 8], [1, 2, 0, 5, 4, 3, 9, 7, 8], [1, 2, 0, 5, 4, 3, 9, 8], [1, 2, 0, 5, 4, 6, 7, 8], [1, 2, 0, 5, 4, 6, 7, 9, 8], [1, 2, 0, 5, 4, 6, 8], [1, 2, 0, 5, 6, 4, 3, 9, 7, 8], [1, 2, 0, 5, 6, 4, 3, 9, 8], [1, 2, 0, 5, 6, 7, 8], [1, 2, 0, 5, 6, 7, 9, 8], [1, 2, 0, 5, 6, 8], [1, 2, 0, 5, 7, 6, 4, 3, 9, 8], [1, 2, 0, 5, 7, 6, 8], [1, 2, 0, 5, 7, 8], [1, 2, 0, 5, 7, 9, 3, 4, 6, 8], [1, 2, 0, 5, 7, 9, 8], [1, 2, 0, 8], [1, 2, 0, 9, 3, 4, 5, 6, 7, 8], [1, 2, 0, 9, 3, 4, 5, 6, 8], [1, 2, 0, 9, 3, 4, 5, 7, 6, 8], [1, 2, 0, 9, 3, 4, 5, 7, 8], [1, 2, 0, 9, 3, 4, 6, 5, 7, 8], [1, 2, 0, 9, 3, 4, 6, 7, 8], [1, 2, 0, 9, 3, 4, 6, 8], [1, 2, 0, 9, 3, 5, 4, 6, 7, 8], [1, 2, 0, 9, 3, 5, 4, 6, 8], [1, 2, 0, 9, 3, 5, 6, 7, 8], [1, 2, 0, 9, 3, 5, 6, 8], [1, 2, 0, 9, 3, 5, 7, 6, 8], [1, 2, 0, 9, 3, 5, 7, 8], [1, 2, 0, 9, 7, 5, 3, 4, 6, 8], [1, 2, 0, 9, 7, 5, 4, 6, 8], [1, 2, 0, 9, 7, 5, 6, 8], [1, 2, 0, 9, 7, 6, 8], [1, 2, 0, 9, 7, 8], [1, 2, 0, 9, 8], [1, 2, 3, 4, 5, 0, 8], [1, 2, 3, 4, 5, 0, 9, 7, 6, 8], [1, 2, 3, 4, 5, 0, 9, 7, 8], [1, 2, 3, 4, 5, 0, 9, 8], [1, 2, 3, 4, 5, 6, 7, 8], [1, 2, 3, 4, 5, 6, 7, 9, 0, 8], [1, 2, 3, 4, 5, 6, 7, 9, 8], [1, 2, 3, 4, 5, 6, 8], [1, 2, 3, 4, 5, 7, 6, 8], [1, 2, 3, 4, 5, 7, 8], [1, 2, 3, 4, 5, 7, 9, 0, 8], [1, 2, 3, 4, 5, 7, 9, 8], [1, 2, 3, 4, 6, 5, 0, 8], [1, 2, 3, 4, 6, 5, 0, 9, 7, 8], [1, 2, 3, 4, 6, 5, 0, 9, 8], [1, 2, 3, 4, 6, 5, 7, 8], [1, 2, 3, 4, 6, 5, 7, 9, 0, 8], [1, 2, 3, 4, 6, 5, 7, 9, 8], [1, 2, 3, 4, 6, 7, 5, 0, 8], [1, 2, 3, 4, 6, 7, 5, 0, 9, 8], [1, 2, 3, 4, 6, 7, 8], [1, 2, 3, 4, 6, 7, 9, 0, 8], [1, 2, 3, 4, 6, 7, 9, 8], [1, 2, 3, 4, 6, 8], [1, 2, 3, 5, 0, 8], [1, 2, 3, 5, 0, 9, 7, 6, 8], [1, 2, 3, 5, 0, 9, 7, 8], [1, 2, 3, 5, 0, 9, 8], [1, 2, 3, 5, 4, 6, 7, 8], [1, 2, 3, 5, 4, 6, 7, 9, 0, 8], [1, 2, 3, 5, 4, 6, 7, 9, 8], [1, 2, 3, 5, 4, 6, 8], [1, 2, 3, 5, 6, 7, 8], [1, 2, 3, 5, 6, 7, 9, 0, 8], [1, 2, 3, 5, 6, 7, 9, 8], [1, 2, 3, 5, 6, 8], [1, 2, 3, 5, 7, 6, 8], [1, 2, 3, 5, 7, 8], [1, 2, 3, 5, 7, 9, 0, 8], [1, 2, 3, 5, 7, 9, 8], [1, 2, 3, 9, 0, 5, 4, 6, 7, 8], [1, 2, 3, 9, 0, 5, 4, 6, 8], [1, 2, 3, 9, 0, 5, 6, 7, 8], [1, 2, 3, 9, 0, 5, 6, 8], [1, 2, 3, 9, 0, 5, 7, 6, 8], [1, 2, 3, 9, 0, 5, 7, 8], [1, 2, 3, 9, 0, 8], [1, 2, 3, 9, 7, 5, 0, 8], [1, 2, 3, 9, 7, 5, 4, 6, 8], [1, 2, 3, 9, 7, 5, 6, 8], [1, 2, 3, 9, 7, 6, 4, 5, 0, 8], [1, 2, 3, 9, 7, 6, 5, 0, 8], [1, 2, 3, 9, 7, 6, 8], [1, 2, 3, 9, 7, 8], [1, 2, 3, 9, 8], [1, 2, 4, 3, 5, 0, 8], [1, 2, 4, 3, 5, 0, 9, 7, 6, 8], [1, 2, 4, 3, 5, 0, 9, 7, 8], [1, 2, 4, 3, 5, 0, 9, 8], [1, 2, 4, 3, 5, 6, 7, 8], [1, 2, 4, 3, 5, 6, 7, 9, 0, 8], [1, 2, 4, 3, 5, 6, 7, 9, 8], [1, 2, 4, 3, 5, 6, 8], [1, 2, 4, 3, 5, 7, 6, 8], [1, 2, 4, 3, 5, 7, 8], [1, 2, 4, 3, 5, 7, 9, 0, 8], [1, 2, 4, 3, 5, 7, 9, 8], [1, 2, 4, 3, 9, 0, 5, 6, 7, 8], [1, 2, 4, 3, 9, 0, 5, 6, 8], [1, 2, 4, 3, 9, 0, 5, 7, 6, 8], [1, 2, 4, 3, 9, 0, 5, 7, 8], [1, 2, 4, 3, 9, 0, 8], [1, 2, 4, 3, 9, 7, 5, 0, 8], [1, 2, 4, 3, 9, 7, 5, 6, 8], [1, 2, 4, 3, 9, 7, 6, 5, 0, 8], [1, 2, 4, 3, 9, 7, 6, 8], [1, 2, 4, 3, 9, 7, 8], [1, 2, 4, 3, 9, 8], [1, 2, 4, 5, 0, 8], [1, 2, 4, 5, 0, 9, 7, 6, 8], [1, 2, 4, 5, 0, 9, 7, 8], [1, 2, 4, 5, 0, 9, 8], [1, 2, 4, 5, 3, 9, 0, 8], [1, 2, 4, 5, 3, 9, 7, 6, 8], [1, 2, 4, 5, 3, 9, 7, 8], [1, 2, 4, 5, 3, 9, 8], [1, 2, 4, 5, 6, 7, 8], [1, 2, 4, 5, 6, 7, 9, 0, 8], [1, 2, 4, 5, 6, 7, 9, 8], [1, 2, 4, 5, 6, 8], [1, 2, 4, 5, 7, 6, 8], [1, 2, 4, 5, 7, 8], [1, 2, 4, 5, 7, 9, 0, 8], [1, 2, 4, 5, 7, 9, 8], [1, 2, 4, 6, 5, 0, 8], [1, 2, 4, 6, 5, 0, 9, 7, 8], [1, 2, 4, 6, 5, 0, 9, 8], [1, 2, 4, 6, 5, 3, 9, 0, 8], [1, 2, 4, 6, 5, 3, 9, 7, 8], [1, 2, 4, 6, 5, 3, 9, 8], [1, 2, 4, 6, 5, 7, 8], [1, 2, 4, 6, 5, 7, 9, 0, 8], [1, 2, 4, 6, 5, 7, 9, 8], [1, 2, 4, 6, 7, 5, 0, 8], [1, 2, 4, 6, 7, 5, 0, 9, 8], [1, 2, 4, 6, 7, 5, 3, 9, 0, 8], [1, 2, 4, 6, 7, 5, 3, 9, 8], [1, 2, 4, 6, 7, 8], [1, 2, 4, 6, 7, 9, 0, 8], [1, 2, 4, 6, 7, 9, 3, 5, 0, 8], [1, 2, 4, 6, 7, 9, 8], [1, 2, 4, 6, 8], [1, 2, 5, 0, 8], [1, 2, 5, 0, 9, 3, 4, 6, 7, 8], [1, 2, 5, 0, 9, 3, 4, 6, 8], [1, 2, 5, 0, 9, 7, 6, 8], [1, 2, 5, 0, 9, 7, 8], [1, 2, 5, 0, 9, 8], [1, 2, 5, 3, 4, 6, 7, 8], [1, 2, 5, 3, 4, 6, 7, 9, 0, 8], [1, 2, 5, 3, 4, 6, 7, 9, 8], [1, 2, 5, 3, 4, 6, 8], [1, 2, 5, 3, 9, 0, 8], [1, 2, 5, 3, 9, 7, 6, 8], [1, 2, 5, 3, 9, 7, 8], [1, 2, 5, 3, 9, 8], [1, 2, 5, 4, 3, 9, 0, 8], [1, 2, 5, 4, 3, 9, 7, 6, 8], [1, 2, 5, 4, 3, 9, 7, 8], [1, 2, 5, 4, 3, 9, 8], [1, 2, 5, 4, 6, 7, 8], [1, 2, 5, 4, 6, 7, 9, 0, 8], [1, 2, 5, 4, 6, 7, 9, 8], [1, 2, 5, 4, 6, 8], [1, 2, 5, 6, 4, 3, 9, 0, 8], [1, 2, 5, 6, 4, 3, 9, 7, 8], [1, 2, 5, 6, 4, 3, 9, 8], [1, 2, 5, 6, 7, 8], [1, 2, 5, 6, 7, 9, 0, 8], [1, 2, 5, 6, 7, 9, 8], [1, 2, 5, 6, 8], [1, 2, 5, 7, 6, 4, 3, 9, 0, 8], [1, 2, 5, 7, 6, 4, 3, 9, 8], [1, 2, 5, 7, 6, 8], [1, 2, 5, 7, 8], [1, 2, 5, 7, 9, 0, 8], [1, 2, 5, 7, 9, 3, 4, 6, 8], [1, 2, 5, 7, 9, 8], [1, 2, 7, 5, 0, 8], [1, 2, 7, 5, 0, 9, 3, 4, 6, 8], [1, 2, 7, 5, 0, 9, 8], [1, 2, 7, 5, 3, 4, 6, 8], [1, 2, 7, 5, 3, 9, 0, 8], [1, 2, 7, 5, 3, 9, 8], [1, 2, 7, 5, 4, 3, 9, 0, 8], [1, 2, 7, 5, 4, 3, 9, 8], [1, 2, 7, 5, 4, 6, 8], [1, 2, 7, 5, 6, 4, 3, 9, 0, 8], [1, 2, 7, 5, 6, 4, 3, 9, 8], [1, 2, 7, 5, 6, 8], [1, 2, 7, 6, 4, 3, 5, 0, 8], [1, 2, 7, 6, 4, 3, 5, 0, 9, 8], [1, 2, 7, 6, 4, 3, 9, 0, 8], [1, 2, 7, 6, 4, 3, 9, 8], [1, 2, 7, 6, 4, 5, 0, 8], [1, 2, 7, 6, 4, 5, 0, 9, 8], [1, 2, 7, 6, 4, 5, 3, 9, 0, 8], [1, 2, 7, 6, 4, 5, 3, 9, 8], [1, 2, 7, 6, 5, 0, 8], [1, 2, 7, 6, 5, 0, 9, 8], [1, 2, 7, 6, 5, 3, 9, 0, 8], [1, 2, 7, 6, 5, 3, 9, 8], [1, 2, 7, 6, 5, 4, 3, 9, 0, 8], [1, 2, 7, 6, 5, 4, 3, 9, 8], [1, 2, 7, 6, 8], [1, 2, 7, 8], [1, 2, 7, 9, 0, 5, 3, 4, 6, 8], [1, 2, 7, 9, 0, 5, 4, 6, 8], [1, 2, 7, 9, 0, 5, 6, 8], [1, 2, 7, 9, 0, 8], [1, 2, 7, 9, 3, 4, 5, 0, 8], [1, 2, 7, 9, 3, 4, 5, 6, 8], [1, 2, 7, 9, 3, 4, 6, 5, 0, 8], [1, 2, 7, 9, 3, 4, 6, 8], [1, 2, 7, 9, 3, 5, 0, 8], [1, 2, 7, 9, 3, 5, 4, 6, 8], [1, 2, 7, 9, 3, 5, 6, 8], [1, 2, 7, 9, 8], [1, 3, 2, 0, 5, 4, 6, 7, 8], [1, 3, 2, 0, 5, 4, 6, 7, 9, 8], [1, 3, 2, 0, 5, 4, 6, 8], [1, 3, 2, 0, 5, 6, 7, 8], [1, 3, 2, 0, 5, 6, 7, 9, 8], [1, 3, 2, 0, 5, 6, 8], [1, 3, 2, 0, 5, 7, 6, 8], [1, 3, 2, 0, 5, 7, 8], [1, 3, 2, 0, 5, 7, 9, 8], [1, 3, 2, 0, 8], [1, 3, 2, 0, 9, 7, 5, 4, 6, 8], [1, 3, 2, 0, 9, 7, 5, 6, 8], [1, 3, 2, 0, 9, 7, 6, 8], [1, 3, 2, 0, 9, 7, 8], [1, 3, 2, 0, 9, 8], [1, 3, 2, 4, 5, 0, 8], [1, 3, 2, 4, 5, 0, 9, 7, 6, 8], [1, 3, 2, 4, 5, 0, 9, 7, 8], [1, 3, 2, 4, 5, 0, 9, 8], [1, 3, 2, 4, 5, 6, 7, 8], [1, 3, 2, 4, 5, 6, 7, 9, 0, 8], [1, 3, 2, 4, 5, 6, 7, 9, 8], [1, 3, 2, 4, 5, 6, 8], [1, 3, 2, 4, 5, 7, 6, 8], [1, 3, 2, 4, 5, 7, 8], [1, 3, 2, 4, 5, 7, 9, 0, 8], [1, 3, 2, 4, 5, 7, 9, 8], [1, 3, 2, 4, 6, 5, 0, 8], [1, 3, 2, 4, 6, 5, 0, 9, 7, 8], [1, 3, 2, 4, 6, 5, 0, 9, 8], [1, 3, 2, 4, 6, 5, 7, 8], [1, 3, 2, 4, 6, 5, 7, 9, 0, 8], [1, 3, 2, 4, 6, 5, 7, 9, 8], [1, 3, 2, 4, 6, 7, 5, 0, 8], [1, 3, 2, 4, 6, 7, 5, 0, 9, 8], [1, 3, 2, 4, 6, 7, 8], [1, 3, 2, 4, 6, 7, 9, 0, 8], [1, 3, 2, 4, 6, 7, 9, 8], [1, 3, 2, 4, 6, 8], [1, 3, 2, 5, 0, 8], [1, 3, 2, 5, 0, 9, 7, 6, 8], [1, 3, 2, 5, 0, 9, 7, 8], [1, 3, 2, 5, 0, 9, 8], [1, 3, 2, 5, 4, 6, 7, 8], [1, 3, 2, 5, 4, 6, 7, 9, 0, 8], [1, 3, 2, 5, 4, 6, 7, 9, 8], [1, 3, 2, 5, 4, 6, 8], [1, 3, 2, 5, 6, 7, 8], [1, 3, 2, 5, 6, 7, 9, 0, 8], [1, 3, 2, 5, 6, 7, 9, 8], [1, 3, 2, 5, 6, 8], [1, 3, 2, 5, 7, 6, 8], [1, 3, 2, 5, 7, 8], [1, 3, 2, 5, 7, 9, 0, 8], [1, 3, 2, 5, 7, 9, 8], [1, 3, 2, 7, 5, 0, 8], [1, 3, 2, 7, 5, 0, 9, 8], [1, 3, 2, 7, 5, 4, 6, 8], [1, 3, 2, 7, 5, 6, 8], [1, 3, 2, 7, 6, 4, 5, 0, 8], [1, 3, 2, 7, 6, 4, 5, 0, 9, 8], [1, 3, 2, 7, 6, 5, 0, 8], [1, 3, 2, 7, 6, 5, 0, 9, 8], [1, 3, 2, 7, 6, 8], [1, 3, 2, 7, 8], [1, 3, 2, 7, 9, 0, 5, 4, 6, 8], [1, 3, 2, 7, 9, 0, 5, 6, 8], [1, 3, 2, 7, 9, 0, 8], [1, 3, 2, 7, 9, 8], [1, 3, 4, 2, 0, 5, 6, 7, 8], [1, 3, 4, 2, 0, 5, 6, 7, 9, 8], [1, 3, 4, 2, 0, 5, 6, 8], [1, 3, 4, 2, 0, 5, 7, 6, 8], [1, 3, 4, 2, 0, 5, 7, 8], [1, 3, 4, 2, 0, 5, 7, 9, 8], [1, 3, 4, 2, 0, 8], [1, 3, 4, 2, 0, 9, 7, 5, 6, 8], [1, 3, 4, 2, 0, 9, 7, 6, 8], [1, 3, 4, 2, 0, 9, 7, 8], [1, 3, 4, 2, 0, 9, 8], [1, 3, 4, 2, 5, 0, 8], [1, 3, 4, 2, 5, 0, 9, 7, 6, 8], [1, 3, 4, 2, 5, 0, 9, 7, 8], [1, 3, 4, 2, 5, 0, 9, 8], [1, 3, 4, 2, 5, 6, 7, 8], [1, 3, 4, 2, 5, 6, 7, 9, 0, 8], [1, 3, 4, 2, 5, 6, 7, 9, 8], [1, 3, 4, 2, 5, 6, 8], [1, 3, 4, 2, 5, 7, 6, 8], [1, 3, 4, 2, 5, 7, 8], [1, 3, 4, 2, 5, 7, 9, 0, 8], [1, 3, 4, 2, 5, 7, 9, 8], [1, 3, 4, 2, 7, 5, 0, 8], [1, 3, 4, 2, 7, 5, 0, 9, 8], [1, 3, 4, 2, 7, 5, 6, 8], [1, 3, 4, 2, 7, 6, 5, 0, 8], [1, 3, 4, 2, 7, 6, 5, 0, 9, 8], [1, 3, 4, 2, 7, 6, 8], [1, 3, 4, 2, 7, 8], [1, 3, 4, 2, 7, 9, 0, 5, 6, 8], [1, 3, 4, 2, 7, 9, 0, 8], [1, 3, 4, 2, 7, 9, 8], [1, 3, 4, 5, 0, 2, 7, 6, 8], [1, 3, 4, 5, 0, 2, 7, 8], [1, 3, 4, 5, 0, 2, 7, 9, 8], [1, 3, 4, 5, 0, 8], [1, 3, 4, 5, 0, 9, 7, 6, 8], [1, 3, 4, 5, 0, 9, 7, 8], [1, 3, 4, 5, 0, 9, 8], [1, 3, 4, 5, 2, 0, 8], [1, 3, 4, 5, 2, 0, 9, 7, 6, 8], [1, 3, 4, 5, 2, 0, 9, 7, 8], [1, 3, 4, 5, 2, 0, 9, 8], [1, 3, 4, 5, 2, 7, 6, 8], [1, 3, 4, 5, 2, 7, 8], [1, 3, 4, 5, 2, 7, 9, 0, 8], [1, 3, 4, 5, 2, 7, 9, 8], [1, 3, 4, 5, 6, 7, 2, 0, 8], [1, 3, 4, 5, 6, 7, 2, 0, 9, 8], [1, 3, 4, 5, 6, 7, 8], [1, 3, 4, 5, 6, 7, 9, 0, 8], [1, 3, 4, 5, 6, 7, 9, 8], [1, 3, 4, 5, 6, 8], [1, 3, 4, 5, 7, 2, 0, 8], [1, 3, 4, 5, 7, 2, 0, 9, 8], [1, 3, 4, 5, 7, 6, 8], [1, 3, 4, 5, 7, 8], [1, 3, 4, 5, 7, 9, 0, 8], [1, 3, 4, 5, 7, 9, 8], [1, 3, 4, 6, 5, 0, 2, 7, 8], [1, 3, 4, 6, 5, 0, 2, 7, 9, 8], [1, 3, 4, 6, 5, 0, 8], [1, 3, 4, 6, 5, 0, 9, 7, 8], [1, 3, 4, 6, 5, 0, 9, 8], [1, 3, 4, 6, 5, 2, 0, 8], [1, 3, 4, 6, 5, 2, 0, 9, 7, 8], [1, 3, 4, 6, 5, 2, 0, 9, 8], [1, 3, 4, 6, 5, 2, 7, 8], [1, 3, 4, 6, 5, 2, 7, 9, 0, 8], [1, 3, 4, 6, 5, 2, 7, 9, 8], [1, 3, 4, 6, 5, 7, 2, 0, 8], [1, 3, 4, 6, 5, 7, 2, 0, 9, 8], [1, 3, 4, 6, 5, 7, 8], [1, 3, 4, 6, 5, 7, 9, 0, 8], [1, 3, 4, 6, 5, 7, 9, 8], [1, 3, 4, 6, 7, 2, 0, 8], [1, 3, 4, 6, 7, 2, 0, 9, 8], [1, 3, 4, 6, 7, 2, 5, 0, 8], [1, 3, 4, 6, 7, 2, 5, 0, 9, 8], [1, 3, 4, 6, 7, 5, 0, 8], [1, 3, 4, 6, 7, 5, 0, 9, 8], [1, 3, 4, 6, 7, 5, 2, 0, 8], [1, 3, 4, 6, 7, 5, 2, 0, 9, 8], [1, 3, 4, 6, 7, 8], [1, 3, 4, 6, 7, 9, 0, 8], [1, 3, 4, 6, 7, 9, 8], [1, 3, 4, 6, 8], [1, 3, 5, 0, 2, 4, 6, 7, 8], [1, 3, 5, 0, 2, 4, 6, 7, 9, 8], [1, 3, 5, 0, 2, 4, 6, 8], [1, 3, 5, 0, 2, 7, 6, 8], [1, 3, 5, 0, 2, 7, 8], [1, 3, 5, 0, 2, 7, 9, 8], [1, 3, 5, 0, 8], [1, 3, 5, 0, 9, 7, 2, 4, 6, 8], [1, 3, 5, 0, 9, 7, 6, 8], [1, 3, 5, 0, 9, 7, 8], [1, 3, 5, 0, 9, 8], [1, 3, 5, 2, 0, 8], [1, 3, 5, 2, 0, 9, 7, 6, 8], [1, 3, 5, 2, 0, 9, 7, 8], [1, 3, 5, 2, 0, 9, 8], [1, 3, 5, 2, 4, 6, 7, 8], [1, 3, 5, 2, 4, 6, 7, 9, 0, 8], [1, 3, 5, 2, 4, 6, 7, 9, 8], [1, 3, 5, 2, 4, 6, 8], [1, 3, 5, 2, 7, 6, 8], [1, 3, 5, 2, 7, 8], [1, 3, 5, 2, 7, 9, 0, 8], [1, 3, 5, 2, 7, 9, 8], [1, 3, 5, 4, 2, 0, 8], [1, 3, 5, 4, 2, 0, 9, 7, 6, 8], [1, 3, 5, 4, 2, 0, 9, 7, 8], [1, 3, 5, 4, 2, 0, 9, 8], [1, 3, 5, 4, 2, 7, 6, 8], [1, 3, 5, 4, 2, 7, 8], [1, 3, 5, 4, 2, 7, 9, 0, 8], [1, 3, 5, 4, 2, 7, 9, 8], [1, 3, 5, 4, 6, 7, 2, 0, 8], [1, 3, 5, 4, 6, 7, 2, 0, 9, 8], [1, 3, 5, 4, 6, 7, 8], [1, 3, 5, 4, 6, 7, 9, 0, 8], [1, 3, 5, 4, 6, 7, 9, 8], [1, 3, 5, 4, 6, 8], [1, 3, 5, 6, 4, 2, 0, 8], [1, 3, 5, 6, 4, 2, 0, 9, 7, 8], [1, 3, 5, 6, 4, 2, 0, 9, 8], [1, 3, 5, 6, 4, 2, 7, 8], [1, 3, 5, 6, 4, 2, 7, 9, 0, 8], [1, 3, 5, 6, 4, 2, 7, 9, 8], [1, 3, 5, 6, 7, 2, 0, 8], [1, 3, 5, 6, 7, 2, 0, 9, 8], [1, 3, 5, 6, 7, 8], [1, 3, 5, 6, 7, 9, 0, 8], [1, 3, 5, 6, 7, 9, 8], [1, 3, 5, 6, 8], [1, 3, 5, 7, 2, 0, 8], [1, 3, 5, 7, 2, 0, 9, 8], [1, 3, 5, 7, 2, 4, 6, 8], [1, 3, 5, 7, 6, 4, 2, 0, 8], [1, 3, 5, 7, 6, 4, 2, 0, 9, 8], [1, 3, 5, 7, 6, 8], [1, 3, 5, 7, 8], [1, 3, 5, 7, 9, 0, 2, 4, 6, 8], [1, 3, 5, 7, 9, 0, 8], [1, 3, 5, 7, 9, 8], [1, 3, 9, 0, 2, 4, 5, 6, 7, 8], [1, 3, 9, 0, 2, 4, 5, 6, 8], [1, 3, 9, 0, 2, 4, 5, 7, 6, 8], [1, 3, 9, 0, 2, 4, 5, 7, 8], [1, 3, 9, 0, 2, 4, 6, 5, 7, 8], [1, 3, 9, 0, 2, 4, 6, 7, 8], [1, 3, 9, 0, 2, 4, 6, 8], [1, 3, 9, 0, 2, 5, 4, 6, 7, 8], [1, 3, 9, 0, 2, 5, 4, 6, 8], [1, 3, 9, 0, 2, 5, 6, 7, 8], [1, 3, 9, 0, 2, 5, 6, 8], [1, 3, 9, 0, 2, 5, 7, 6, 8], [1, 3, 9, 0, 2, 5, 7, 8], [1, 3, 9, 0, 2, 7, 5, 4, 6, 8], [1, 3, 9, 0, 2, 7, 5, 6, 8], [1, 3, 9, 0, 2, 7, 6, 8], [1, 3, 9, 0, 2, 7, 8], [1, 3, 9, 0, 5, 2, 4, 6, 7, 8], [1, 3, 9, 0, 5, 2, 4, 6, 8], [1, 3, 9, 0, 5, 2, 7, 6, 8], [1, 3, 9, 0, 5, 2, 7, 8], [1, 3, 9, 0, 5, 4, 2, 7, 6, 8], [1, 3, 9, 0, 5, 4, 2, 7, 8], [1, 3, 9, 0, 5, 4, 6, 7, 8], [1, 3, 9, 0, 5, 4, 6, 8], [1, 3, 9, 0, 5, 6, 4, 2, 7, 8], [1, 3, 9, 0, 5, 6, 7, 8], [1, 3, 9, 0, 5, 6, 8], [1, 3, 9, 0, 5, 7, 2, 4, 6, 8], [1, 3, 9, 0, 5, 7, 6, 8], [1, 3, 9, 0, 5, 7, 8], [1, 3, 9, 0, 8], [1, 3, 9, 7, 2, 0, 5, 4, 6, 8], [1, 3, 9, 7, 2, 0, 5, 6, 8], [1, 3, 9, 7, 2, 0, 8], [1, 3, 9, 7, 2, 4, 5, 0, 8], [1, 3, 9, 7, 2, 4, 5, 6, 8], [1, 3, 9, 7, 2, 4, 6, 5, 0, 8], [1, 3, 9, 7, 2, 4, 6, 8], [1, 3, 9, 7, 2, 5, 0, 8], [1, 3, 9, 7, 2, 5, 4, 6, 8], [1, 3, 9, 7, 2, 5, 6, 8], [1, 3, 9, 7, 5, 0, 2, 4, 6, 8], [1, 3, 9, 7, 5, 0, 8], [1, 3, 9, 7, 5, 2, 0, 8], [1, 3, 9, 7, 5, 2, 4, 6, 8], [1, 3, 9, 7, 5, 4, 2, 0, 8], [1, 3, 9, 7, 5, 4, 6, 8], [1, 3, 9, 7, 5, 6, 4, 2, 0, 8], [1, 3, 9, 7, 5, 6, 8], [1, 3, 9, 7, 6, 4, 2, 0, 8], [1, 3, 9, 7, 6, 4, 2, 5, 0, 8], [1, 3, 9, 7, 6, 4, 5, 0, 8], [1, 3, 9, 7, 6, 4, 5, 2, 0, 8], [1, 3, 9, 7, 6, 5, 0, 8], [1, 3, 9, 7, 6, 5, 2, 0, 8], [1, 3, 9, 7, 6, 5, 4, 2, 0, 8], [1, 3, 9, 7, 6, 8], [1, 3, 9, 7, 8], [1, 3, 9, 8], [1, 4, 2, 0, 5, 3, 9, 7, 6, 8], [1, 4, 2, 0, 5, 3, 9, 7, 8], [1, 4, 2, 0, 5, 3, 9, 8], [1, 4, 2, 0, 5, 6, 7, 8], [1, 4, 2, 0, 5, 6, 7, 9, 8], [1, 4, 2, 0, 5, 6, 8], [1, 4, 2, 0, 5, 7, 6, 8], [1, 4, 2, 0, 5, 7, 8], [1, 4, 2, 0, 5, 7, 9, 8], [1, 4, 2, 0, 8], [1, 4, 2, 0, 9, 3, 5, 6, 7, 8], [1, 4, 2, 0, 9, 3, 5, 6, 8], [1, 4, 2, 0, 9, 3, 5, 7, 6, 8], [1, 4, 2, 0, 9, 3, 5, 7, 8], [1, 4, 2, 0, 9, 7, 5, 6, 8], [1, 4, 2, 0, 9, 7, 6, 8], [1, 4, 2, 0, 9, 7, 8], [1, 4, 2, 0, 9, 8], [1, 4, 2, 3, 5, 0, 8], [1, 4, 2, 3, 5, 0, 9, 7, 6, 8], [1, 4, 2, 3, 5, 0, 9, 7, 8], [1, 4, 2, 3, 5, 0, 9, 8], [1, 4, 2, 3, 5, 6, 7, 8], [1, 4, 2, 3, 5, 6, 7, 9, 0, 8], [1, 4, 2, 3, 5, 6, 7, 9, 8], [1, 4, 2, 3, 5, 6, 8], [1, 4, 2, 3, 5, 7, 6, 8], [1, 4, 2, 3, 5, 7, 8], [1, 4, 2, 3, 5, 7, 9, 0, 8], [1, 4, 2, 3, 5, 7, 9, 8], [1, 4, 2, 3, 9, 0, 5, 6, 7, 8], [1, 4, 2, 3, 9, 0, 5, 6, 8], [1, 4, 2, 3, 9, 0, 5, 7, 6, 8], [1, 4, 2, 3, 9, 0, 5, 7, 8], [1, 4, 2, 3, 9, 0, 8], [1, 4, 2, 3, 9, 7, 5, 0, 8], [1, 4, 2, 3, 9, 7, 5, 6, 8], [1, 4, 2, 3, 9, 7, 6, 5, 0, 8], [1, 4, 2, 3, 9, 7, 6, 8], [1, 4, 2, 3, 9, 7, 8], [1, 4, 2, 3, 9, 8], [1, 4, 2, 5, 0, 8], [1, 4, 2, 5, 0, 9, 7, 6, 8], [1, 4, 2, 5, 0, 9, 7, 8], [1, 4, 2, 5, 0, 9, 8], [1, 4, 2, 5, 3, 9, 0, 8], [1, 4, 2, 5, 3, 9, 7, 6, 8], [1, 4, 2, 5, 3, 9, 7, 8], [1, 4, 2, 5, 3, 9, 8], [1, 4, 2, 5, 6, 7, 8], [1, 4, 2, 5, 6, 7, 9, 0, 8], [1, 4, 2, 5, 6, 7, 9, 8], [1, 4, 2, 5, 6, 8], [1, 4, 2, 5, 7, 6, 8], [1, 4, 2, 5, 7, 8], [1, 4, 2, 5, 7, 9, 0, 8], [1, 4, 2, 5, 7, 9, 8], [1, 4, 2, 7, 5, 0, 8], [1, 4, 2, 7, 5, 0, 9, 8], [1, 4, 2, 7, 5, 3, 9, 0, 8], [1, 4, 2, 7, 5, 3, 9, 8], [1, 4, 2, 7, 5, 6, 8], [1, 4, 2, 7, 6, 5, 0, 8], [1, 4, 2, 7, 6, 5, 0, 9, 8], [1, 4, 2, 7, 6, 5, 3, 9, 0, 8], [1, 4, 2, 7, 6, 5, 3, 9, 8], [1, 4, 2, 7, 6, 8], [1, 4, 2, 7, 8], [1, 4, 2, 7, 9, 0, 5, 6, 8], [1, 4, 2, 7, 9, 0, 8], [1, 4, 2, 7, 9, 3, 5, 0, 8], [1, 4, 2, 7, 9, 3, 5, 6, 8], [1, 4, 2, 7, 9, 8], [1, 4, 3, 2, 0, 5, 6, 7, 8], [1, 4, 3, 2, 0, 5, 6, 7, 9, 8], [1, 4, 3, 2, 0, 5, 6, 8], [1, 4, 3, 2, 0, 5, 7, 6, 8], [1, 4, 3, 2, 0, 5, 7, 8], [1, 4, 3, 2, 0, 5, 7, 9, 8], [1, 4, 3, 2, 0, 8], [1, 4, 3, 2, 0, 9, 7, 5, 6, 8], [1, 4, 3, 2, 0, 9, 7, 6, 8], [1, 4, 3, 2, 0, 9, 7, 8], [1, 4, 3, 2, 0, 9, 8], [1, 4, 3, 2, 5, 0, 8], [1, 4, 3, 2, 5, 0, 9, 7, 6, 8], [1, 4, 3, 2, 5, 0, 9, 7, 8], [1, 4, 3, 2, 5, 0, 9, 8], [1, 4, 3, 2, 5, 6, 7, 8], [1, 4, 3, 2, 5, 6, 7, 9, 0, 8], [1, 4, 3, 2, 5, 6, 7, 9, 8], [1, 4, 3, 2, 5, 6, 8], [1, 4, 3, 2, 5, 7, 6, 8], [1, 4, 3, 2, 5, 7, 8], [1, 4, 3, 2, 5, 7, 9, 0, 8], [1, 4, 3, 2, 5, 7, 9, 8], [1, 4, 3, 2, 7, 5, 0, 8], [1, 4, 3, 2, 7, 5, 0, 9, 8], [1, 4, 3, 2, 7, 5, 6, 8], [1, 4, 3, 2, 7, 6, 5, 0, 8], [1, 4, 3, 2, 7, 6, 5, 0, 9, 8], [1, 4, 3, 2, 7, 6, 8], [1, 4, 3, 2, 7, 8], [1, 4, 3, 2, 7, 9, 0, 5, 6, 8], [1, 4, 3, 2, 7, 9, 0, 8], [1, 4, 3, 2, 7, 9, 8], [1, 4, 3, 5, 0, 2, 7, 6, 8], [1, 4, 3, 5, 0, 2, 7, 8], [1, 4, 3, 5, 0, 2, 7, 9, 8], [1, 4, 3, 5, 0, 8], [1, 4, 3, 5, 0, 9, 7, 6, 8], [1, 4, 3, 5, 0, 9, 7, 8], [1, 4, 3, 5, 0, 9, 8], [1, 4, 3, 5, 2, 0, 8], [1, 4, 3, 5, 2, 0, 9, 7, 6, 8], [1, 4, 3, 5, 2, 0, 9, 7, 8], [1, 4, 3, 5, 2, 0, 9, 8], [1, 4, 3, 5, 2, 7, 6, 8], [1, 4, 3, 5, 2, 7, 8], [1, 4, 3, 5, 2, 7, 9, 0, 8], [1, 4, 3, 5, 2, 7, 9, 8], [1, 4, 3, 5, 6, 7, 2, 0, 8], [1, 4, 3, 5, 6, 7, 2, 0, 9, 8], [1, 4, 3, 5, 6, 7, 8], [1, 4, 3, 5, 6, 7, 9, 0, 8], [1, 4, 3, 5, 6, 7, 9, 8], [1, 4, 3, 5, 6, 8], [1, 4, 3, 5, 7, 2, 0, 8], [1, 4, 3, 5, 7, 2, 0, 9, 8], [1, 4, 3, 5, 7, 6, 8], [1, 4, 3, 5, 7, 8], [1, 4, 3, 5, 7, 9, 0, 8], [1, 4, 3, 5, 7, 9, 8], [1, 4, 3, 9, 0, 2, 5, 6, 7, 8], [1, 4, 3, 9, 0, 2, 5, 6, 8], [1, 4, 3, 9, 0, 2, 5, 7, 6, 8], [1, 4, 3, 9, 0, 2, 5, 7, 8], [1, 4, 3, 9, 0, 2, 7, 5, 6, 8], [1, 4, 3, 9, 0, 2, 7, 6, 8], [1, 4, 3, 9, 0, 2, 7, 8], [1, 4, 3, 9, 0, 5, 2, 7, 6, 8], [1, 4, 3, 9, 0, 5, 2, 7, 8], [1, 4, 3, 9, 0, 5, 6, 7, 8], [1, 4, 3, 9, 0, 5, 6, 8], [1, 4, 3, 9, 0, 5, 7, 6, 8], [1, 4, 3, 9, 0, 5, 7, 8], [1, 4, 3, 9, 0, 8], [1, 4, 3, 9, 7, 2, 0, 5, 6, 8], [1, 4, 3, 9, 7, 2, 0, 8], [1, 4, 3, 9, 7, 2, 5, 0, 8], [1, 4, 3, 9, 7, 2, 5, 6, 8], [1, 4, 3, 9, 7, 5, 0, 8], [1, 4, 3, 9, 7, 5, 2, 0, 8], [1, 4, 3, 9, 7, 5, 6, 8], [1, 4, 3, 9, 7, 6, 5, 0, 8], [1, 4, 3, 9, 7, 6, 5, 2, 0, 8], [1, 4, 3, 9, 7, 6, 8], [1, 4, 3, 9, 7, 8], [1, 4, 3, 9, 8], [1, 4, 5, 0, 2, 3, 9, 7, 6, 8], [1, 4, 5, 0, 2, 3, 9, 7, 8], [1, 4, 5, 0, 2, 3, 9, 8], [1, 4, 5, 0, 2, 7, 6, 8], [1, 4, 5, 0, 2, 7, 8], [1, 4, 5, 0, 2, 7, 9, 8], [1, 4, 5, 0, 8], [1, 4, 5, 0, 9, 3, 2, 7, 6, 8], [1, 4, 5, 0, 9, 3, 2, 7, 8], [1, 4, 5, 0, 9, 7, 6, 8], [1, 4, 5, 0, 9, 7, 8], [1, 4, 5, 0, 9, 8], [1, 4, 5, 2, 0, 8], [1, 4, 5, 2, 0, 9, 7, 6, 8], [1, 4, 5, 2, 0, 9, 7, 8], [1, 4, 5, 2, 0, 9, 8], [1, 4, 5, 2, 3, 9, 0, 8], [1, 4, 5, 2, 3, 9, 7, 6, 8], [1, 4, 5, 2, 3, 9, 7, 8], [1, 4, 5, 2, 3, 9, 8], [1, 4, 5, 2, 7, 6, 8], [1, 4, 5, 2, 7, 8], [1, 4, 5, 2, 7, 9, 0, 8], [1, 4, 5, 2, 7, 9, 8], [1, 4, 5, 3, 2, 0, 8], [1, 4, 5, 3, 2, 0, 9, 7, 6, 8], [1, 4, 5, 3, 2, 0, 9, 7, 8], [1, 4, 5, 3, 2, 0, 9, 8], [1, 4, 5, 3, 2, 7, 6, 8], [1, 4, 5, 3, 2, 7, 8], [1, 4, 5, 3, 2, 7, 9, 0, 8], [1, 4, 5, 3, 2, 7, 9, 8], [1, 4, 5, 3, 9, 0, 2, 7, 6, 8], [1, 4, 5, 3, 9, 0, 2, 7, 8], [1, 4, 5, 3, 9, 0, 8], [1, 4, 5, 3, 9, 7, 2, 0, 8], [1, 4, 5, 3, 9, 7, 6, 8], [1, 4, 5, 3, 9, 7, 8], [1, 4, 5, 3, 9, 8], [1, 4, 5, 6, 7, 2, 0, 8], [1, 4, 5, 6, 7, 2, 0, 9, 8], [1, 4, 5, 6, 7, 2, 3, 9, 0, 8], [1, 4, 5, 6, 7, 2, 3, 9, 8], [1, 4, 5, 6, 7, 8], [1, 4, 5, 6, 7, 9, 0, 8], [1, 4, 5, 6, 7, 9, 3, 2, 0, 8], [1, 4, 5, 6, 7, 9, 8], [1, 4, 5, 6, 8], [1, 4, 5, 7, 2, 0, 8], [1, 4, 5, 7, 2, 0, 9, 8], [1, 4, 5, 7, 2, 3, 9, 0, 8], [1, 4, 5, 7, 2, 3, 9, 8], [1, 4, 5, 7, 6, 8], [1, 4, 5, 7, 8], [1, 4, 5, 7, 9, 0, 8], [1, 4, 5, 7, 9, 3, 2, 0, 8], [1, 4, 5, 7, 9, 8], [1, 4, 6, 5, 0, 2, 3, 9, 7, 8], [1, 4, 6, 5, 0, 2, 3, 9, 8], [1, 4, 6, 5, 0, 2, 7, 8], [1, 4, 6, 5, 0, 2, 7, 9, 8], [1, 4, 6, 5, 0, 8], [1, 4, 6, 5, 0, 9, 3, 2, 7, 8], [1, 4, 6, 5, 0, 9, 7, 8], [1, 4, 6, 5, 0, 9, 8], [1, 4, 6, 5, 2, 0, 8], [1, 4, 6, 5, 2, 0, 9, 7, 8], [1, 4, 6, 5, 2, 0, 9, 8], [1, 4, 6, 5, 2, 3, 9, 0, 8], [1, 4, 6, 5, 2, 3, 9, 7, 8], [1, 4, 6, 5, 2, 3, 9, 8], [1, 4, 6, 5, 2, 7, 8], [1, 4, 6, 5, 2, 7, 9, 0, 8], [1, 4, 6, 5, 2, 7, 9, 8], [1, 4, 6, 5, 3, 2, 0, 8], [1, 4, 6, 5, 3, 2, 0, 9, 7, 8], [1, 4, 6, 5, 3, 2, 0, 9, 8], [1, 4, 6, 5, 3, 2, 7, 8], [1, 4, 6, 5, 3, 2, 7, 9, 0, 8], [1, 4, 6, 5, 3, 2, 7, 9, 8], [1, 4, 6, 5, 3, 9, 0, 2, 7, 8], [1, 4, 6, 5, 3, 9, 0, 8], [1, 4, 6, 5, 3, 9, 7, 2, 0, 8], [1, 4, 6, 5, 3, 9, 7, 8], [1, 4, 6, 5, 3, 9, 8], [1, 4, 6, 5, 7, 2, 0, 8], [1, 4, 6, 5, 7, 2, 0, 9, 8], [1, 4, 6, 5, 7, 2, 3, 9, 0, 8], [1, 4, 6, 5, 7, 2, 3, 9, 8], [1, 4, 6, 5, 7, 8], [1, 4, 6, 5, 7, 9, 0, 8], [1, 4, 6, 5, 7, 9, 3, 2, 0, 8], [1, 4, 6, 5, 7, 9, 8], [1, 4, 6, 7, 2, 0, 5, 3, 9, 8], [1, 4, 6, 7, 2, 0, 8], [1, 4, 6, 7, 2, 0, 9, 8], [1, 4, 6, 7, 2, 3, 5, 0, 8], [1, 4, 6, 7, 2, 3, 5, 0, 9, 8], [1, 4, 6, 7, 2, 3, 9, 0, 8], [1, 4, 6, 7, 2, 3, 9, 8], [1, 4, 6, 7, 2, 5, 0, 8], [1, 4, 6, 7, 2, 5, 0, 9, 8], [1, 4, 6, 7, 2, 5, 3, 9, 0, 8], [1, 4, 6, 7, 2, 5, 3, 9, 8], [1, 4, 6, 7, 5, 0, 2, 3, 9, 8], [1, 4, 6, 7, 5, 0, 8], [1, 4, 6, 7, 5, 0, 9, 8], [1, 4, 6, 7, 5, 2, 0, 8], [1, 4, 6, 7, 5, 2, 0, 9, 8], [1, 4, 6, 7, 5, 2, 3, 9, 0, 8], [1, 4, 6, 7, 5, 2, 3, 9, 8], [1, 4, 6, 7, 5, 3, 2, 0, 8], [1, 4, 6, 7, 5, 3, 2, 0, 9, 8], [1, 4, 6, 7, 5, 3, 9, 0, 8], [1, 4, 6, 7, 5, 3, 9, 8], [1, 4, 6, 7, 8], [1, 4, 6, 7, 9, 0, 8], [1, 4, 6, 7, 9, 3, 2, 0, 8], [1, 4, 6, 7, 9, 3, 2, 5, 0, 8], [1, 4, 6, 7, 9, 3, 5, 0, 8], [1, 4, 6, 7, 9, 3, 5, 2, 0, 8], [1, 4, 6, 7, 9, 8], [1, 4, 6, 8], [1, 6, 4, 2, 0, 5, 3, 9, 7, 8], [1, 6, 4, 2, 0, 5, 3, 9, 8], [1, 6, 4, 2, 0, 5, 7, 8], [1, 6, 4, 2, 0, 5, 7, 9, 8], [1, 6, 4, 2, 0, 8], [1, 6, 4, 2, 0, 9, 3, 5, 7, 8], [1, 6, 4, 2, 0, 9, 7, 8], [1, 6, 4, 2, 0, 9, 8], [1, 6, 4, 2, 3, 5, 0, 8], [1, 6, 4, 2, 3, 5, 0, 9, 7, 8], [1, 6, 4, 2, 3, 5, 0, 9, 8], [1, 6, 4, 2, 3, 5, 7, 8], [1, 6, 4, 2, 3, 5, 7, 9, 0, 8], [1, 6, 4, 2, 3, 5, 7, 9, 8], [1, 6, 4, 2, 3, 9, 0, 5, 7, 8], [1, 6, 4, 2, 3, 9, 0, 8], [1, 6, 4, 2, 3, 9, 7, 5, 0, 8], [1, 6, 4, 2, 3, 9, 7, 8], [1, 6, 4, 2, 3, 9, 8], [1, 6, 4, 2, 5, 0, 8], [1, 6, 4, 2, 5, 0, 9, 7, 8], [1, 6, 4, 2, 5, 0, 9, 8], [1, 6, 4, 2, 5, 3, 9, 0, 8], [1, 6, 4, 2, 5, 3, 9, 7, 8], [1, 6, 4, 2, 5, 3, 9, 8], [1, 6, 4, 2, 5, 7, 8], [1, 6, 4, 2, 5, 7, 9, 0, 8], [1, 6, 4, 2, 5, 7, 9, 8], [1, 6, 4, 2, 7, 5, 0, 8], [1, 6, 4, 2, 7, 5, 0, 9, 8], [1, 6, 4, 2, 7, 5, 3, 9, 0, 8], [1, 6, 4, 2, 7, 5, 3, 9, 8], [1, 6, 4, 2, 7, 8], [1, 6, 4, 2, 7, 9, 0, 8], [1, 6, 4, 2, 7, 9, 3, 5, 0, 8], [1, 6, 4, 2, 7, 9, 8], [1, 6, 4, 3, 2, 0, 5, 7, 8], [1, 6, 4, 3, 2, 0, 5, 7, 9, 8], [1, 6, 4, 3, 2, 0, 8], [1, 6, 4, 3, 2, 0, 9, 7, 8], [1, 6, 4, 3, 2, 0, 9, 8], [1, 6, 4, 3, 2, 5, 0, 8], [1, 6, 4, 3, 2, 5, 0, 9, 7, 8], [1, 6, 4, 3, 2, 5, 0, 9, 8], [1, 6, 4, 3, 2, 5, 7, 8], [1, 6, 4, 3, 2, 5, 7, 9, 0, 8], [1, 6, 4, 3, 2, 5, 7, 9, 8], [1, 6, 4, 3, 2, 7, 5, 0, 8], [1, 6, 4, 3, 2, 7, 5, 0, 9, 8], [1, 6, 4, 3, 2, 7, 8], [1, 6, 4, 3, 2, 7, 9, 0, 8], [1, 6, 4, 3, 2, 7, 9, 8], [1, 6, 4, 3, 5, 0, 2, 7, 8], [1, 6, 4, 3, 5, 0, 2, 7, 9, 8], [1, 6, 4, 3, 5, 0, 8], [1, 6, 4, 3, 5, 0, 9, 7, 8], [1, 6, 4, 3, 5, 0, 9, 8], [1, 6, 4, 3, 5, 2, 0, 8], [1, 6, 4, 3, 5, 2, 0, 9, 7, 8], [1, 6, 4, 3, 5, 2, 0, 9, 8], [1, 6, 4, 3, 5, 2, 7, 8], [1, 6, 4, 3, 5, 2, 7, 9, 0, 8], [1, 6, 4, 3, 5, 2, 7, 9, 8], [1, 6, 4, 3, 5, 7, 2, 0, 8], [1, 6, 4, 3, 5, 7, 2, 0, 9, 8], [1, 6, 4, 3, 5, 7, 8], [1, 6, 4, 3, 5, 7, 9, 0, 8], [1, 6, 4, 3, 5, 7, 9, 8], [1, 6, 4, 3, 9, 0, 2, 5, 7, 8], [1, 6, 4, 3, 9, 0, 2, 7, 8], [1, 6, 4, 3, 9, 0, 5, 2, 7, 8], [1, 6, 4, 3, 9, 0, 5, 7, 8], [1, 6, 4, 3, 9, 0, 8], [1, 6, 4, 3, 9, 7, 2, 0, 8], [1, 6, 4, 3, 9, 7, 2, 5, 0, 8], [1, 6, 4, 3, 9, 7, 5, 0, 8], [1, 6, 4, 3, 9, 7, 5, 2, 0, 8], [1, 6, 4, 3, 9, 7, 8], [1, 6, 4, 3, 9, 8], [1, 6, 4, 5, 0, 2, 3, 9, 7, 8], [1, 6, 4, 5, 0, 2, 3, 9, 8], [1, 6, 4, 5, 0, 2, 7, 8], [1, 6, 4, 5, 0, 2, 7, 9, 8], [1, 6, 4, 5, 0, 8], [1, 6, 4, 5, 0, 9, 3, 2, 7, 8], [1, 6, 4, 5, 0, 9, 7, 8], [1, 6, 4, 5, 0, 9, 8], [1, 6, 4, 5, 2, 0, 8], [1, 6, 4, 5, 2, 0, 9, 7, 8], [1, 6, 4, 5, 2, 0, 9, 8], [1, 6, 4, 5, 2, 3, 9, 0, 8], [1, 6, 4, 5, 2, 3, 9, 7, 8], [1, 6, 4, 5, 2, 3, 9, 8], [1, 6, 4, 5, 2, 7, 8], [1, 6, 4, 5, 2, 7, 9, 0, 8], [1, 6, 4, 5, 2, 7, 9, 8], [1, 6, 4, 5, 3, 2, 0, 8], [1, 6, 4, 5, 3, 2, 0, 9, 7, 8], [1, 6, 4, 5, 3, 2, 0, 9, 8], [1, 6, 4, 5, 3, 2, 7, 8], [1, 6, 4, 5, 3, 2, 7, 9, 0, 8], [1, 6, 4, 5, 3, 2, 7, 9, 8], [1, 6, 4, 5, 3, 9, 0, 2, 7, 8], [1, 6, 4, 5, 3, 9, 0, 8], [1, 6, 4, 5, 3, 9, 7, 2, 0, 8], [1, 6, 4, 5, 3, 9, 7, 8], [1, 6, 4, 5, 3, 9, 8], [1, 6, 4, 5, 7, 2, 0, 8], [1, 6, 4, 5, 7, 2, 0, 9, 8], [1, 6, 4, 5, 7, 2, 3, 9, 0, 8], [1, 6, 4, 5, 7, 2, 3, 9, 8], [1, 6, 4, 5, 7, 8], [1, 6, 4, 5, 7, 9, 0, 8], [1, 6, 4, 5, 7, 9, 3, 2, 0, 8], [1, 6, 4, 5, 7, 9, 8], [1, 6, 5, 0, 2, 3, 9, 7, 8], [1, 6, 5, 0, 2, 3, 9, 8], [1, 6, 5, 0, 2, 4, 3, 9, 7, 8], [1, 6, 5, 0, 2, 4, 3, 9, 8], [1, 6, 5, 0, 2, 7, 8], [1, 6, 5, 0, 2, 7, 9, 8], [1, 6, 5, 0, 8], [1, 6, 5, 0, 9, 3, 2, 7, 8], [1, 6, 5, 0, 9, 3, 4, 2, 7, 8], [1, 6, 5, 0, 9, 7, 8], [1, 6, 5, 0, 9, 8], [1, 6, 5, 2, 0, 8], [1, 6, 5, 2, 0, 9, 7, 8], [1, 6, 5, 2, 0, 9, 8], [1, 6, 5, 2, 3, 9, 0, 8], [1, 6, 5, 2, 3, 9, 7, 8], [1, 6, 5, 2, 3, 9, 8], [1, 6, 5, 2, 4, 3, 9, 0, 8], [1, 6, 5, 2, 4, 3, 9, 7, 8], [1, 6, 5, 2, 4, 3, 9, 8], [1, 6, 5, 2, 7, 8], [1, 6, 5, 2, 7, 9, 0, 8], [1, 6, 5, 2, 7, 9, 8], [1, 6, 5, 3, 2, 0, 8], [1, 6, 5, 3, 2, 0, 9, 7, 8], [1, 6, 5, 3, 2, 0, 9, 8], [1, 6, 5, 3, 2, 7, 8], [1, 6, 5, 3, 2, 7, 9, 0, 8], [1, 6, 5, 3, 2, 7, 9, 8], [1, 6, 5, 3, 4, 2, 0, 8], [1, 6, 5, 3, 4, 2, 0, 9, 7, 8], [1, 6, 5, 3, 4, 2, 0, 9, 8], [1, 6, 5, 3, 4, 2, 7, 8], [1, 6, 5, 3, 4, 2, 7, 9, 0, 8], [1, 6, 5, 3, 4, 2, 7, 9, 8], [1, 6, 5, 3, 9, 0, 2, 7, 8], [1, 6, 5, 3, 9, 0, 8], [1, 6, 5, 3, 9, 7, 2, 0, 8], [1, 6, 5, 3, 9, 7, 8], [1, 6, 5, 3, 9, 8], [1, 6, 5, 4, 2, 0, 8], [1, 6, 5, 4, 2, 0, 9, 7, 8], [1, 6, 5, 4, 2, 0, 9, 8], [1, 6, 5, 4, 2, 3, 9, 0, 8], [1, 6, 5, 4, 2, 3, 9, 7, 8], [1, 6, 5, 4, 2, 3, 9, 8], [1, 6, 5, 4, 2, 7, 8], [1, 6, 5, 4, 2, 7, 9, 0, 8], [1, 6, 5, 4, 2, 7, 9, 8], [1, 6, 5, 4, 3, 2, 0, 8], [1, 6, 5, 4, 3, 2, 0, 9, 7, 8], [1, 6, 5, 4, 3, 2, 0, 9, 8], [1, 6, 5, 4, 3, 2, 7, 8], [1, 6, 5, 4, 3, 2, 7, 9, 0, 8], [1, 6, 5, 4, 3, 2, 7, 9, 8], [1, 6, 5, 4, 3, 9, 0, 2, 7, 8], [1, 6, 5, 4, 3, 9, 0, 8], [1, 6, 5, 4, 3, 9, 7, 2, 0, 8], [1, 6, 5, 4, 3, 9, 7, 8], [1, 6, 5, 4, 3, 9, 8], [1, 6, 5, 7, 2, 0, 8], [1, 6, 5, 7, 2, 0, 9, 8], [1, 6, 5, 7, 2, 3, 9, 0, 8], [1, 6, 5, 7, 2, 3, 9, 8], [1, 6, 5, 7, 2, 4, 3, 9, 0, 8], [1, 6, 5, 7, 2, 4, 3, 9, 8], [1, 6, 5, 7, 8], [1, 6, 5, 7, 9, 0, 8], [1, 6, 5, 7, 9, 3, 2, 0, 8], [1, 6, 5, 7, 9, 3, 4, 2, 0, 8], [1, 6, 5, 7, 9, 8], [1, 6, 7, 2, 0, 5, 3, 9, 8], [1, 6, 7, 2, 0, 5, 4, 3, 9, 8], [1, 6, 7, 2, 0, 8], [1, 6, 7, 2, 0, 9, 8], [1, 6, 7, 2, 3, 4, 5, 0, 8], [1, 6, 7, 2, 3, 4, 5, 0, 9, 8], [1, 6, 7, 2, 3, 5, 0, 8], [1, 6, 7, 2, 3, 5, 0, 9, 8], [1, 6, 7, 2, 3, 9, 0, 8], [1, 6, 7, 2, 3, 9, 8], [1, 6, 7, 2, 4, 3, 5, 0, 8], [1, 6, 7, 2, 4, 3, 5, 0, 9, 8], [1, 6, 7, 2, 4, 3, 9, 0, 8], [1, 6, 7, 2, 4, 3, 9, 8], [1, 6, 7, 2, 4, 5, 0, 8], [1, 6, 7, 2, 4, 5, 0, 9, 8], [1, 6, 7, 2, 4, 5, 3, 9, 0, 8], [1, 6, 7, 2, 4, 5, 3, 9, 8], [1, 6, 7, 2, 5, 0, 8], [1, 6, 7, 2, 5, 0, 9, 8], [1, 6, 7, 2, 5, 3, 9, 0, 8], [1, 6, 7, 2, 5, 3, 9, 8], [1, 6, 7, 2, 5, 4, 3, 9, 0, 8], [1, 6, 7, 2, 5, 4, 3, 9, 8], [1, 6, 7, 5, 0, 2, 3, 9, 8], [1, 6, 7, 5, 0, 2, 4, 3, 9, 8], [1, 6, 7, 5, 0, 8], [1, 6, 7, 5, 0, 9, 8], [1, 6, 7, 5, 2, 0, 8], [1, 6, 7, 5, 2, 0, 9, 8], [1, 6, 7, 5, 2, 3, 9, 0, 8], [1, 6, 7, 5, 2, 3, 9, 8], [1, 6, 7, 5, 2, 4, 3, 9, 0, 8], [1, 6, 7, 5, 2, 4, 3, 9, 8], [1, 6, 7, 5, 3, 2, 0, 8], [1, 6, 7, 5, 3, 2, 0, 9, 8], [1, 6, 7, 5, 3, 4, 2, 0, 8], [1, 6, 7, 5, 3, 4, 2, 0, 9, 8], [1, 6, 7, 5, 3, 9, 0, 8], [1, 6, 7, 5, 3, 9, 8], [1, 6, 7, 5, 4, 2, 0, 8], [1, 6, 7, 5, 4, 2, 0, 9, 8], [1, 6, 7, 5, 4, 2, 3, 9, 0, 8], [1, 6, 7, 5, 4, 2, 3, 9, 8], [1, 6, 7, 5, 4, 3, 2, 0, 8], [1, 6, 7, 5, 4, 3, 2, 0, 9, 8], [1, 6, 7, 5, 4, 3, 9, 0, 8], [1, 6, 7, 5, 4, 3, 9, 8], [1, 6, 7, 8], [1, 6, 7, 9, 0, 8], [1, 6, 7, 9, 3, 2, 0, 8], [1, 6, 7, 9, 3, 2, 4, 5, 0, 8], [1, 6, 7, 9, 3, 2, 5, 0, 8], [1, 6, 7, 9, 3, 4, 2, 0, 8], [1, 6, 7, 9, 3, 4, 2, 5, 0, 8], [1, 6, 7, 9, 3, 4, 5, 0, 8], [1, 6, 7, 9, 3, 4, 5, 2, 0, 8], [1, 6, 7, 9, 3, 5, 0, 8], [1, 6, 7, 9, 3, 5, 2, 0, 8], [1, 6, 7, 9, 3, 5, 4, 2, 0, 8], [1, 6, 7, 9, 8], [1, 6, 8], [1, 7, 2, 0, 5, 3, 4, 6, 8], [1, 7, 2, 0, 5, 3, 9, 8], [1, 7, 2, 0, 5, 4, 3, 9, 8], [1, 7, 2, 0, 5, 4, 6, 8], [1, 7, 2, 0, 5, 6, 4, 3, 9, 8], [1, 7, 2, 0, 5, 6, 8], [1, 7, 2, 0, 8], [1, 7, 2, 0, 9, 3, 4, 5, 6, 8], [1, 7, 2, 0, 9, 3, 4, 6, 8], [1, 7, 2, 0, 9, 3, 5, 4, 6, 8], [1, 7, 2, 0, 9, 3, 5, 6, 8], [1, 7, 2, 0, 9, 8], [1, 7, 2, 3, 4, 5, 0, 8], [1, 7, 2, 3, 4, 5, 0, 9, 8], [1, 7, 2, 3, 4, 5, 6, 8], [1, 7, 2, 3, 4, 6, 5, 0, 8], [1, 7, 2, 3, 4, 6, 5, 0, 9, 8], [1, 7, 2, 3, 4, 6, 8], [1, 7, 2, 3, 5, 0, 8], [1, 7, 2, 3, 5, 0, 9, 8], [1, 7, 2, 3, 5, 4, 6, 8], [1, 7, 2, 3, 5, 6, 8], [1, 7, 2, 3, 9, 0, 5, 4, 6, 8], [1, 7, 2, 3, 9, 0, 5, 6, 8], [1, 7, 2, 3, 9, 0, 8], [1, 7, 2, 3, 9, 8], [1, 7, 2, 4, 3, 5, 0, 8], [1, 7, 2, 4, 3, 5, 0, 9, 8], [1, 7, 2, 4, 3, 5, 6, 8], [1, 7, 2, 4, 3, 9, 0, 5, 6, 8], [1, 7, 2, 4, 3, 9, 0, 8], [1, 7, 2, 4, 3, 9, 8], [1, 7, 2, 4, 5, 0, 8], [1, 7, 2, 4, 5, 0, 9, 8], [1, 7, 2, 4, 5, 3, 9, 0, 8], [1, 7, 2, 4, 5, 3, 9, 8], [1, 7, 2, 4, 5, 6, 8], [1, 7, 2, 4, 6, 5, 0, 8], [1, 7, 2, 4, 6, 5, 0, 9, 8], [1, 7, 2, 4, 6, 5, 3, 9, 0, 8], [1, 7, 2, 4, 6, 5, 3, 9, 8], [1, 7, 2, 4, 6, 8], [1, 7, 2, 5, 0, 8], [1, 7, 2, 5, 0, 9, 3, 4, 6, 8], [1, 7, 2, 5, 0, 9, 8], [1, 7, 2, 5, 3, 4, 6, 8], [1, 7, 2, 5, 3, 9, 0, 8], [1, 7, 2, 5, 3, 9, 8], [1, 7, 2, 5, 4, 3, 9, 0, 8], [1, 7, 2, 5, 4, 3, 9, 8], [1, 7, 2, 5, 4, 6, 8], [1, 7, 2, 5, 6, 4, 3, 9, 0, 8], [1, 7, 2, 5, 6, 4, 3, 9, 8], [1, 7, 2, 5, 6, 8], [1, 7, 5, 0, 2, 3, 4, 6, 8], [1, 7, 5, 0, 2, 3, 9, 8], [1, 7, 5, 0, 2, 4, 3, 9, 8], [1, 7, 5, 0, 2, 4, 6, 8], [1, 7, 5, 0, 8], [1, 7, 5, 0, 9, 3, 2, 4, 6, 8], [1, 7, 5, 0, 9, 3, 4, 6, 8], [1, 7, 5, 0, 9, 8], [1, 7, 5, 2, 0, 8], [1, 7, 5, 2, 0, 9, 3, 4, 6, 8], [1, 7, 5, 2, 0, 9, 8], [1, 7, 5, 2, 3, 4, 6, 8], [1, 7, 5, 2, 3, 9, 0, 8], [1, 7, 5, 2, 3, 9, 8], [1, 7, 5, 2, 4, 3, 9, 0, 8], [1, 7, 5, 2, 4, 3, 9, 8], [1, 7, 5, 2, 4, 6, 8], [1, 7, 5, 3, 2, 0, 8], [1, 7, 5, 3, 2, 0, 9, 8], [1, 7, 5, 3, 2, 4, 6, 8], [1, 7, 5, 3, 4, 2, 0, 8], [1, 7, 5, 3, 4, 2, 0, 9, 8], [1, 7, 5, 3, 4, 6, 8], [1, 7, 5, 3, 9, 0, 2, 4, 6, 8], [1, 7, 5, 3, 9, 0, 8], [1, 7, 5, 3, 9, 8], [1, 7, 5, 4, 2, 0, 8], [1, 7, 5, 4, 2, 0, 9, 8], [1, 7, 5, 4, 2, 3, 9, 0, 8], [1, 7, 5, 4, 2, 3, 9, 8], [1, 7, 5, 4, 3, 2, 0, 8], [1, 7, 5, 4, 3, 2, 0, 9, 8], [1, 7, 5, 4, 3, 9, 0, 8], [1, 7, 5, 4, 3, 9, 8], [1, 7, 5, 4, 6, 8], [1, 7, 5, 6, 4, 2, 0, 8], [1, 7, 5, 6, 4, 2, 0, 9, 8], [1, 7, 5, 6, 4, 2, 3, 9, 0, 8], [1, 7, 5, 6, 4, 2, 3, 9, 8], [1, 7, 5, 6, 4, 3, 2, 0, 8], [1, 7, 5, 6, 4, 3, 2, 0, 9, 8], [1, 7, 5, 6, 4, 3, 9, 0, 8], [1, 7, 5, 6, 4, 3, 9, 8], [1, 7, 5, 6, 8], [1, 7, 6, 4, 2, 0, 5, 3, 9, 8], [1, 7, 6, 4, 2, 0, 8], [1, 7, 6, 4, 2, 0, 9, 8], [1, 7, 6, 4, 2, 3, 5, 0, 8], [1, 7, 6, 4, 2, 3, 5, 0, 9, 8], [1, 7, 6, 4, 2, 3, 9, 0, 8], [1, 7, 6, 4, 2, 3, 9, 8], [1, 7, 6, 4, 2, 5, 0, 8], [1, 7, 6, 4, 2, 5, 0, 9, 8], [1, 7, 6, 4, 2, 5, 3, 9, 0, 8], [1, 7, 6, 4, 2, 5, 3, 9, 8], [1, 7, 6, 4, 3, 2, 0, 8], [1, 7, 6, 4, 3, 2, 0, 9, 8], [1, 7, 6, 4, 3, 2, 5, 0, 8], [1, 7, 6, 4, 3, 2, 5, 0, 9, 8], [1, 7, 6, 4, 3, 5, 0, 8], [1, 7, 6, 4, 3, 5, 0, 9, 8], [1, 7, 6, 4, 3, 5, 2, 0, 8], [1, 7, 6, 4, 3, 5, 2, 0, 9, 8], [1, 7, 6, 4, 3, 9, 0, 8], [1, 7, 6, 4, 3, 9, 8], [1, 7, 6, 4, 5, 0, 2, 3, 9, 8], [1, 7, 6, 4, 5, 0, 8], [1, 7, 6, 4, 5, 0, 9, 8], [1, 7, 6, 4, 5, 2, 0, 8], [1, 7, 6, 4, 5, 2, 0, 9, 8], [1, 7, 6, 4, 5, 2, 3, 9, 0, 8], [1, 7, 6, 4, 5, 2, 3, 9, 8], [1, 7, 6, 4, 5, 3, 2, 0, 8], [1, 7, 6, 4, 5, 3, 2, 0, 9, 8], [1, 7, 6, 4, 5, 3, 9, 0, 8], [1, 7, 6, 4, 5, 3, 9, 8], [1, 7, 6, 5, 0, 2, 3, 9, 8], [1, 7, 6, 5, 0, 2, 4, 3, 9, 8], [1, 7, 6, 5, 0, 8], [1, 7, 6, 5, 0, 9, 8], [1, 7, 6, 5, 2, 0, 8], [1, 7, 6, 5, 2, 0, 9, 8], [1, 7, 6, 5, 2, 3, 9, 0, 8], [1, 7, 6, 5, 2, 3, 9, 8], [1, 7, 6, 5, 2, 4, 3, 9, 0, 8], [1, 7, 6, 5, 2, 4, 3, 9, 8], [1, 7, 6, 5, 3, 2, 0, 8], [1, 7, 6, 5, 3, 2, 0, 9, 8], [1, 7, 6, 5, 3, 4, 2, 0, 8], [1, 7, 6, 5, 3, 4, 2, 0, 9, 8], [1, 7, 6, 5, 3, 9, 0, 8], [1, 7, 6, 5, 3, 9, 8], [1, 7, 6, 5, 4, 2, 0, 8], [1, 7, 6, 5, 4, 2, 0, 9, 8], [1, 7, 6, 5, 4, 2, 3, 9, 0, 8], [1, 7, 6, 5, 4, 2, 3, 9, 8], [1, 7, 6, 5, 4, 3, 2, 0, 8], [1, 7, 6, 5, 4, 3, 2, 0, 9, 8], [1, 7, 6, 5, 4, 3, 9, 0, 8], [1, 7, 6, 5, 4, 3, 9, 8], [1, 7, 6, 8], [1, 7, 8], [1, 7, 9, 0, 2, 3, 4, 5, 6, 8], [1, 7, 9, 0, 2, 3, 4, 6, 8], [1, 7, 9, 0, 2, 3, 5, 4, 6, 8], [1, 7, 9, 0, 2, 3, 5, 6, 8], [1, 7, 9, 0, 2, 4, 3, 5, 6, 8], [1, 7, 9, 0, 2, 4, 5, 6, 8], [1, 7, 9, 0, 2, 4, 6, 8], [1, 7, 9, 0, 2, 5, 3, 4, 6, 8], [1, 7, 9, 0, 2, 5, 4, 6, 8], [1, 7, 9, 0, 2, 5, 6, 8], [1, 7, 9, 0, 5, 2, 3, 4, 6, 8], [1, 7, 9, 0, 5, 2, 4, 6, 8], [1, 7, 9, 0, 5, 3, 2, 4, 6, 8], [1, 7, 9, 0, 5, 3, 4, 6, 8], [1, 7, 9, 0, 5, 4, 6, 8], [1, 7, 9, 0, 5, 6, 8], [1, 7, 9, 0, 8], [1, 7, 9, 3, 2, 0, 5, 4, 6, 8], [1, 7, 9, 3, 2, 0, 5, 6, 8], [1, 7, 9, 3, 2, 0, 8], [1, 7, 9, 3, 2, 4, 5, 0, 8], [1, 7, 9, 3, 2, 4, 5, 6, 8], [1, 7, 9, 3, 2, 4, 6, 5, 0, 8], [1, 7, 9, 3, 2, 4, 6, 8], [1, 7, 9, 3, 2, 5, 0, 8], [1, 7, 9, 3, 2, 5, 4, 6, 8], [1, 7, 9, 3, 2, 5, 6, 8], [1, 7, 9, 3, 4, 2, 0, 5, 6, 8], [1, 7, 9, 3, 4, 2, 0, 8], [1, 7, 9, 3, 4, 2, 5, 0, 8], [1, 7, 9, 3, 4, 2, 5, 6, 8], [1, 7, 9, 3, 4, 5, 0, 8], [1, 7, 9, 3, 4, 5, 2, 0, 8], [1, 7, 9, 3, 4, 5, 6, 8], [1, 7, 9, 3, 4, 6, 5, 0, 8], [1, 7, 9, 3, 4, 6, 5, 2, 0, 8], [1, 7, 9, 3, 4, 6, 8], [1, 7, 9, 3, 5, 0, 2, 4, 6, 8], [1, 7, 9, 3, 5, 0, 8], [1, 7, 9, 3, 5, 2, 0, 8], [1, 7, 9, 3, 5, 2, 4, 6, 8], [1, 7, 9, 3, 5, 4, 2, 0, 8], [1, 7, 9, 3, 5, 4, 6, 8], [1, 7, 9, 3, 5, 6, 4, 2, 0, 8], [1, 7, 9, 3, 5, 6, 8], [1, 7, 9, 8], [1, 9, 0, 2, 3, 4, 5, 6, 7, 8], [1, 9, 0, 2, 3, 4, 5, 6, 8], [1, 9, 0, 2, 3, 4, 5, 7, 6, 8], [1, 9, 0, 2, 3, 4, 5, 7, 8], [1, 9, 0, 2, 3, 4, 6, 5, 7, 8], [1, 9, 0, 2, 3, 4, 6, 7, 8], [1, 9, 0, 2, 3, 4, 6, 8], [1, 9, 0, 2, 3, 5, 4, 6, 7, 8], [1, 9, 0, 2, 3, 5, 4, 6, 8], [1, 9, 0, 2, 3, 5, 6, 7, 8], [1, 9, 0, 2, 3, 5, 6, 8], [1, 9, 0, 2, 3, 5, 7, 6, 8], [1, 9, 0, 2, 3, 5, 7, 8], [1, 9, 0, 2, 4, 3, 5, 6, 7, 8], [1, 9, 0, 2, 4, 3, 5, 6, 8], [1, 9, 0, 2, 4, 3, 5, 7, 6, 8], [1, 9, 0, 2, 4, 3, 5, 7, 8], [1, 9, 0, 2, 4, 5, 6, 7, 8], [1, 9, 0, 2, 4, 5, 6, 8], [1, 9, 0, 2, 4, 5, 7, 6, 8], [1, 9, 0, 2, 4, 5, 7, 8], [1, 9, 0, 2, 4, 6, 5, 7, 8], [1, 9, 0, 2, 4, 6, 7, 8], [1, 9, 0, 2, 4, 6, 8], [1, 9, 0, 2, 5, 3, 4, 6, 7, 8], [1, 9, 0, 2, 5, 3, 4, 6, 8], [1, 9, 0, 2, 5, 4, 6, 7, 8], [1, 9, 0, 2, 5, 4, 6, 8], [1, 9, 0, 2, 5, 6, 7, 8], [1, 9, 0, 2, 5, 6, 8], [1, 9, 0, 2, 5, 7, 6, 8], [1, 9, 0, 2, 5, 7, 8], [1, 9, 0, 2, 7, 5, 3, 4, 6, 8], [1, 9, 0, 2, 7, 5, 4, 6, 8], [1, 9, 0, 2, 7, 5, 6, 8], [1, 9, 0, 2, 7, 6, 8], [1, 9, 0, 2, 7, 8], [1, 9, 0, 5, 2, 3, 4, 6, 7, 8], [1, 9, 0, 5, 2, 3, 4, 6, 8], [1, 9, 0, 5, 2, 4, 6, 7, 8], [1, 9, 0, 5, 2, 4, 6, 8], [1, 9, 0, 5, 2, 7, 6, 8], [1, 9, 0, 5, 2, 7, 8], [1, 9, 0, 5, 3, 2, 4, 6, 7, 8], [1, 9, 0, 5, 3, 2, 4, 6, 8], [1, 9, 0, 5, 3, 2, 7, 6, 8], [1, 9, 0, 5, 3, 2, 7, 8], [1, 9, 0, 5, 3, 4, 2, 7, 6, 8], [1, 9, 0, 5, 3, 4, 2, 7, 8], [1, 9, 0, 5, 3, 4, 6, 7, 8], [1, 9, 0, 5, 3, 4, 6, 8], [1, 9, 0, 5, 4, 2, 7, 6, 8], [1, 9, 0, 5, 4, 2, 7, 8], [1, 9, 0, 5, 4, 3, 2, 7, 6, 8], [1, 9, 0, 5, 4, 3, 2, 7, 8], [1, 9, 0, 5, 4, 6, 7, 8], [1, 9, 0, 5, 4, 6, 8], [1, 9, 0, 5, 6, 4, 2, 7, 8], [1, 9, 0, 5, 6, 4, 3, 2, 7, 8], [1, 9, 0, 5, 6, 7, 8], [1, 9, 0, 5, 6, 8], [1, 9, 0, 5, 7, 2, 3, 4, 6, 8], [1, 9, 0, 5, 7, 2, 4, 6, 8], [1, 9, 0, 5, 7, 6, 8], [1, 9, 0, 5, 7, 8], [1, 9, 0, 8], [1, 9, 3, 2, 0, 5, 4, 6, 7, 8], [1, 9, 3, 2, 0, 5, 4, 6, 8], [1, 9, 3, 2, 0, 5, 6, 7, 8], [1, 9, 3, 2, 0, 5, 6, 8], [1, 9, 3, 2, 0, 5, 7, 6, 8], [1, 9, 3, 2, 0, 5, 7, 8], [1, 9, 3, 2, 0, 8], [1, 9, 3, 2, 4, 5, 0, 8], [1, 9, 3, 2, 4, 5, 6, 7, 8], [1, 9, 3, 2, 4, 5, 6, 8], [1, 9, 3, 2, 4, 5, 7, 6, 8], [1, 9, 3, 2, 4, 5, 7, 8], [1, 9, 3, 2, 4, 6, 5, 0, 8], [1, 9, 3, 2, 4, 6, 5, 7, 8], [1, 9, 3, 2, 4, 6, 7, 5, 0, 8], [1, 9, 3, 2, 4, 6, 7, 8], [1, 9, 3, 2, 4, 6, 8], [1, 9, 3, 2, 5, 0, 8], [1, 9, 3, 2, 5, 4, 6, 7, 8], [1, 9, 3, 2, 5, 4, 6, 8], [1, 9, 3, 2, 5, 6, 7, 8], [1, 9, 3, 2, 5, 6, 8], [1, 9, 3, 2, 5, 7, 6, 8], [1, 9, 3, 2, 5, 7, 8], [1, 9, 3, 2, 7, 5, 0, 8], [1, 9, 3, 2, 7, 5, 4, 6, 8], [1, 9, 3, 2, 7, 5, 6, 8], [1, 9, 3, 2, 7, 6, 4, 5, 0, 8], [1, 9, 3, 2, 7, 6, 5, 0, 8], [1, 9, 3, 2, 7, 6, 8], [1, 9, 3, 2, 7, 8], [1, 9, 3, 4, 2, 0, 5, 6, 7, 8], [1, 9, 3, 4, 2, 0, 5, 6, 8], [1, 9, 3, 4, 2, 0, 5, 7, 6, 8], [1, 9, 3, 4, 2, 0, 5, 7, 8], [1, 9, 3, 4, 2, 0, 8], [1, 9, 3, 4, 2, 5, 0, 8], [1, 9, 3, 4, 2, 5, 6, 7, 8], [1, 9, 3, 4, 2, 5, 6, 8], [1, 9, 3, 4, 2, 5, 7, 6, 8], [1, 9, 3, 4, 2, 5, 7, 8], [1, 9, 3, 4, 2, 7, 5, 0, 8], [1, 9, 3, 4, 2, 7, 5, 6, 8], [1, 9, 3, 4, 2, 7, 6, 5, 0, 8], [1, 9, 3, 4, 2, 7, 6, 8], [1, 9, 3, 4, 2, 7, 8], [1, 9, 3, 4, 5, 0, 2, 7, 6, 8], [1, 9, 3, 4, 5, 0, 2, 7, 8], [1, 9, 3, 4, 5, 0, 8], [1, 9, 3, 4, 5, 2, 0, 8], [1, 9, 3, 4, 5, 2, 7, 6, 8], [1, 9, 3, 4, 5, 2, 7, 8], [1, 9, 3, 4, 5, 6, 7, 2, 0, 8], [1, 9, 3, 4, 5, 6, 7, 8], [1, 9, 3, 4, 5, 6, 8], [1, 9, 3, 4, 5, 7, 2, 0, 8], [1, 9, 3, 4, 5, 7, 6, 8], [1, 9, 3, 4, 5, 7, 8], [1, 9, 3, 4, 6, 5, 0, 2, 7, 8], [1, 9, 3, 4, 6, 5, 0, 8], [1, 9, 3, 4, 6, 5, 2, 0, 8], [1, 9, 3, 4, 6, 5, 2, 7, 8], [1, 9, 3, 4, 6, 5, 7, 2, 0, 8], [1, 9, 3, 4, 6, 5, 7, 8], [1, 9, 3, 4, 6, 7, 2, 0, 8], [1, 9, 3, 4, 6, 7, 2, 5, 0, 8], [1, 9, 3, 4, 6, 7, 5, 0, 8], [1, 9, 3, 4, 6, 7, 5, 2, 0, 8], [1, 9, 3, 4, 6, 7, 8], [1, 9, 3, 4, 6, 8], [1, 9, 3, 5, 0, 2, 4, 6, 7, 8], [1, 9, 3, 5, 0, 2, 4, 6, 8], [1, 9, 3, 5, 0, 2, 7, 6, 8], [1, 9, 3, 5, 0, 2, 7, 8], [1, 9, 3, 5, 0, 8], [1, 9, 3, 5, 2, 0, 8], [1, 9, 3, 5, 2, 4, 6, 7, 8], [1, 9, 3, 5, 2, 4, 6, 8], [1, 9, 3, 5, 2, 7, 6, 8], [1, 9, 3, 5, 2, 7, 8], [1, 9, 3, 5, 4, 2, 0, 8], [1, 9, 3, 5, 4, 2, 7, 6, 8], [1, 9, 3, 5, 4, 2, 7, 8], [1, 9, 3, 5, 4, 6, 7, 2, 0, 8], [1, 9, 3, 5, 4, 6, 7, 8], [1, 9, 3, 5, 4, 6, 8], [1, 9, 3, 5, 6, 4, 2, 0, 8], [1, 9, 3, 5, 6, 4, 2, 7, 8], [1, 9, 3, 5, 6, 7, 2, 0, 8], [1, 9, 3, 5, 6, 7, 8], [1, 9, 3, 5, 6, 8], [1, 9, 3, 5, 7, 2, 0, 8], [1, 9, 3, 5, 7, 2, 4, 6, 8], [1, 9, 3, 5, 7, 6, 4, 2, 0, 8], [1, 9, 3, 5, 7, 6, 8], [1, 9, 3, 5, 7, 8], [1, 9, 7, 2, 0, 5, 3, 4, 6, 8], [1, 9, 7, 2, 0, 5, 4, 6, 8], [1, 9, 7, 2, 0, 5, 6, 8], [1, 9, 7, 2, 0, 8], [1, 9, 7, 2, 3, 4, 5, 0, 8], [1, 9, 7, 2, 3, 4, 5, 6, 8], [1, 9, 7, 2, 3, 4, 6, 5, 0, 8], [1, 9, 7, 2, 3, 4, 6, 8], [1, 9, 7, 2, 3, 5, 0, 8], [1, 9, 7, 2, 3, 5, 4, 6, 8], [1, 9, 7, 2, 3, 5, 6, 8], [1, 9, 7, 2, 4, 3, 5, 0, 8], [1, 9, 7, 2, 4, 3, 5, 6, 8], [1, 9, 7, 2, 4, 5, 0, 8], [1, 9, 7, 2, 4, 5, 6, 8], [1, 9, 7, 2, 4, 6, 5, 0, 8], [1, 9, 7, 2, 4, 6, 8], [1, 9, 7, 2, 5, 0, 8], [1, 9, 7, 2, 5, 3, 4, 6, 8], [1, 9, 7, 2, 5, 4, 6, 8], [1, 9, 7, 2, 5, 6, 8], [1, 9, 7, 5, 0, 2, 3, 4, 6, 8], [1, 9, 7, 5, 0, 2, 4, 6, 8], [1, 9, 7, 5, 0, 8], [1, 9, 7, 5, 2, 0, 8], [1, 9, 7, 5, 2, 3, 4, 6, 8], [1, 9, 7, 5, 2, 4, 6, 8], [1, 9, 7, 5, 3, 2, 0, 8], [1, 9, 7, 5, 3, 2, 4, 6, 8], [1, 9, 7, 5, 3, 4, 2, 0, 8], [1, 9, 7, 5, 3, 4, 6, 8], [1, 9, 7, 5, 4, 2, 0, 8], [1, 9, 7, 5, 4, 3, 2, 0, 8], [1, 9, 7, 5, 4, 6, 8], [1, 9, 7, 5, 6, 4, 2, 0, 8], [1, 9, 7, 5, 6, 4, 3, 2, 0, 8], [1, 9, 7, 5, 6, 8], [1, 9, 7, 6, 4, 2, 0, 8], [1, 9, 7, 6, 4, 2, 3, 5, 0, 8], [1, 9, 7, 6, 4, 2, 5, 0, 8], [1, 9, 7, 6, 4, 3, 2, 0, 8], [1, 9, 7, 6, 4, 3, 2, 5, 0, 8], [1, 9, 7, 6, 4, 3, 5, 0, 8], [1, 9, 7, 6, 4, 3, 5, 2, 0, 8], [1, 9, 7, 6, 4, 5, 0, 8], [1, 9, 7, 6, 4, 5, 2, 0, 8], [1, 9, 7, 6, 4, 5, 3, 2, 0, 8], [1, 9, 7, 6, 5, 0, 8], [1, 9, 7, 6, 5, 2, 0, 8], [1, 9, 7, 6, 5, 3, 2, 0, 8], [1, 9, 7, 6, 5, 3, 4, 2, 0, 8], [1, 9, 7, 6, 5, 4, 2, 0, 8], [1, 9, 7, 6, 5, 4, 3, 2, 0, 8], [1, 9, 7, 6, 8], [1, 9, 7, 8], [1, 9, 8]]\n"
     ]
    }
   ],
   "source": [
    "spaths = nx.all_simple_paths(DiG, 1, )\n",
    "print(list(spaths))"
   ]
  },
  {
   "cell_type": "code",
   "execution_count": 25,
   "metadata": {},
   "outputs": [
    {
     "name": "stdout",
     "output_type": "stream",
     "text": [
      "[1, 2, 3, 4, 6]\n",
      "[1, 0, 8, 7, 6]\n",
      "[[[1, 2, 1], [2, 3, 1], [3, 4, 1], [4, 6, 1]], [[1, 0, 1], [0, 8, 1], [8, 7, 1], [7, 6, 1]]]\n"
     ]
    }
   ],
   "source": [
    "swg_pth = path_gen([[1,2,3,4,6], \n",
    "                    [1,0,8,7,6]])\n",
    "print(swg_pth)"
   ]
  },
  {
   "cell_type": "code",
   "execution_count": 82,
   "metadata": {},
   "outputs": [
    {
     "name": "stdout",
     "output_type": "stream",
     "text": [
      "[[4, 2, 0, 3], [4, 2, 0, 6, 3], [4, 2, 3], [4, 2, 5, 3], [4, 2, 7, 0, 3], [4, 2, 7, 0, 6, 3], [4, 2, 8, 3], [4, 2, 9, 3], [4, 3]]\n"
     ]
    }
   ],
   "source": [
    "spaths = nx.all_simple_paths(sfg, 4, 3)\n",
    "print(list(spaths))"
   ]
  },
  {
   "cell_type": "code",
   "execution_count": 83,
   "metadata": {},
   "outputs": [
    {
     "name": "stdout",
     "output_type": "stream",
     "text": [
      "[5, 3, 0, 7, 2]\n",
      "[4, 2, 0, 6, 3]\n",
      "[7, 3, 1, 2, 9]\n",
      "[[[5, 3, 11], [3, 0, 11], [0, 7, 10], [7, 2, 6]], [[4, 2, 13], [2, 0, 12], [0, 6, 12], [6, 3, 13]], [[7, 3, 9], [3, 1, 9], [1, 2, 9], [2, 9, 13]]]\n"
     ]
    }
   ],
   "source": [
    "sfg_pth = path_gen([[5, 3, 0, 7, 2],                     \n",
    "                    [4, 2, 0, 6, 3],                     \n",
    "                    [7, 3, 1, 2, 9]])\n",
    "print(sfg_pth)"
   ]
  },
  {
   "cell_type": "code",
   "execution_count": 28,
   "metadata": {},
   "outputs": [
    {
     "name": "stdout",
     "output_type": "stream",
     "text": [
      "[1, 2, 3, 4, 6]\n",
      "[1, 0, 8, 7, 6]\n",
      "[[[1, 2, 1], [2, 3, 1], [3, 4, 1], [4, 6, 1]], [[1, 0, 1], [0, 8, 1], [8, 7, 1], [7, 6, 1]]]\n"
     ]
    }
   ],
   "source": [
    "npg_pth = path_gen([[1,2,3,4,6], \n",
    "                    [1,0,8,7,6]])\n",
    "print(npg_pth)"
   ]
  },
  {
   "cell_type": "code",
   "execution_count": 35,
   "metadata": {},
   "outputs": [
    {
     "name": "stdout",
     "output_type": "stream",
     "text": [
      "Edges:\n",
      " [[0, 1], [0, 2], [0, 5], [0, 8], [0, 9], [1, 0], [1, 2], [1, 3], [1, 4], [1, 6], [1, 7], [1, 9], [2, 0], [2, 1], [2, 3], [2, 4], [2, 5], [2, 7], [3, 1], [3, 2], [3, 4], [3, 5], [3, 9], [4, 1], [4, 2], [4, 3], [4, 5], [4, 6], [5, 0], [5, 2], [5, 3], [5, 4], [5, 6], [5, 7], [6, 1], [6, 4], [6, 5], [6, 7], [6, 8], [7, 1], [7, 2], [7, 5], [7, 6], [7, 8], [7, 9], [8, 0], [8, 6], [8, 7], [8, 9], [9, 0], [9, 1], [9, 3], [9, 7], [9, 8]]\n",
      "Paths:\n",
      " [[0. 0. 0. 0. 0. 0. 1. 0. 0. 0. 0. 0. 0. 0. 1. 0. 0. 0. 0. 0. 1. 0. 0. 0.\n",
      "  0. 0. 0. 1. 0. 0. 0. 0. 0. 0. 0. 0. 0. 0. 0. 0. 0. 0. 0. 0. 0. 0. 0. 0.\n",
      "  0. 0. 0. 0. 0. 0.]\n",
      " [0. 0. 0. 1. 0. 1. 0. 0. 0. 0. 0. 0. 0. 0. 0. 0. 0. 0. 0. 0. 0. 0. 0. 0.\n",
      "  0. 0. 0. 0. 0. 0. 0. 0. 0. 0. 0. 0. 0. 0. 0. 0. 0. 0. 1. 0. 0. 0. 0. 1.\n",
      "  0. 0. 0. 0. 0. 0.]]\n"
     ]
    }
   ],
   "source": [
    "flows, noiseless_flows, edge_adj, paths = flow_gen(G, npg_pth[0:2], 2000, Range=50)"
   ]
  },
  {
   "cell_type": "code",
   "execution_count": 42,
   "metadata": {},
   "outputs": [
    {
     "name": "stdout",
     "output_type": "stream",
     "text": [
      "[[ 0.          0.          0.         33.28533762  0.         33.28533762\n",
      "  44.89395732  0.          0.          0.          0.          0.\n",
      "   0.          0.         44.89395732  0.          0.          0.\n",
      "   0.          0.         44.89395732  0.          0.          0.\n",
      "   0.          0.          0.         44.89395732  0.          0.\n",
      "   0.          0.          0.          0.          0.          0.\n",
      "   0.          0.          0.          0.          0.          0.\n",
      "  33.28533762  0.          0.          0.          0.         33.28533762\n",
      "   0.          0.          0.          0.          0.          0.        ]\n",
      " [ 0.          0.          0.         26.36641936  0.         26.36641936\n",
      "  39.50657672  0.          0.          0.          0.          0.\n",
      "   0.          0.         39.50657672  0.          0.          0.\n",
      "   0.          0.         39.50657672  0.          0.          0.\n",
      "   0.          0.          0.         39.50657672  0.          0.\n",
      "   0.          0.          0.          0.          0.          0.\n",
      "   0.          0.          0.          0.          0.          0.\n",
      "  26.36641936  0.          0.          0.          0.         26.36641936\n",
      "   0.          0.          0.          0.          0.          0.        ]\n",
      " [ 0.          0.          0.         32.68287019  0.         32.68287019\n",
      "  38.59992283  0.          0.          0.          0.          0.\n",
      "   0.          0.         38.59992283  0.          0.          0.\n",
      "   0.          0.         38.59992283  0.          0.          0.\n",
      "   0.          0.          0.         38.59992283  0.          0.\n",
      "   0.          0.          0.          0.          0.          0.\n",
      "   0.          0.          0.          0.          0.          0.\n",
      "  32.68287019  0.          0.          0.          0.         32.68287019\n",
      "   0.          0.          0.          0.          0.          0.        ]\n",
      " [ 0.          0.          0.          8.80186603  0.          8.80186603\n",
      "  28.40791995  0.          0.          0.          0.          0.\n",
      "   0.          0.         28.40791995  0.          0.          0.\n",
      "   0.          0.         28.40791995  0.          0.          0.\n",
      "   0.          0.          0.         28.40791995  0.          0.\n",
      "   0.          0.          0.          0.          0.          0.\n",
      "   0.          0.          0.          0.          0.          0.\n",
      "   8.80186603  0.          0.          0.          0.          8.80186603\n",
      "   0.          0.          0.          0.          0.          0.        ]\n",
      " [ 0.          0.          0.         44.04678634  0.         44.04678634\n",
      "   2.4821553   0.          0.          0.          0.          0.\n",
      "   0.          0.          2.4821553   0.          0.          0.\n",
      "   0.          0.          2.4821553   0.          0.          0.\n",
      "   0.          0.          0.          2.4821553   0.          0.\n",
      "   0.          0.          0.          0.          0.          0.\n",
      "   0.          0.          0.          0.          0.          0.\n",
      "  44.04678634  0.          0.          0.          0.         44.04678634\n",
      "   0.          0.          0.          0.          0.          0.        ]\n",
      " [ 0.          0.          0.          2.41647595  0.          2.41647595\n",
      "  34.78834426  0.          0.          0.          0.          0.\n",
      "   0.          0.         34.78834426  0.          0.          0.\n",
      "   0.          0.         34.78834426  0.          0.          0.\n",
      "   0.          0.          0.         34.78834426  0.          0.\n",
      "   0.          0.          0.          0.          0.          0.\n",
      "   0.          0.          0.          0.          0.          0.\n",
      "   2.41647595  0.          0.          0.          0.          2.41647595\n",
      "   0.          0.          0.          0.          0.          0.        ]\n",
      " [ 0.          0.          0.         42.42473694  0.         42.42473694\n",
      "  10.98362412  0.          0.          0.          0.          0.\n",
      "   0.          0.         10.98362412  0.          0.          0.\n",
      "   0.          0.         10.98362412  0.          0.          0.\n",
      "   0.          0.          0.         10.98362412  0.          0.\n",
      "   0.          0.          0.          0.          0.          0.\n",
      "   0.          0.          0.          0.          0.          0.\n",
      "  42.42473694  0.          0.          0.          0.         42.42473694\n",
      "   0.          0.          0.          0.          0.          0.        ]\n",
      " [ 0.          0.          0.          1.76756846  0.          1.76756846\n",
      "  14.89077076  0.          0.          0.          0.          0.\n",
      "   0.          0.         14.89077076  0.          0.          0.\n",
      "   0.          0.         14.89077076  0.          0.          0.\n",
      "   0.          0.          0.         14.89077076  0.          0.\n",
      "   0.          0.          0.          0.          0.          0.\n",
      "   0.          0.          0.          0.          0.          0.\n",
      "   1.76756846  0.          0.          0.          0.          1.76756846\n",
      "   0.          0.          0.          0.          0.          0.        ]\n",
      " [ 0.          0.          0.         10.08249152  0.         10.08249152\n",
      "  30.0113233   0.          0.          0.          0.          0.\n",
      "   0.          0.         30.0113233   0.          0.          0.\n",
      "   0.          0.         30.0113233   0.          0.          0.\n",
      "   0.          0.          0.         30.0113233   0.          0.\n",
      "   0.          0.          0.          0.          0.          0.\n",
      "   0.          0.          0.          0.          0.          0.\n",
      "  10.08249152  0.          0.          0.          0.         10.08249152\n",
      "   0.          0.          0.          0.          0.          0.        ]\n",
      " [ 0.          0.          0.         11.71048816  0.         11.71048816\n",
      "   7.2808878   0.          0.          0.          0.          0.\n",
      "   0.          0.          7.2808878   0.          0.          0.\n",
      "   0.          0.          7.2808878   0.          0.          0.\n",
      "   0.          0.          0.          7.2808878   0.          0.\n",
      "   0.          0.          0.          0.          0.          0.\n",
      "   0.          0.          0.          0.          0.          0.\n",
      "  11.71048816  0.          0.          0.          0.         11.71048816\n",
      "   0.          0.          0.          0.          0.          0.        ]]\n",
      "[-0.42103247 -1.69370124  0.43971395 -1.22968056 -1.66873295 -0.73376972\n",
      " -0.73302678  0.1621801  -0.29483316  1.10633333 -1.18293999  1.09535928\n",
      "  0.13716385  1.16916901  0.22838453 -0.29500476 -0.02514203 -0.86903473\n",
      "  0.57341655 -2.02984011 -0.99410233  0.09829457 -1.07648406  0.06394719\n",
      "  0.63945107  0.51416504  1.38075611  0.21739951 -0.40532349 -1.3029411\n",
      " -2.74019437 -0.49383467 -0.4379517  -0.87581487  0.64500724  0.69028033\n",
      "  0.25396784  1.24477204 -0.43912423 -0.79814927  0.63630691 -0.34366683\n",
      " -0.80506168  0.70170774 -0.08428182 -1.67365101 -0.17735487 -0.64147332\n",
      "  0.76678242  0.03851426  0.54219457  1.43939969  0.32791817  0.75120941]\n"
     ]
    }
   ],
   "source": [
    "print(noiseless_flows[0:10])\n",
    "print(flows[0] - noiseless_flows[0])"
   ]
  },
  {
   "cell_type": "code",
   "execution_count": 43,
   "metadata": {},
   "outputs": [],
   "source": [
    "np.save('flows.npy', flows)\n",
    "np.save('noiseless_flows.npy', noiseless_flows)\n",
    "np.save('adj.npy', edge_adj)\n",
    "np.save('paths.npy', paths)\n",
    "np.save('graph.npy', G)"
   ]
  },
  {
   "cell_type": "code",
   "execution_count": 38,
   "metadata": {},
   "outputs": [
    {
     "name": "stdout",
     "output_type": "stream",
     "text": [
      "[ 0.          0.          0.          0.         34.48325979  0.\n",
      " 48.57247797  0.          0.          0.          0.         24.63089985\n",
      "  0.         77.71596475  0.          0.         49.26179969  0.\n",
      "  0.          0.          0.          0.          0.          0.\n",
      "  0.          0.         73.06551347  0.          0.          0.\n",
      "  0.          0.          0.          0.          0.          0.\n",
      "  0.          0.          0.         48.57247797  0.        ]\n"
     ]
    }
   ],
   "source": [
    "print(noiseless_flows[0])"
   ]
  }
 ],
 "metadata": {
  "kernelspec": {
   "display_name": "Python 3",
   "language": "python",
   "name": "python3"
  },
  "language_info": {
   "codemirror_mode": {
    "name": "ipython",
    "version": 3
   },
   "file_extension": ".py",
   "mimetype": "text/x-python",
   "name": "python",
   "nbconvert_exporter": "python",
   "pygments_lexer": "ipython3",
   "version": "3.8.2"
  }
 },
 "nbformat": 4,
 "nbformat_minor": 4
}
