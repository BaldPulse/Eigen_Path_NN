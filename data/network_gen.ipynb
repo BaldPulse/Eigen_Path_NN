{
 "cells": [
  {
   "cell_type": "code",
   "execution_count": 6,
   "metadata": {},
   "outputs": [],
   "source": [
    "import numpy as np\n",
    "import networkx as nx\n",
    "import networkx.generators.random_graphs as nxrg"
   ]
  },
  {
   "cell_type": "code",
   "execution_count": 2,
   "metadata": {},
   "outputs": [],
   "source": [
    "def adjacency_gen(nnodes, undirected = False):\n",
    "    adj = np.random.randint(2, size = (nnodes, nnodes), dtype = int)\n",
    "    for i in range(nnodes):\n",
    "        adj[i,i] = 0\n",
    "    if(undirected):\n",
    "        for i in range(nnodes):\n",
    "            for j in range(i):\n",
    "                adj[i,j] = adj[j,i]\n",
    "    return adj"
   ]
  },
  {
   "cell_type": "code",
   "execution_count": 23,
   "metadata": {},
   "outputs": [],
   "source": [
    "def flow_gen(adj, paths, nsample, backflow = False):\n",
    "    '''\n",
    "    generates flow samples based on eigenpaths with gaussian noise\n",
    "    input:\n",
    "    adj: adjacency matrix of graph, rows represent staring nodes, columns representing destination nodes\n",
    "    paths: eigenpaths of a fixed length, \n",
    "        must be in the format [s1, d1, w1], [s2=d1, d2, w2], ... [sl=d(l-1), dl, wl]\n",
    "        where s is the starting node of the edge, d is the ending node of the edge\n",
    "        and w is the weight of each edge in the path\n",
    "    nsample: number of samples generated\n",
    "    backflow: allow edge adjacency matrix to have backflow, making it symetric\n",
    "    noise: add gaussian noise or not\n",
    "    \n",
    "    output:\n",
    "    sample: nsample * nedges np array\n",
    "    edge_adj: edge adjacency matrix\n",
    "    '''\n",
    "    \n",
    "    for p in paths:\n",
    "        prev_end = None\n",
    "        for e in p:\n",
    "            assert adj[e[0], e[1]] == 1 #all paths must exist\n",
    "            assert prev_end is None or e[0] == prev_end #all paths must be valid\n",
    "            prev_end = e[1]\n",
    "    \n",
    "    #encode adjacency matrix into edge vector\n",
    "    nEdges = 0\n",
    "    Edges = []\n",
    "    for start in range(adj.shape[0]):\n",
    "        for dest in range(adj.shape[0]):\n",
    "            if(adj[start, dest] == 1):\n",
    "                nEdges += 1\n",
    "                Edges.append([start, dest])\n",
    "    print(\"Edges:\\n\", Edges)\n",
    "    \n",
    "    Paths = np.zeros((len(paths), nEdges), dtype = float)\n",
    "    for p in range(len(paths)):\n",
    "        for e in range(len(paths[0])):\n",
    "            Paths[p, Edges.index(paths[p][e][0:2])] = paths[p][e][2]\n",
    "    print(\"Paths:\\n\", Paths)\n",
    "    \n",
    "    sample = np.zeros((nsample, nEdges), dtype = float)\n",
    "    noiseless_sample = np.zeros((nsample, nEdges), dtype = float)\n",
    "    for i in range(nsample):\n",
    "        w = np.random.rand(len(paths))*10 #random weight for each path\n",
    "        sample[i,:] += w@Paths + np.random.randn(nEdges)\n",
    "        noiseless_sample[i,:] += w@Paths\n",
    "        \n",
    "    #transform adjacency matrix into edge adjacecny matrix\n",
    "    edge_adj = np.zeros((nEdges, nEdges), dtype = int)\n",
    "    for e in range(nEdges):\n",
    "        for i in range(adj.shape[0]):\n",
    "            if(adj[Edges[e][1], i] == 1):\n",
    "                edge_adj[e, Edges.index([Edges[e][1], i])] = 1\n",
    "    \n",
    "    if(backflow == True):\n",
    "        for i in range(nEdges):\n",
    "            for j in range(i):\n",
    "                if(edge_adj[i.j] == 1 or edge_adj[j,i] == 1):\n",
    "                    edge_adj[i,j] = 1 \n",
    "                    edge_adj[j,i] = 1\n",
    "    \n",
    "    return sample, noiseless_sample, edge_adj, Paths"
   ]
  },
  {
   "cell_type": "code",
   "execution_count": 45,
   "metadata": {},
   "outputs": [],
   "source": [
    "def path_gen(paths):\n",
    "    results = []\n",
    "    for pth in paths:\n",
    "        print(pth)\n",
    "        w_pth = []\n",
    "        weights = np.random.uniform(low = 5.0, high = 15.0, size = (len(pth)-1, ))\n",
    "        for i in range(len(pth) - 1):\n",
    "            w_pth.append([pth[i], pth[i+1], int(weights[i]) ])\n",
    "        results.append(w_pth)\n",
    "    return results"
   ]
  },
  {
   "cell_type": "code",
   "execution_count": 13,
   "metadata": {},
   "outputs": [
    {
     "name": "stdout",
     "output_type": "stream",
     "text": [
      "[[0 1 1 0 1 1 1 1 0 0]\n",
      " [0 0 0 1 0 1 0 1 0 1]\n",
      " [1 0 0 0 1 0 0 1 0 0]\n",
      " [0 0 0 0 0 1 1 1 0 0]\n",
      " [1 1 0 0 0 0 0 0 0 0]\n",
      " [1 0 1 0 1 0 1 0 0 1]\n",
      " [0 0 1 0 1 0 0 0 1 1]\n",
      " [1 1 0 0 1 1 0 0 1 1]\n",
      " [0 1 1 0 1 1 0 1 0 1]\n",
      " [0 1 0 0 0 1 0 0 0 0]]\n"
     ]
    }
   ],
   "source": [
    "G = adjacency_gen(10, undirected = False)\n",
    "print(G)"
   ]
  },
  {
   "cell_type": "code",
   "execution_count": 19,
   "metadata": {},
   "outputs": [
    {
     "name": "stdout",
     "output_type": "stream",
     "text": [
      "[[0 1 1 1 0 1 0 0 0 1]\n",
      " [1 0 0 1 1 0 0 0 0 1]\n",
      " [1 0 0 0 0 1 1 1 1 0]\n",
      " [1 1 0 0 1 1 1 1 0 0]\n",
      " [0 1 0 1 0 1 0 1 1 1]\n",
      " [1 0 1 1 1 0 1 1 0 1]\n",
      " [0 0 1 1 0 1 0 0 0 0]\n",
      " [0 0 1 1 1 1 0 0 0 1]\n",
      " [0 0 1 0 1 0 0 0 0 0]\n",
      " [1 1 0 0 1 1 0 1 0 0]]\n"
     ]
    }
   ],
   "source": [
    "gnp = nxrg.fast_gnp_random_graph(10, 0.5, seed=None, directed=False)\n",
    "gnp_G = nx.adjacency_matrix(gnp).toarray()\n",
    "print(gnp_G)"
   ]
  },
  {
   "cell_type": "code",
   "execution_count": 21,
   "metadata": {},
   "outputs": [
    {
     "name": "stdout",
     "output_type": "stream",
     "text": [
      "[[0 1 1 1 0 1 0 1 1 1]\n",
      " [1 0 1 1 0 1 0 1 1 1]\n",
      " [1 1 0 1 1 0 0 1 0 0]\n",
      " [1 1 1 0 1 1 0 1 1 0]\n",
      " [0 0 1 1 0 1 1 1 1 0]\n",
      " [1 1 0 1 1 0 1 1 1 0]\n",
      " [0 0 0 0 1 1 0 1 1 1]\n",
      " [1 1 1 1 1 1 1 0 1 1]\n",
      " [1 1 0 1 1 1 1 1 0 1]\n",
      " [1 1 0 0 0 0 1 1 1 0]]\n"
     ]
    }
   ],
   "source": [
    "swg = nxrg.newman_watts_strogatz_graph(10, 4, 0.5)\n",
    "swg_G = nx.adjacency_matrix(swg).toarray()\n",
    "print(swg_G)"
   ]
  },
  {
   "cell_type": "code",
   "execution_count": 79,
   "metadata": {},
   "outputs": [
    {
     "name": "stdout",
     "output_type": "stream",
     "text": [
      "[[0 0 1 1 0 0 1 1 0 0]\n",
      " [0 0 1 0 0 0 0 0 0 0]\n",
      " [1 1 0 1 1 1 0 1 1 1]\n",
      " [1 0 1 0 1 1 1 0 1 1]\n",
      " [0 0 1 1 0 0 0 0 0 0]\n",
      " [0 0 1 1 0 0 0 0 0 0]\n",
      " [1 0 0 1 0 0 0 0 0 0]\n",
      " [1 0 1 0 0 0 0 0 0 0]\n",
      " [0 0 1 1 0 0 0 0 0 0]\n",
      " [0 0 1 1 0 0 0 0 0 0]]\n"
     ]
    }
   ],
   "source": [
    "sfg = nxrg.barabasi_albert_graph(10, 2)\n",
    "sfg_G = nx.adjacency_matrix(sfg).toarray()\n",
    "print(sfg_G)"
   ]
  },
  {
   "cell_type": "code",
   "execution_count": 81,
   "metadata": {},
   "outputs": [
    {
     "name": "stdout",
     "output_type": "stream",
     "text": [
      "[[5, 2], [5, 3, 0, 2], [5, 3, 0, 7, 2], [5, 3, 2], [5, 3, 4, 2], [5, 3, 6, 0, 2], [5, 3, 6, 0, 7, 2], [5, 3, 8, 2], [5, 3, 9, 2]]\n"
     ]
    }
   ],
   "source": [
    "spaths = nx.all_simple_paths(sfg, 5, 2)\n",
    "print(list(spaths))"
   ]
  },
  {
   "cell_type": "code",
   "execution_count": 4,
   "metadata": {},
   "outputs": [],
   "source": [
    "G = np.load('graph.npy')"
   ]
  },
  {
   "cell_type": "code",
   "execution_count": 72,
   "metadata": {},
   "outputs": [
    {
     "data": {
      "image/png": "[encoded data removed]",
      "text/plain": [
       "<Figure size 432x288 with 1 Axes>"
      ]
     },
     "metadata": {},
     "output_type": "display_data"
    }
   ],
   "source": [
    "DiG = nx.from_numpy_matrix(sfg_G, create_using=nx.DiGraph())\n",
    "nx.draw_networkx(DiG, with_label = True) "
   ]
  },
  {
   "cell_type": "code",
   "execution_count": 76,
   "metadata": {},
   "outputs": [
    {
     "name": "stdout",
     "output_type": "stream",
     "text": [
      "[5, 4, 3, 0, 2]\n",
      "[4, 2, 6, 0, 3]\n",
      "[7, 2, 4, 5, 9]\n",
      "[[[5, 4, 12], [4, 3, 10], [3, 0, 14], [0, 2, 9]], [[4, 2, 9], [2, 6, 13], [6, 0, 12], [0, 3, 6]], [[7, 2, 13], [2, 4, 9], [4, 5, 13], [5, 9, 6]]]\n"
     ]
    }
   ],
   "source": [
    "swg_pth = path_gen([[5, 4, 3, 0, 2], \n",
    "                     [4, 2, 6, 0, 3],\n",
    "                     [7, 2, 4, 5, 9,]])\n",
    "print(swg_pth)"
   ]
  },
  {
   "cell_type": "code",
   "execution_count": 82,
   "metadata": {},
   "outputs": [
    {
     "name": "stdout",
     "output_type": "stream",
     "text": [
      "[[4, 2, 0, 3], [4, 2, 0, 6, 3], [4, 2, 3], [4, 2, 5, 3], [4, 2, 7, 0, 3], [4, 2, 7, 0, 6, 3], [4, 2, 8, 3], [4, 2, 9, 3], [4, 3]]\n"
     ]
    }
   ],
   "source": [
    "spaths = nx.all_simple_paths(sfg, 4, 3)\n",
    "print(list(spaths))"
   ]
  },
  {
   "cell_type": "code",
   "execution_count": 83,
   "metadata": {},
   "outputs": [
    {
     "name": "stdout",
     "output_type": "stream",
     "text": [
      "[5, 3, 0, 7, 2]\n",
      "[4, 2, 0, 6, 3]\n",
      "[7, 3, 1, 2, 9]\n",
      "[[[5, 3, 11], [3, 0, 11], [0, 7, 10], [7, 2, 6]], [[4, 2, 13], [2, 0, 12], [0, 6, 12], [6, 3, 13]], [[7, 3, 9], [3, 1, 9], [1, 2, 9], [2, 9, 13]]]\n"
     ]
    }
   ],
   "source": [
    "sfg_pth = path_gen([[5, 3, 0, 7, 2],                     \n",
    "                    [4, 2, 0, 6, 3],                     \n",
    "                    [7, 3, 1, 2, 9]])\n",
    "print(sfg_pth)"
   ]
  },
  {
   "cell_type": "code",
   "execution_count": 84,
   "metadata": {},
   "outputs": [
    {
     "name": "stdout",
     "output_type": "stream",
     "text": [
      "Edges:\n",
      " [[0, 2], [0, 3], [0, 6], [0, 7], [1, 2], [2, 0], [2, 1], [2, 3], [2, 4], [2, 5], [2, 7], [2, 8], [2, 9], [3, 0], [3, 2], [3, 4], [3, 5], [3, 6], [3, 8], [3, 9], [4, 2], [4, 3], [5, 2], [5, 3], [6, 0], [6, 3], [7, 0], [7, 2], [8, 2], [8, 3], [9, 2], [9, 3]]\n",
      "Paths:\n",
      " [[ 0.  0.  0. 10.  0.  0.  0.  0.  0.  0.  0.  0.  0. 11.  0.  0.  0.  0.\n",
      "   0.  0.  0.  0.  0. 11.  0.  0.  0.  6.  0.  0.  0.  0.]\n",
      " [ 0.  0. 12.  0.  0. 12.  0.  0.  0.  0.  0.  0.  0.  0.  0.  0.  0.  0.\n",
      "   0.  0. 13.  0.  0.  0.  0. 13.  0.  0.  0.  0.  0.  0.]]\n"
     ]
    }
   ],
   "source": [
    "flows, noiseless_flows, edge_adj, paths = flow_gen(sfg_G, sfg_pth[0:2], 3000)"
   ]
  },
  {
   "cell_type": "code",
   "execution_count": 7,
   "metadata": {},
   "outputs": [
    {
     "name": "stdout",
     "output_type": "stream",
     "text": [
      "[ 0.          0.          0.          0.         58.99623287  0.\n",
      " 48.63195062  0.          0.          0.          0.         42.14016633\n",
      "  0.         77.81112099  0.          0.         84.28033267  0.\n",
      "  0.          0.          0.          0.          0.          0.\n",
      "  0.          0.         83.64244054  0.          0.          0.\n",
      "  0.          0.          0.          0.          0.          0.\n",
      "  0.          0.          0.         48.63195062  0.        ]\n",
      "[ 0.64099964 -1.44988913 -0.4378186  -0.75454947  0.72932968  0.36014368\n",
      "  0.1377215   2.31183901 -0.19371941  0.12328132  0.61338835  1.39965586\n",
      " -0.57641936  0.5598107   0.8525624  -1.14288958 -0.61652501 -0.13485945\n",
      "  3.87653275 -1.2372148   0.05222051  0.20236625  0.37463189  0.37788038\n",
      "  0.21218641 -0.0298126   0.7632913   0.57903717  0.36527806 -1.94343791\n",
      "  0.6945664   1.18495017 -0.07222496 -0.62972971  0.30007371 -0.37325352\n",
      "  0.4684694  -2.55204354  0.44641446 -0.44392502  1.55015876]\n"
     ]
    }
   ],
   "source": [
    "print(noiseless_flows[0])\n",
    "print(flows[0] - noiseless_flows[0])"
   ]
  },
  {
   "cell_type": "code",
   "execution_count": 85,
   "metadata": {},
   "outputs": [],
   "source": [
    "np.save('flows.npy', flows)\n",
    "np.save('noiseless_flows.npy', noiseless_flows)\n",
    "np.save('adj.npy', edge_adj)\n",
    "np.save('paths.npy', paths)\n",
    "np.save('graph.npy', G)"
   ]
  },
  {
   "cell_type": "code",
   "execution_count": 38,
   "metadata": {},
   "outputs": [
    {
     "name": "stdout",
     "output_type": "stream",
     "text": [
      "[ 0.          0.          0.          0.         34.48325979  0.\n",
      " 48.57247797  0.          0.          0.          0.         24.63089985\n",
      "  0.         77.71596475  0.          0.         49.26179969  0.\n",
      "  0.          0.          0.          0.          0.          0.\n",
      "  0.          0.         73.06551347  0.          0.          0.\n",
      "  0.          0.          0.          0.          0.          0.\n",
      "  0.          0.          0.         48.57247797  0.        ]\n"
     ]
    }
   ],
   "source": [
    "print(noiseless_flows[0])"
   ]
  }
 ],
 "metadata": {
  "kernelspec": {
   "display_name": "Python 3",
   "language": "python",
   "name": "python3"
  },
  "language_info": {
   "codemirror_mode": {
    "name": "ipython",
    "version": 3
   },
   "file_extension": ".py",
   "mimetype": "text/x-python",
   "name": "python",
   "nbconvert_exporter": "python",
   "pygments_lexer": "ipython3",
   "version": "3.7.5"
  }
 },
 "nbformat": 4,
 "nbformat_minor": 4
}
