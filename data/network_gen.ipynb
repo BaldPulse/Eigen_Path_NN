{
 "cells": [
  {
   "cell_type": "code",
   "execution_count": 1,
   "metadata": {},
   "outputs": [],
   "source": [
    "import numpy as np\n",
    "import networkx as nx\n",
    "import networkx.generators.random_graphs as nxrg"
   ]
  },
  {
   "cell_type": "code",
   "execution_count": 2,
   "metadata": {},
   "outputs": [],
   "source": [
    "def adjacency_gen(nnodes, undirected = False):\n",
    "    adj = np.random.randint(2, size = (nnodes, nnodes), dtype = int)\n",
    "    for i in range(nnodes):\n",
    "        adj[i,i] = 0\n",
    "    if(undirected):\n",
    "        for i in range(nnodes):\n",
    "            for j in range(i):\n",
    "                adj[i,j] = adj[j,i]\n",
    "    return adj"
   ]
  },
  {
   "cell_type": "code",
   "execution_count": 3,
   "metadata": {},
   "outputs": [],
   "source": [
    "def flow_gen(adj, paths, nsample, Range=10, backflow = False):\n",
    "    '''\n",
    "    generates flow samples based on eigenpaths with gaussian noise\n",
    "    input:\n",
    "    adj: adjacency matrix of graph, rows represent staring nodes, columns representing destination nodes\n",
    "    paths: eigenpaths of a fixed length, \n",
    "        must be in the format [s1, d1, w1], [s2=d1, d2, w2], ... [sl=d(l-1), dl, wl]\n",
    "        where s is the starting node of the edge, d is the ending node of the edge\n",
    "        and w is the weight of each edge in the path\n",
    "    nsample: number of samples generated\n",
    "    backflow: allow edge adjacency matrix to have backflow, making it symetric\n",
    "    noise: add gaussian noise or not\n",
    "    \n",
    "    output:\n",
    "    sample: nsample * nedges np array\n",
    "    edge_adj: edge adjacency matrix\n",
    "    '''\n",
    "    \n",
    "    for p in paths:\n",
    "        prev_end = None\n",
    "        for e in p:\n",
    "            assert adj[e[0], e[1]] == 1 #all paths must exist\n",
    "            assert prev_end is None or e[0] == prev_end #all paths must be valid\n",
    "            prev_end = e[1]\n",
    "    \n",
    "    #encode adjacency matrix into edge vector\n",
    "    nEdges = 0\n",
    "    Edges = []\n",
    "    for start in range(adj.shape[0]):\n",
    "        for dest in range(adj.shape[0]):\n",
    "            if(adj[start, dest] == 1):\n",
    "                nEdges += 1\n",
    "                Edges.append([start, dest])\n",
    "    print(\"Edges:\\n\", Edges)\n",
    "    \n",
    "    Paths = np.zeros((len(paths), nEdges), dtype = float)\n",
    "    for p in range(len(paths)):\n",
    "        for e in range(len(paths[0])):\n",
    "            Paths[p, Edges.index(paths[p][e][0:2])] = paths[p][e][2]\n",
    "    print(\"Paths:\\n\", Paths)\n",
    "    \n",
    "    sample = np.zeros((nsample, nEdges), dtype = float)\n",
    "    noiseless_sample = np.zeros((nsample, nEdges), dtype = float)\n",
    "    for i in range(nsample):\n",
    "        w = np.random.rand(len(paths))*Range #random weight for each path\n",
    "        sample[i,:] += w@Paths + np.random.randn(nEdges)\n",
    "        noiseless_sample[i,:] += w@Paths\n",
    "        \n",
    "    #transform adjacency matrix into edge adjacecny matrix\n",
    "    edge_adj = np.zeros((nEdges, nEdges), dtype = int)\n",
    "    for e in range(nEdges):\n",
    "        for i in range(adj.shape[0]):\n",
    "            if(adj[Edges[e][1], i] == 1):\n",
    "                edge_adj[e, Edges.index([Edges[e][1], i])] = 1\n",
    "    \n",
    "    if(backflow == True):\n",
    "        for i in range(nEdges):\n",
    "            for j in range(i):\n",
    "                if(edge_adj[i.j] == 1 or edge_adj[j,i] == 1):\n",
    "                    edge_adj[i,j] = 1 \n",
    "                    edge_adj[j,i] = 1\n",
    "    \n",
    "    return sample, noiseless_sample, edge_adj, Paths"
   ]
  },
  {
   "cell_type": "code",
   "execution_count": 4,
   "metadata": {},
   "outputs": [],
   "source": [
    "def path_gen(paths, weighted = False):\n",
    "    results = []\n",
    "    for pth in paths:\n",
    "        print(pth)\n",
    "        w_pth = []\n",
    "        if weighted:\n",
    "            weights = np.random.uniform(low = 5.0, high = 15.0, size = (len(pth)-1, ))\n",
    "            for i in range(len(pth) - 1):\n",
    "                w_pth.append([pth[i], pth[i+1], int(weights[i]) ])\n",
    "        else:\n",
    "            for i in range(len(pth) - 1):\n",
    "                w_pth.append([pth[i], pth[i+1], 1 ])\n",
    "            \n",
    "        results.append(w_pth)\n",
    "    return results"
   ]
  },
  {
   "cell_type": "code",
   "execution_count": 13,
   "metadata": {},
   "outputs": [
    {
     "name": "stdout",
     "output_type": "stream",
     "text": [
      "[[0 1 1 0 1 1 1 1 0 0]\n",
      " [0 0 0 1 0 1 0 1 0 1]\n",
      " [1 0 0 0 1 0 0 1 0 0]\n",
      " [0 0 0 0 0 1 1 1 0 0]\n",
      " [1 1 0 0 0 0 0 0 0 0]\n",
      " [1 0 1 0 1 0 1 0 0 1]\n",
      " [0 0 1 0 1 0 0 0 1 1]\n",
      " [1 1 0 0 1 1 0 0 1 1]\n",
      " [0 1 1 0 1 1 0 1 0 1]\n",
      " [0 1 0 0 0 1 0 0 0 0]]\n"
     ]
    }
   ],
   "source": [
    "G = adjacency_gen(10, undirected = False)\n",
    "print(G)"
   ]
  },
  {
   "cell_type": "code",
   "execution_count": 19,
   "metadata": {},
   "outputs": [
    {
     "name": "stdout",
     "output_type": "stream",
     "text": [
      "[[0 1 1 1 0 1 0 0 0 1]\n",
      " [1 0 0 1 1 0 0 0 0 1]\n",
      " [1 0 0 0 0 1 1 1 1 0]\n",
      " [1 1 0 0 1 1 1 1 0 0]\n",
      " [0 1 0 1 0 1 0 1 1 1]\n",
      " [1 0 1 1 1 0 1 1 0 1]\n",
      " [0 0 1 1 0 1 0 0 0 0]\n",
      " [0 0 1 1 1 1 0 0 0 1]\n",
      " [0 0 1 0 1 0 0 0 0 0]\n",
      " [1 1 0 0 1 1 0 1 0 0]]\n"
     ]
    }
   ],
   "source": [
    "gnp = nxrg.fast_gnp_random_graph(10, 0.5, seed=None, directed=False)\n",
    "gnp_G = nx.adjacency_matrix(gnp).toarray()\n",
    "print(gnp_G)"
   ]
  },
  {
   "cell_type": "code",
   "execution_count": 21,
   "metadata": {},
   "outputs": [
    {
     "name": "stdout",
     "output_type": "stream",
     "text": [
      "[[0 1 1 1 0 1 0 1 1 1]\n",
      " [1 0 1 1 0 1 0 1 1 1]\n",
      " [1 1 0 1 1 0 0 1 0 0]\n",
      " [1 1 1 0 1 1 0 1 1 0]\n",
      " [0 0 1 1 0 1 1 1 1 0]\n",
      " [1 1 0 1 1 0 1 1 1 0]\n",
      " [0 0 0 0 1 1 0 1 1 1]\n",
      " [1 1 1 1 1 1 1 0 1 1]\n",
      " [1 1 0 1 1 1 1 1 0 1]\n",
      " [1 1 0 0 0 0 1 1 1 0]]\n"
     ]
    }
   ],
   "source": [
    "swg = nxrg.newman_watts_strogatz_graph(10, 4, 0.5)\n",
    "swg_G = nx.adjacency_matrix(swg).toarray()\n",
    "print(swg_G)"
   ]
  },
  {
   "cell_type": "code",
   "execution_count": 79,
   "metadata": {},
   "outputs": [
    {
     "name": "stdout",
     "output_type": "stream",
     "text": [
      "[[0 0 1 1 0 0 1 1 0 0]\n",
      " [0 0 1 0 0 0 0 0 0 0]\n",
      " [1 1 0 1 1 1 0 1 1 1]\n",
      " [1 0 1 0 1 1 1 0 1 1]\n",
      " [0 0 1 1 0 0 0 0 0 0]\n",
      " [0 0 1 1 0 0 0 0 0 0]\n",
      " [1 0 0 1 0 0 0 0 0 0]\n",
      " [1 0 1 0 0 0 0 0 0 0]\n",
      " [0 0 1 1 0 0 0 0 0 0]\n",
      " [0 0 1 1 0 0 0 0 0 0]]\n"
     ]
    }
   ],
   "source": [
    "sfg = nxrg.barabasi_albert_graph(10, 2)\n",
    "sfg_G = nx.adjacency_matrix(sfg).toarray()\n",
    "print(sfg_G)"
   ]
  },
  {
   "cell_type": "code",
   "execution_count": 5,
   "metadata": {},
   "outputs": [
    {
     "name": "stdout",
     "output_type": "stream",
     "text": [
      "[[0 1 1 0 0 1 0 0 1 1]\n",
      " [1 0 1 1 1 0 1 1 0 1]\n",
      " [1 1 0 1 1 1 0 1 0 0]\n",
      " [0 1 1 0 1 1 0 0 0 1]\n",
      " [0 1 1 1 0 1 1 0 0 0]\n",
      " [1 0 1 1 1 0 1 1 0 0]\n",
      " [0 1 0 0 1 1 0 1 1 0]\n",
      " [0 1 1 0 0 1 1 0 1 1]\n",
      " [1 0 0 0 0 0 1 1 0 1]\n",
      " [1 1 0 1 0 0 0 1 1 0]]\n"
     ]
    }
   ],
   "source": [
    "G = np.load('graph.npy')\n",
    "print(G)"
   ]
  },
  {
   "cell_type": "code",
   "execution_count": 6,
   "metadata": {},
   "outputs": [
    {
     "ename": "NodeNotFound",
     "evalue": "target node 8 not in graph",
     "output_type": "error",
     "traceback": [
      "\u001b[0;31m---------------------------------------------------------------------------\u001b[0m",
      "\u001b[0;31mTypeError\u001b[0m                                 Traceback (most recent call last)",
      "\u001b[0;32m~/.local/lib/python3.8/site-packages/networkx/algorithms/simple_paths.py\u001b[0m in \u001b[0;36mall_simple_paths\u001b[0;34m(G, source, target, cutoff)\u001b[0m\n\u001b[1;32m    235\u001b[0m         \u001b[0;32mtry\u001b[0m\u001b[0;34m:\u001b[0m\u001b[0;34m\u001b[0m\u001b[0;34m\u001b[0m\u001b[0m\n\u001b[0;32m--> 236\u001b[0;31m             \u001b[0mtargets\u001b[0m \u001b[0;34m=\u001b[0m \u001b[0mset\u001b[0m\u001b[0;34m(\u001b[0m\u001b[0mtarget\u001b[0m\u001b[0;34m)\u001b[0m\u001b[0;34m\u001b[0m\u001b[0;34m\u001b[0m\u001b[0m\n\u001b[0m\u001b[1;32m    237\u001b[0m         \u001b[0;32mexcept\u001b[0m \u001b[0mTypeError\u001b[0m\u001b[0;34m:\u001b[0m\u001b[0;34m\u001b[0m\u001b[0;34m\u001b[0m\u001b[0m\n",
      "\u001b[0;31mTypeError\u001b[0m: 'int' object is not iterable",
      "\nDuring handling of the above exception, another exception occurred:\n",
      "\u001b[0;31mNodeNotFound\u001b[0m                              Traceback (most recent call last)",
      "\u001b[0;32m<ipython-input-6-94de95b24c40>\u001b[0m in \u001b[0;36m<module>\u001b[0;34m\u001b[0m\n\u001b[0;32m----> 1\u001b[0;31m \u001b[0mspaths\u001b[0m \u001b[0;34m=\u001b[0m \u001b[0mnx\u001b[0m\u001b[0;34m.\u001b[0m\u001b[0mall_simple_paths\u001b[0m\u001b[0;34m(\u001b[0m\u001b[0mG\u001b[0m\u001b[0;34m,\u001b[0m \u001b[0;36m1\u001b[0m\u001b[0;34m,\u001b[0m \u001b[0;36m8\u001b[0m\u001b[0;34m)\u001b[0m\u001b[0;34m\u001b[0m\u001b[0;34m\u001b[0m\u001b[0m\n\u001b[0m\u001b[1;32m      2\u001b[0m \u001b[0mprint\u001b[0m\u001b[0;34m(\u001b[0m\u001b[0mlist\u001b[0m\u001b[0;34m(\u001b[0m\u001b[0mspaths\u001b[0m\u001b[0;34m)\u001b[0m\u001b[0;34m)\u001b[0m\u001b[0;34m\u001b[0m\u001b[0;34m\u001b[0m\u001b[0m\n",
      "\u001b[0;32m~/.local/lib/python3.8/site-packages/networkx/algorithms/simple_paths.py\u001b[0m in \u001b[0;36mall_simple_paths\u001b[0;34m(G, source, target, cutoff)\u001b[0m\n\u001b[1;32m    236\u001b[0m             \u001b[0mtargets\u001b[0m \u001b[0;34m=\u001b[0m \u001b[0mset\u001b[0m\u001b[0;34m(\u001b[0m\u001b[0mtarget\u001b[0m\u001b[0;34m)\u001b[0m\u001b[0;34m\u001b[0m\u001b[0;34m\u001b[0m\u001b[0m\n\u001b[1;32m    237\u001b[0m         \u001b[0;32mexcept\u001b[0m \u001b[0mTypeError\u001b[0m\u001b[0;34m:\u001b[0m\u001b[0;34m\u001b[0m\u001b[0;34m\u001b[0m\u001b[0m\n\u001b[0;32m--> 238\u001b[0;31m             \u001b[0;32mraise\u001b[0m \u001b[0mnx\u001b[0m\u001b[0;34m.\u001b[0m\u001b[0mNodeNotFound\u001b[0m\u001b[0;34m(\u001b[0m\u001b[0;34m'target node %s not in graph'\u001b[0m \u001b[0;34m%\u001b[0m \u001b[0mtarget\u001b[0m\u001b[0;34m)\u001b[0m\u001b[0;34m\u001b[0m\u001b[0;34m\u001b[0m\u001b[0m\n\u001b[0m\u001b[1;32m    239\u001b[0m     \u001b[0;32mif\u001b[0m \u001b[0msource\u001b[0m \u001b[0;32min\u001b[0m \u001b[0mtargets\u001b[0m\u001b[0;34m:\u001b[0m\u001b[0;34m\u001b[0m\u001b[0;34m\u001b[0m\u001b[0m\n\u001b[1;32m    240\u001b[0m         \u001b[0;32mreturn\u001b[0m \u001b[0;34m[\u001b[0m\u001b[0;34m]\u001b[0m\u001b[0;34m\u001b[0m\u001b[0;34m\u001b[0m\u001b[0m\n",
      "\u001b[0;31mNodeNotFound\u001b[0m: target node 8 not in graph"
     ]
    }
   ],
   "source": [
    "spaths = nx.all_simple_paths(G, 1, 8)\n",
    "print(list(spaths))"
   ]
  },
  {
   "cell_type": "code",
   "execution_count": 9,
   "metadata": {},
   "outputs": [
    {
     "data": {
      "image/png": "[encoded data removed]",
      "text/plain": [
       "<Figure size 432x288 with 1 Axes>"
      ]
     },
     "metadata": {},
     "output_type": "display_data"
    }
   ],
   "source": [
    "DiG = nx.from_numpy_matrix(G, create_using=nx.DiGraph())\n",
    "nx.draw_networkx(DiG, with_label = True) "
   ]
  },
  {
   "cell_type": "code",
   "execution_count": 22,
   "metadata": {},
   "outputs": [
    {
     "name": "stdout",
     "output_type": "stream",
     "text": [
      "[[1, 0, 2, 3, 4, 5, 6, 7, 8], [1, 0, 2, 3, 4, 5, 6, 7, 9, 8], [1, 0, 2, 3, 4, 5, 6, 8], [1, 0, 2, 3, 4, 5, 7, 6, 8], [1, 0, 2, 3, 4, 5, 7, 8], [1, 0, 2, 3, 4, 5, 7, 9, 8], [1, 0, 2, 3, 4, 6, 5, 7, 8], [1, 0, 2, 3, 4, 6, 5, 7, 9, 8], [1, 0, 2, 3, 4, 6, 7, 8], [1, 0, 2, 3, 4, 6, 7, 9, 8], [1, 0, 2, 3, 4, 6, 8], [1, 0, 2, 3, 5, 4, 6, 7, 8], [1, 0, 2, 3, 5, 4, 6, 7, 9, 8], [1, 0, 2, 3, 5, 4, 6, 8], [1, 0, 2, 3, 5, 6, 7, 8], [1, 0, 2, 3, 5, 6, 7, 9, 8], [1, 0, 2, 3, 5, 6, 8], [1, 0, 2, 3, 5, 7, 6, 8], [1, 0, 2, 3, 5, 7, 8], [1, 0, 2, 3, 5, 7, 9, 8], [1, 0, 2, 3, 9, 7, 5, 4, 6, 8], [1, 0, 2, 3, 9, 7, 5, 6, 8], [1, 0, 2, 3, 9, 7, 6, 8], [1, 0, 2, 3, 9, 7, 8], [1, 0, 2, 3, 9, 8], [1, 0, 2, 4, 3, 5, 6, 7, 8], [1, 0, 2, 4, 3, 5, 6, 7, 9, 8], [1, 0, 2, 4, 3, 5, 6, 8], [1, 0, 2, 4, 3, 5, 7, 6, 8], [1, 0, 2, 4, 3, 5, 7, 8], [1, 0, 2, 4, 3, 5, 7, 9, 8], [1, 0, 2, 4, 3, 9, 7, 5, 6, 8], [1, 0, 2, 4, 3, 9, 7, 6, 8], [1, 0, 2, 4, 3, 9, 7, 8], [1, 0, 2, 4, 3, 9, 8], [1, 0, 2, 4, 5, 3, 9, 7, 6, 8], [1, 0, 2, 4, 5, 3, 9, 7, 8], [1, 0, 2, 4, 5, 3, 9, 8], [1, 0, 2, 4, 5, 6, 7, 8], [1, 0, 2, 4, 5, 6, 7, 9, 8], [1, 0, 2, 4, 5, 6, 8], [1, 0, 2, 4, 5, 7, 6, 8], [1, 0, 2, 4, 5, 7, 8], [1, 0, 2, 4, 5, 7, 9, 8], [1, 0, 2, 4, 6, 5, 3, 9, 7, 8], [1, 0, 2, 4, 6, 5, 3, 9, 8], [1, 0, 2, 4, 6, 5, 7, 8], [1, 0, 2, 4, 6, 5, 7, 9, 8], [1, 0, 2, 4, 6, 7, 5, 3, 9, 8], [1, 0, 2, 4, 6, 7, 8], [1, 0, 2, 4, 6, 7, 9, 8], [1, 0, 2, 4, 6, 8], [1, 0, 2, 5, 3, 4, 6, 7, 8], [1, 0, 2, 5, 3, 4, 6, 7, 9, 8], [1, 0, 2, 5, 3, 4, 6, 8], [1, 0, 2, 5, 3, 9, 7, 6, 8], [1, 0, 2, 5, 3, 9, 7, 8], [1, 0, 2, 5, 3, 9, 8], [1, 0, 2, 5, 4, 3, 9, 7, 6, 8], [1, 0, 2, 5, 4, 3, 9, 7, 8], [1, 0, 2, 5, 4, 3, 9, 8], [1, 0, 2, 5, 4, 6, 7, 8], [1, 0, 2, 5, 4, 6, 7, 9, 8], [1, 0, 2, 5, 4, 6, 8], [1, 0, 2, 5, 6, 4, 3, 9, 7, 8], [1, 0, 2, 5, 6, 4, 3, 9, 8], [1, 0, 2, 5, 6, 7, 8], [1, 0, 2, 5, 6, 7, 9, 8], [1, 0, 2, 5, 6, 8], [1, 0, 2, 5, 7, 6, 4, 3, 9, 8], [1, 0, 2, 5, 7, 6, 8], [1, 0, 2, 5, 7, 8], [1, 0, 2, 5, 7, 9, 3, 4, 6, 8], [1, 0, 2, 5, 7, 9, 8], [1, 0, 2, 7, 5, 3, 4, 6, 8], [1, 0, 2, 7, 5, 3, 9, 8], [1, 0, 2, 7, 5, 4, 3, 9, 8], [1, 0, 2, 7, 5, 4, 6, 8], [1, 0, 2, 7, 5, 6, 4, 3, 9, 8], [1, 0, 2, 7, 5, 6, 8], [1, 0, 2, 7, 6, 4, 3, 9, 8], [1, 0, 2, 7, 6, 4, 5, 3, 9, 8], [1, 0, 2, 7, 6, 5, 3, 9, 8], [1, 0, 2, 7, 6, 5, 4, 3, 9, 8], [1, 0, 2, 7, 6, 8], [1, 0, 2, 7, 8], [1, 0, 2, 7, 9, 3, 4, 5, 6, 8], [1, 0, 2, 7, 9, 3, 4, 6, 8], [1, 0, 2, 7, 9, 3, 5, 4, 6, 8], [1, 0, 2, 7, 9, 3, 5, 6, 8], [1, 0, 2, 7, 9, 8], [1, 0, 5, 2, 3, 4, 6, 7, 8], [1, 0, 5, 2, 3, 4, 6, 7, 9, 8], [1, 0, 5, 2, 3, 4, 6, 8], [1, 0, 5, 2, 3, 9, 7, 6, 8], [1, 0, 5, 2, 3, 9, 7, 8], [1, 0, 5, 2, 3, 9, 8], [1, 0, 5, 2, 4, 3, 9, 7, 6, 8], [1, 0, 5, 2, 4, 3, 9, 7, 8], [1, 0, 5, 2, 4, 3, 9, 8], [1, 0, 5, 2, 4, 6, 7, 8], [1, 0, 5, 2, 4, 6, 7, 9, 8], [1, 0, 5, 2, 4, 6, 8], [1, 0, 5, 2, 7, 6, 4, 3, 9, 8], [1, 0, 5, 2, 7, 6, 8], [1, 0, 5, 2, 7, 8], [1, 0, 5, 2, 7, 9, 3, 4, 6, 8], [1, 0, 5, 2, 7, 9, 8], [1, 0, 5, 3, 2, 4, 6, 7, 8], [1, 0, 5, 3, 2, 4, 6, 7, 9, 8], [1, 0, 5, 3, 2, 4, 6, 8], [1, 0, 5, 3, 2, 7, 6, 8], [1, 0, 5, 3, 2, 7, 8], [1, 0, 5, 3, 2, 7, 9, 8], [1, 0, 5, 3, 4, 2, 7, 6, 8], [1, 0, 5, 3, 4, 2, 7, 8], [1, 0, 5, 3, 4, 2, 7, 9, 8], [1, 0, 5, 3, 4, 6, 7, 8], [1, 0, 5, 3, 4, 6, 7, 9, 8], [1, 0, 5, 3, 4, 6, 8], [1, 0, 5, 3, 9, 7, 2, 4, 6, 8], [1, 0, 5, 3, 9, 7, 6, 8], [1, 0, 5, 3, 9, 7, 8], [1, 0, 5, 3, 9, 8], [1, 0, 5, 4, 2, 3, 9, 7, 6, 8], [1, 0, 5, 4, 2, 3, 9, 7, 8], [1, 0, 5, 4, 2, 3, 9, 8], [1, 0, 5, 4, 2, 7, 6, 8], [1, 0, 5, 4, 2, 7, 8], [1, 0, 5, 4, 2, 7, 9, 8], [1, 0, 5, 4, 3, 2, 7, 6, 8], [1, 0, 5, 4, 3, 2, 7, 8], [1, 0, 5, 4, 3, 2, 7, 9, 8], [1, 0, 5, 4, 3, 9, 7, 6, 8], [1, 0, 5, 4, 3, 9, 7, 8], [1, 0, 5, 4, 3, 9, 8], [1, 0, 5, 4, 6, 7, 2, 3, 9, 8], [1, 0, 5, 4, 6, 7, 8], [1, 0, 5, 4, 6, 7, 9, 8], [1, 0, 5, 4, 6, 8], [1, 0, 5, 6, 4, 2, 3, 9, 7, 8], [1, 0, 5, 6, 4, 2, 3, 9, 8], [1, 0, 5, 6, 4, 2, 7, 8], [1, 0, 5, 6, 4, 2, 7, 9, 8], [1, 0, 5, 6, 4, 3, 2, 7, 8], [1, 0, 5, 6, 4, 3, 2, 7, 9, 8], [1, 0, 5, 6, 4, 3, 9, 7, 8], [1, 0, 5, 6, 4, 3, 9, 8], [1, 0, 5, 6, 7, 2, 3, 9, 8], [1, 0, 5, 6, 7, 2, 4, 3, 9, 8], [1, 0, 5, 6, 7, 8], [1, 0, 5, 6, 7, 9, 8], [1, 0, 5, 6, 8], [1, 0, 5, 7, 2, 3, 4, 6, 8], [1, 0, 5, 7, 2, 3, 9, 8], [1, 0, 5, 7, 2, 4, 3, 9, 8], [1, 0, 5, 7, 2, 4, 6, 8], [1, 0, 5, 7, 6, 4, 2, 3, 9, 8], [1, 0, 5, 7, 6, 4, 3, 9, 8], [1, 0, 5, 7, 6, 8], [1, 0, 5, 7, 8], [1, 0, 5, 7, 9, 3, 2, 4, 6, 8], [1, 0, 5, 7, 9, 3, 4, 6, 8], [1, 0, 5, 7, 9, 8], [1, 0, 8], [1, 0, 9, 3, 2, 4, 5, 6, 7, 8], [1, 0, 9, 3, 2, 4, 5, 6, 8], [1, 0, 9, 3, 2, 4, 5, 7, 6, 8], [1, 0, 9, 3, 2, 4, 5, 7, 8], [1, 0, 9, 3, 2, 4, 6, 5, 7, 8], [1, 0, 9, 3, 2, 4, 6, 7, 8], [1, 0, 9, 3, 2, 4, 6, 8], [1, 0, 9, 3, 2, 5, 4, 6, 7, 8], [1, 0, 9, 3, 2, 5, 4, 6, 8], [1, 0, 9, 3, 2, 5, 6, 7, 8], [1, 0, 9, 3, 2, 5, 6, 8], [1, 0, 9, 3, 2, 5, 7, 6, 8], [1, 0, 9, 3, 2, 5, 7, 8], [1, 0, 9, 3, 2, 7, 5, 4, 6, 8], [1, 0, 9, 3, 2, 7, 5, 6, 8], [1, 0, 9, 3, 2, 7, 6, 8], [1, 0, 9, 3, 2, 7, 8], [1, 0, 9, 3, 4, 2, 5, 6, 7, 8], [1, 0, 9, 3, 4, 2, 5, 6, 8], [1, 0, 9, 3, 4, 2, 5, 7, 6, 8], [1, 0, 9, 3, 4, 2, 5, 7, 8], [1, 0, 9, 3, 4, 2, 7, 5, 6, 8], [1, 0, 9, 3, 4, 2, 7, 6, 8], [1, 0, 9, 3, 4, 2, 7, 8], [1, 0, 9, 3, 4, 5, 2, 7, 6, 8], [1, 0, 9, 3, 4, 5, 2, 7, 8], [1, 0, 9, 3, 4, 5, 6, 7, 8], [1, 0, 9, 3, 4, 5, 6, 8], [1, 0, 9, 3, 4, 5, 7, 6, 8], [1, 0, 9, 3, 4, 5, 7, 8], [1, 0, 9, 3, 4, 6, 5, 2, 7, 8], [1, 0, 9, 3, 4, 6, 5, 7, 8], [1, 0, 9, 3, 4, 6, 7, 8], [1, 0, 9, 3, 4, 6, 8], [1, 0, 9, 3, 5, 2, 4, 6, 7, 8], [1, 0, 9, 3, 5, 2, 4, 6, 8], [1, 0, 9, 3, 5, 2, 7, 6, 8], [1, 0, 9, 3, 5, 2, 7, 8], [1, 0, 9, 3, 5, 4, 2, 7, 6, 8], [1, 0, 9, 3, 5, 4, 2, 7, 8], [1, 0, 9, 3, 5, 4, 6, 7, 8], [1, 0, 9, 3, 5, 4, 6, 8], [1, 0, 9, 3, 5, 6, 4, 2, 7, 8], [1, 0, 9, 3, 5, 6, 7, 8], [1, 0, 9, 3, 5, 6, 8], [1, 0, 9, 3, 5, 7, 2, 4, 6, 8], [1, 0, 9, 3, 5, 7, 6, 8], [1, 0, 9, 3, 5, 7, 8], [1, 0, 9, 7, 2, 3, 4, 5, 6, 8], [1, 0, 9, 7, 2, 3, 4, 6, 8], [1, 0, 9, 7, 2, 3, 5, 4, 6, 8], [1, 0, 9, 7, 2, 3, 5, 6, 8], [1, 0, 9, 7, 2, 4, 3, 5, 6, 8], [1, 0, 9, 7, 2, 4, 5, 6, 8], [1, 0, 9, 7, 2, 4, 6, 8], [1, 0, 9, 7, 2, 5, 3, 4, 6, 8], [1, 0, 9, 7, 2, 5, 4, 6, 8], [1, 0, 9, 7, 2, 5, 6, 8], [1, 0, 9, 7, 5, 2, 3, 4, 6, 8], [1, 0, 9, 7, 5, 2, 4, 6, 8], [1, 0, 9, 7, 5, 3, 2, 4, 6, 8], [1, 0, 9, 7, 5, 3, 4, 6, 8], [1, 0, 9, 7, 5, 4, 6, 8], [1, 0, 9, 7, 5, 6, 8], [1, 0, 9, 7, 6, 8], [1, 0, 9, 7, 8], [1, 0, 9, 8], [1, 2, 0, 5, 3, 4, 6, 7, 8], [1, 2, 0, 5, 3, 4, 6, 7, 9, 8], [1, 2, 0, 5, 3, 4, 6, 8], [1, 2, 0, 5, 3, 9, 7, 6, 8], [1, 2, 0, 5, 3, 9, 7, 8], [1, 2, 0, 5, 3, 9, 8], [1, 2, 0, 5, 4, 3, 9, 7, 6, 8], [1, 2, 0, 5, 4, 3, 9, 7, 8], [1, 2, 0, 5, 4, 3, 9, 8], [1, 2, 0, 5, 4, 6, 7, 8], [1, 2, 0, 5, 4, 6, 7, 9, 8], [1, 2, 0, 5, 4, 6, 8], [1, 2, 0, 5, 6, 4, 3, 9, 7, 8], [1, 2, 0, 5, 6, 4, 3, 9, 8], [1, 2, 0, 5, 6, 7, 8], [1, 2, 0, 5, 6, 7, 9, 8], [1, 2, 0, 5, 6, 8], [1, 2, 0, 5, 7, 6, 4, 3, 9, 8], [1, 2, 0, 5, 7, 6, 8], [1, 2, 0, 5, 7, 8], [1, 2, 0, 5, 7, 9, 3, 4, 6, 8], [1, 2, 0, 5, 7, 9, 8], [1, 2, 0, 8], [1, 2, 0, 9, 3, 4, 5, 6, 7, 8], [1, 2, 0, 9, 3, 4, 5, 6, 8], [1, 2, 0, 9, 3, 4, 5, 7, 6, 8], [1, 2, 0, 9, 3, 4, 5, 7, 8], [1, 2, 0, 9, 3, 4, 6, 5, 7, 8], [1, 2, 0, 9, 3, 4, 6, 7, 8], [1, 2, 0, 9, 3, 4, 6, 8], [1, 2, 0, 9, 3, 5, 4, 6, 7, 8], [1, 2, 0, 9, 3, 5, 4, 6, 8], [1, 2, 0, 9, 3, 5, 6, 7, 8], [1, 2, 0, 9, 3, 5, 6, 8], [1, 2, 0, 9, 3, 5, 7, 6, 8], [1, 2, 0, 9, 3, 5, 7, 8], [1, 2, 0, 9, 7, 5, 3, 4, 6, 8], [1, 2, 0, 9, 7, 5, 4, 6, 8], [1, 2, 0, 9, 7, 5, 6, 8], [1, 2, 0, 9, 7, 6, 8], [1, 2, 0, 9, 7, 8], [1, 2, 0, 9, 8], [1, 2, 3, 4, 5, 0, 8], [1, 2, 3, 4, 5, 0, 9, 7, 6, 8], [1, 2, 3, 4, 5, 0, 9, 7, 8], [1, 2, 3, 4, 5, 0, 9, 8], [1, 2, 3, 4, 5, 6, 7, 8], [1, 2, 3, 4, 5, 6, 7, 9, 0, 8], [1, 2, 3, 4, 5, 6, 7, 9, 8], [1, 2, 3, 4, 5, 6, 8], [1, 2, 3, 4, 5, 7, 6, 8], [1, 2, 3, 4, 5, 7, 8], [1, 2, 3, 4, 5, 7, 9, 0, 8], [1, 2, 3, 4, 5, 7, 9, 8], [1, 2, 3, 4, 6, 5, 0, 8], [1, 2, 3, 4, 6, 5, 0, 9, 7, 8], [1, 2, 3, 4, 6, 5, 0, 9, 8], [1, 2, 3, 4, 6, 5, 7, 8], [1, 2, 3, 4, 6, 5, 7, 9, 0, 8], [1, 2, 3, 4, 6, 5, 7, 9, 8], [1, 2, 3, 4, 6, 7, 5, 0, 8], [1, 2, 3, 4, 6, 7, 5, 0, 9, 8], [1, 2, 3, 4, 6, 7, 8], [1, 2, 3, 4, 6, 7, 9, 0, 8], [1, 2, 3, 4, 6, 7, 9, 8], [1, 2, 3, 4, 6, 8], [1, 2, 3, 5, 0, 8], [1, 2, 3, 5, 0, 9, 7, 6, 8], [1, 2, 3, 5, 0, 9, 7, 8], [1, 2, 3, 5, 0, 9, 8], [1, 2, 3, 5, 4, 6, 7, 8], [1, 2, 3, 5, 4, 6, 7, 9, 0, 8], [1, 2, 3, 5, 4, 6, 7, 9, 8], [1, 2, 3, 5, 4, 6, 8], [1, 2, 3, 5, 6, 7, 8], [1, 2, 3, 5, 6, 7, 9, 0, 8], [1, 2, 3, 5, 6, 7, 9, 8], [1, 2, 3, 5, 6, 8], [1, 2, 3, 5, 7, 6, 8], [1, 2, 3, 5, 7, 8], [1, 2, 3, 5, 7, 9, 0, 8], [1, 2, 3, 5, 7, 9, 8], [1, 2, 3, 9, 0, 5, 4, 6, 7, 8], [1, 2, 3, 9, 0, 5, 4, 6, 8], [1, 2, 3, 9, 0, 5, 6, 7, 8], [1, 2, 3, 9, 0, 5, 6, 8], [1, 2, 3, 9, 0, 5, 7, 6, 8], [1, 2, 3, 9, 0, 5, 7, 8], [1, 2, 3, 9, 0, 8], [1, 2, 3, 9, 7, 5, 0, 8], [1, 2, 3, 9, 7, 5, 4, 6, 8], [1, 2, 3, 9, 7, 5, 6, 8], [1, 2, 3, 9, 7, 6, 4, 5, 0, 8], [1, 2, 3, 9, 7, 6, 5, 0, 8], [1, 2, 3, 9, 7, 6, 8], [1, 2, 3, 9, 7, 8], [1, 2, 3, 9, 8], [1, 2, 4, 3, 5, 0, 8], [1, 2, 4, 3, 5, 0, 9, 7, 6, 8], [1, 2, 4, 3, 5, 0, 9, 7, 8], [1, 2, 4, 3, 5, 0, 9, 8], [1, 2, 4, 3, 5, 6, 7, 8], [1, 2, 4, 3, 5, 6, 7, 9, 0, 8], [1, 2, 4, 3, 5, 6, 7, 9, 8], [1, 2, 4, 3, 5, 6, 8], [1, 2, 4, 3, 5, 7, 6, 8], [1, 2, 4, 3, 5, 7, 8], [1, 2, 4, 3, 5, 7, 9, 0, 8], [1, 2, 4, 3, 5, 7, 9, 8], [1, 2, 4, 3, 9, 0, 5, 6, 7, 8], [1, 2, 4, 3, 9, 0, 5, 6, 8], [1, 2, 4, 3, 9, 0, 5, 7, 6, 8], [1, 2, 4, 3, 9, 0, 5, 7, 8], [1, 2, 4, 3, 9, 0, 8], [1, 2, 4, 3, 9, 7, 5, 0, 8], [1, 2, 4, 3, 9, 7, 5, 6, 8], [1, 2, 4, 3, 9, 7, 6, 5, 0, 8], [1, 2, 4, 3, 9, 7, 6, 8], [1, 2, 4, 3, 9, 7, 8], [1, 2, 4, 3, 9, 8], [1, 2, 4, 5, 0, 8], [1, 2, 4, 5, 0, 9, 7, 6, 8], [1, 2, 4, 5, 0, 9, 7, 8], [1, 2, 4, 5, 0, 9, 8], [1, 2, 4, 5, 3, 9, 0, 8], [1, 2, 4, 5, 3, 9, 7, 6, 8], [1, 2, 4, 5, 3, 9, 7, 8], [1, 2, 4, 5, 3, 9, 8], [1, 2, 4, 5, 6, 7, 8], [1, 2, 4, 5, 6, 7, 9, 0, 8], [1, 2, 4, 5, 6, 7, 9, 8], [1, 2, 4, 5, 6, 8], [1, 2, 4, 5, 7, 6, 8], [1, 2, 4, 5, 7, 8], [1, 2, 4, 5, 7, 9, 0, 8], [1, 2, 4, 5, 7, 9, 8], [1, 2, 4, 6, 5, 0, 8], [1, 2, 4, 6, 5, 0, 9, 7, 8], [1, 2, 4, 6, 5, 0, 9, 8], [1, 2, 4, 6, 5, 3, 9, 0, 8], [1, 2, 4, 6, 5, 3, 9, 7, 8], [1, 2, 4, 6, 5, 3, 9, 8], [1, 2, 4, 6, 5, 7, 8], [1, 2, 4, 6, 5, 7, 9, 0, 8], [1, 2, 4, 6, 5, 7, 9, 8], [1, 2, 4, 6, 7, 5, 0, 8], [1, 2, 4, 6, 7, 5, 0, 9, 8], [1, 2, 4, 6, 7, 5, 3, 9, 0, 8], [1, 2, 4, 6, 7, 5, 3, 9, 8], [1, 2, 4, 6, 7, 8], [1, 2, 4, 6, 7, 9, 0, 8], [1, 2, 4, 6, 7, 9, 3, 5, 0, 8], [1, 2, 4, 6, 7, 9, 8], [1, 2, 4, 6, 8], [1, 2, 5, 0, 8], [1, 2, 5, 0, 9, 3, 4, 6, 7, 8], [1, 2, 5, 0, 9, 3, 4, 6, 8], [1, 2, 5, 0, 9, 7, 6, 8], [1, 2, 5, 0, 9, 7, 8], [1, 2, 5, 0, 9, 8], [1, 2, 5, 3, 4, 6, 7, 8], [1, 2, 5, 3, 4, 6, 7, 9, 0, 8], [1, 2, 5, 3, 4, 6, 7, 9, 8], [1, 2, 5, 3, 4, 6, 8], [1, 2, 5, 3, 9, 0, 8], [1, 2, 5, 3, 9, 7, 6, 8], [1, 2, 5, 3, 9, 7, 8], [1, 2, 5, 3, 9, 8], [1, 2, 5, 4, 3, 9, 0, 8], [1, 2, 5, 4, 3, 9, 7, 6, 8], [1, 2, 5, 4, 3, 9, 7, 8], [1, 2, 5, 4, 3, 9, 8], [1, 2, 5, 4, 6, 7, 8], [1, 2, 5, 4, 6, 7, 9, 0, 8], [1, 2, 5, 4, 6, 7, 9, 8], [1, 2, 5, 4, 6, 8], [1, 2, 5, 6, 4, 3, 9, 0, 8], [1, 2, 5, 6, 4, 3, 9, 7, 8], [1, 2, 5, 6, 4, 3, 9, 8], [1, 2, 5, 6, 7, 8], [1, 2, 5, 6, 7, 9, 0, 8], [1, 2, 5, 6, 7, 9, 8], [1, 2, 5, 6, 8], [1, 2, 5, 7, 6, 4, 3, 9, 0, 8], [1, 2, 5, 7, 6, 4, 3, 9, 8], [1, 2, 5, 7, 6, 8], [1, 2, 5, 7, 8], [1, 2, 5, 7, 9, 0, 8], [1, 2, 5, 7, 9, 3, 4, 6, 8], [1, 2, 5, 7, 9, 8], [1, 2, 7, 5, 0, 8], [1, 2, 7, 5, 0, 9, 3, 4, 6, 8], [1, 2, 7, 5, 0, 9, 8], [1, 2, 7, 5, 3, 4, 6, 8], [1, 2, 7, 5, 3, 9, 0, 8], [1, 2, 7, 5, 3, 9, 8], [1, 2, 7, 5, 4, 3, 9, 0, 8], [1, 2, 7, 5, 4, 3, 9, 8], [1, 2, 7, 5, 4, 6, 8], [1, 2, 7, 5, 6, 4, 3, 9, 0, 8], [1, 2, 7, 5, 6, 4, 3, 9, 8], [1, 2, 7, 5, 6, 8], [1, 2, 7, 6, 4, 3, 5, 0, 8], [1, 2, 7, 6, 4, 3, 5, 0, 9, 8], [1, 2, 7, 6, 4, 3, 9, 0, 8], [1, 2, 7, 6, 4, 3, 9, 8], [1, 2, 7, 6, 4, 5, 0, 8], [1, 2, 7, 6, 4, 5, 0, 9, 8], [1, 2, 7, 6, 4, 5, 3, 9, 0, 8], [1, 2, 7, 6, 4, 5, 3, 9, 8], [1, 2, 7, 6, 5, 0, 8], [1, 2, 7, 6, 5, 0, 9, 8], [1, 2, 7, 6, 5, 3, 9, 0, 8], [1, 2, 7, 6, 5, 3, 9, 8], [1, 2, 7, 6, 5, 4, 3, 9, 0, 8], [1, 2, 7, 6, 5, 4, 3, 9, 8], [1, 2, 7, 6, 8], [1, 2, 7, 8], [1, 2, 7, 9, 0, 5, 3, 4, 6, 8], [1, 2, 7, 9, 0, 5, 4, 6, 8], [1, 2, 7, 9, 0, 5, 6, 8], [1, 2, 7, 9, 0, 8], [1, 2, 7, 9, 3, 4, 5, 0, 8], [1, 2, 7, 9, 3, 4, 5, 6, 8], [1, 2, 7, 9, 3, 4, 6, 5, 0, 8], [1, 2, 7, 9, 3, 4, 6, 8], [1, 2, 7, 9, 3, 5, 0, 8], [1, 2, 7, 9, 3, 5, 4, 6, 8], [1, 2, 7, 9, 3, 5, 6, 8], [1, 2, 7, 9, 8], [1, 3, 2, 0, 5, 4, 6, 7, 8], [1, 3, 2, 0, 5, 4, 6, 7, 9, 8], [1, 3, 2, 0, 5, 4, 6, 8], [1, 3, 2, 0, 5, 6, 7, 8], [1, 3, 2, 0, 5, 6, 7, 9, 8], [1, 3, 2, 0, 5, 6, 8], [1, 3, 2, 0, 5, 7, 6, 8], [1, 3, 2, 0, 5, 7, 8], [1, 3, 2, 0, 5, 7, 9, 8], [1, 3, 2, 0, 8], [1, 3, 2, 0, 9, 7, 5, 4, 6, 8], [1, 3, 2, 0, 9, 7, 5, 6, 8], [1, 3, 2, 0, 9, 7, 6, 8], [1, 3, 2, 0, 9, 7, 8], [1, 3, 2, 0, 9, 8], [1, 3, 2, 4, 5, 0, 8], [1, 3, 2, 4, 5, 0, 9, 7, 6, 8], [1, 3, 2, 4, 5, 0, 9, 7, 8], [1, 3, 2, 4, 5, 0, 9, 8], [1, 3, 2, 4, 5, 6, 7, 8], [1, 3, 2, 4, 5, 6, 7, 9, 0, 8], [1, 3, 2, 4, 5, 6, 7, 9, 8], [1, 3, 2, 4, 5, 6, 8], [1, 3, 2, 4, 5, 7, 6, 8], [1, 3, 2, 4, 5, 7, 8], [1, 3, 2, 4, 5, 7, 9, 0, 8], [1, 3, 2, 4, 5, 7, 9, 8], [1, 3, 2, 4, 6, 5, 0, 8], [1, 3, 2, 4, 6, 5, 0, 9, 7, 8], [1, 3, 2, 4, 6, 5, 0, 9, 8], [1, 3, 2, 4, 6, 5, 7, 8], [1, 3, 2, 4, 6, 5, 7, 9, 0, 8], [1, 3, 2, 4, 6, 5, 7, 9, 8], [1, 3, 2, 4, 6, 7, 5, 0, 8], [1, 3, 2, 4, 6, 7, 5, 0, 9, 8], [1, 3, 2, 4, 6, 7, 8], [1, 3, 2, 4, 6, 7, 9, 0, 8], [1, 3, 2, 4, 6, 7, 9, 8], [1, 3, 2, 4, 6, 8], [1, 3, 2, 5, 0, 8], [1, 3, 2, 5, 0, 9, 7, 6, 8], [1, 3, 2, 5, 0, 9, 7, 8], [1, 3, 2, 5, 0, 9, 8], [1, 3, 2, 5, 4, 6, 7, 8], [1, 3, 2, 5, 4, 6, 7, 9, 0, 8], [1, 3, 2, 5, 4, 6, 7, 9, 8], [1, 3, 2, 5, 4, 6, 8], [1, 3, 2, 5, 6, 7, 8], [1, 3, 2, 5, 6, 7, 9, 0, 8], [1, 3, 2, 5, 6, 7, 9, 8], [1, 3, 2, 5, 6, 8], [1, 3, 2, 5, 7, 6, 8], [1, 3, 2, 5, 7, 8], [1, 3, 2, 5, 7, 9, 0, 8], [1, 3, 2, 5, 7, 9, 8], [1, 3, 2, 7, 5, 0, 8], [1, 3, 2, 7, 5, 0, 9, 8], [1, 3, 2, 7, 5, 4, 6, 8], [1, 3, 2, 7, 5, 6, 8], [1, 3, 2, 7, 6, 4, 5, 0, 8], [1, 3, 2, 7, 6, 4, 5, 0, 9, 8], [1, 3, 2, 7, 6, 5, 0, 8], [1, 3, 2, 7, 6, 5, 0, 9, 8], [1, 3, 2, 7, 6, 8], [1, 3, 2, 7, 8], [1, 3, 2, 7, 9, 0, 5, 4, 6, 8], [1, 3, 2, 7, 9, 0, 5, 6, 8], [1, 3, 2, 7, 9, 0, 8], [1, 3, 2, 7, 9, 8], [1, 3, 4, 2, 0, 5, 6, 7, 8], [1, 3, 4, 2, 0, 5, 6, 7, 9, 8], [1, 3, 4, 2, 0, 5, 6, 8], [1, 3, 4, 2, 0, 5, 7, 6, 8], [1, 3, 4, 2, 0, 5, 7, 8], [1, 3, 4, 2, 0, 5, 7, 9, 8], [1, 3, 4, 2, 0, 8], [1, 3, 4, 2, 0, 9, 7, 5, 6, 8], [1, 3, 4, 2, 0, 9, 7, 6, 8], [1, 3, 4, 2, 0, 9, 7, 8], [1, 3, 4, 2, 0, 9, 8], [1, 3, 4, 2, 5, 0, 8], [1, 3, 4, 2, 5, 0, 9, 7, 6, 8], [1, 3, 4, 2, 5, 0, 9, 7, 8], [1, 3, 4, 2, 5, 0, 9, 8], [1, 3, 4, 2, 5, 6, 7, 8], [1, 3, 4, 2, 5, 6, 7, 9, 0, 8], [1, 3, 4, 2, 5, 6, 7, 9, 8], [1, 3, 4, 2, 5, 6, 8], [1, 3, 4, 2, 5, 7, 6, 8], [1, 3, 4, 2, 5, 7, 8], [1, 3, 4, 2, 5, 7, 9, 0, 8], [1, 3, 4, 2, 5, 7, 9, 8], [1, 3, 4, 2, 7, 5, 0, 8], [1, 3, 4, 2, 7, 5, 0, 9, 8], [1, 3, 4, 2, 7, 5, 6, 8], [1, 3, 4, 2, 7, 6, 5, 0, 8], [1, 3, 4, 2, 7, 6, 5, 0, 9, 8], [1, 3, 4, 2, 7, 6, 8], [1, 3, 4, 2, 7, 8], [1, 3, 4, 2, 7, 9, 0, 5, 6, 8], [1, 3, 4, 2, 7, 9, 0, 8], [1, 3, 4, 2, 7, 9, 8], [1, 3, 4, 5, 0, 2, 7, 6, 8], [1, 3, 4, 5, 0, 2, 7, 8], [1, 3, 4, 5, 0, 2, 7, 9, 8], [1, 3, 4, 5, 0, 8], [1, 3, 4, 5, 0, 9, 7, 6, 8], [1, 3, 4, 5, 0, 9, 7, 8], [1, 3, 4, 5, 0, 9, 8], [1, 3, 4, 5, 2, 0, 8], [1, 3, 4, 5, 2, 0, 9, 7, 6, 8], [1, 3, 4, 5, 2, 0, 9, 7, 8], [1, 3, 4, 5, 2, 0, 9, 8], [1, 3, 4, 5, 2, 7, 6, 8], [1, 3, 4, 5, 2, 7, 8], [1, 3, 4, 5, 2, 7, 9, 0, 8], [1, 3, 4, 5, 2, 7, 9, 8], [1, 3, 4, 5, 6, 7, 2, 0, 8], [1, 3, 4, 5, 6, 7, 2, 0, 9, 8], [1, 3, 4, 5, 6, 7, 8], [1, 3, 4, 5, 6, 7, 9, 0, 8], [1, 3, 4, 5, 6, 7, 9, 8], [1, 3, 4, 5, 6, 8], [1, 3, 4, 5, 7, 2, 0, 8], [1, 3, 4, 5, 7, 2, 0, 9, 8], [1, 3, 4, 5, 7, 6, 8], [1, 3, 4, 5, 7, 8], [1, 3, 4, 5, 7, 9, 0, 8], [1, 3, 4, 5, 7, 9, 8], [1, 3, 4, 6, 5, 0, 2, 7, 8], [1, 3, 4, 6, 5, 0, 2, 7, 9, 8], [1, 3, 4, 6, 5, 0, 8], [1, 3, 4, 6, 5, 0, 9, 7, 8], [1, 3, 4, 6, 5, 0, 9, 8], [1, 3, 4, 6, 5, 2, 0, 8], [1, 3, 4, 6, 5, 2, 0, 9, 7, 8], [1, 3, 4, 6, 5, 2, 0, 9, 8], [1, 3, 4, 6, 5, 2, 7, 8], [1, 3, 4, 6, 5, 2, 7, 9, 0, 8], [1, 3, 4, 6, 5, 2, 7, 9, 8], [1, 3, 4, 6, 5, 7, 2, 0, 8], [1, 3, 4, 6, 5, 7, 2, 0, 9, 8], [1, 3, 4, 6, 5, 7, 8], [1, 3, 4, 6, 5, 7, 9, 0, 8], [1, 3, 4, 6, 5, 7, 9, 8], [1, 3, 4, 6, 7, 2, 0, 8], [1, 3, 4, 6, 7, 2, 0, 9, 8], [1, 3, 4, 6, 7, 2, 5, 0, 8], [1, 3, 4, 6, 7, 2, 5, 0, 9, 8], [1, 3, 4, 6, 7, 5, 0, 8], [1, 3, 4, 6, 7, 5, 0, 9, 8], [1, 3, 4, 6, 7, 5, 2, 0, 8], [1, 3, 4, 6, 7, 5, 2, 0, 9, 8], [1, 3, 4, 6, 7, 8], [1, 3, 4, 6, 7, 9, 0, 8], [1, 3, 4, 6, 7, 9, 8], [1, 3, 4, 6, 8], [1, 3, 5, 0, 2, 4, 6, 7, 8], [1, 3, 5, 0, 2, 4, 6, 7, 9, 8], [1, 3, 5, 0, 2, 4, 6, 8], [1, 3, 5, 0, 2, 7, 6, 8], [1, 3, 5, 0, 2, 7, 8], [1, 3, 5, 0, 2, 7, 9, 8], [1, 3, 5, 0, 8], [1, 3, 5, 0, 9, 7, 2, 4, 6, 8], [1, 3, 5, 0, 9, 7, 6, 8], [1, 3, 5, 0, 9, 7, 8], [1, 3, 5, 0, 9, 8], [1, 3, 5, 2, 0, 8], [1, 3, 5, 2, 0, 9, 7, 6, 8], [1, 3, 5, 2, 0, 9, 7, 8], [1, 3, 5, 2, 0, 9, 8], [1, 3, 5, 2, 4, 6, 7, 8], [1, 3, 5, 2, 4, 6, 7, 9, 0, 8], [1, 3, 5, 2, 4, 6, 7, 9, 8], [1, 3, 5, 2, 4, 6, 8], [1, 3, 5, 2, 7, 6, 8], [1, 3, 5, 2, 7, 8], [1, 3, 5, 2, 7, 9, 0, 8], [1, 3, 5, 2, 7, 9, 8], [1, 3, 5, 4, 2, 0, 8], [1, 3, 5, 4, 2, 0, 9, 7, 6, 8], [1, 3, 5, 4, 2, 0, 9, 7, 8], [1, 3, 5, 4, 2, 0, 9, 8], [1, 3, 5, 4, 2, 7, 6, 8], [1, 3, 5, 4, 2, 7, 8], [1, 3, 5, 4, 2, 7, 9, 0, 8], [1, 3, 5, 4, 2, 7, 9, 8], [1, 3, 5, 4, 6, 7, 2, 0, 8], [1, 3, 5, 4, 6, 7, 2, 0, 9, 8], [1, 3, 5, 4, 6, 7, 8], [1, 3, 5, 4, 6, 7, 9, 0, 8], [1, 3, 5, 4, 6, 7, 9, 8], [1, 3, 5, 4, 6, 8], [1, 3, 5, 6, 4, 2, 0, 8], [1, 3, 5, 6, 4, 2, 0, 9, 7, 8], [1, 3, 5, 6, 4, 2, 0, 9, 8], [1, 3, 5, 6, 4, 2, 7, 8], [1, 3, 5, 6, 4, 2, 7, 9, 0, 8], [1, 3, 5, 6, 4, 2, 7, 9, 8], [1, 3, 5, 6, 7, 2, 0, 8], [1, 3, 5, 6, 7, 2, 0, 9, 8], [1, 3, 5, 6, 7, 8], [1, 3, 5, 6, 7, 9, 0, 8], [1, 3, 5, 6, 7, 9, 8], [1, 3, 5, 6, 8], [1, 3, 5, 7, 2, 0, 8], [1, 3, 5, 7, 2, 0, 9, 8], [1, 3, 5, 7, 2, 4, 6, 8], [1, 3, 5, 7, 6, 4, 2, 0, 8], [1, 3, 5, 7, 6, 4, 2, 0, 9, 8], [1, 3, 5, 7, 6, 8], [1, 3, 5, 7, 8], [1, 3, 5, 7, 9, 0, 2, 4, 6, 8], [1, 3, 5, 7, 9, 0, 8], [1, 3, 5, 7, 9, 8], [1, 3, 9, 0, 2, 4, 5, 6, 7, 8], [1, 3, 9, 0, 2, 4, 5, 6, 8], [1, 3, 9, 0, 2, 4, 5, 7, 6, 8], [1, 3, 9, 0, 2, 4, 5, 7, 8], [1, 3, 9, 0, 2, 4, 6, 5, 7, 8], [1, 3, 9, 0, 2, 4, 6, 7, 8], [1, 3, 9, 0, 2, 4, 6, 8], [1, 3, 9, 0, 2, 5, 4, 6, 7, 8], [1, 3, 9, 0, 2, 5, 4, 6, 8], [1, 3, 9, 0, 2, 5, 6, 7, 8], [1, 3, 9, 0, 2, 5, 6, 8], [1, 3, 9, 0, 2, 5, 7, 6, 8], [1, 3, 9, 0, 2, 5, 7, 8], [1, 3, 9, 0, 2, 7, 5, 4, 6, 8], [1, 3, 9, 0, 2, 7, 5, 6, 8], [1, 3, 9, 0, 2, 7, 6, 8], [1, 3, 9, 0, 2, 7, 8], [1, 3, 9, 0, 5, 2, 4, 6, 7, 8], [1, 3, 9, 0, 5, 2, 4, 6, 8], [1, 3, 9, 0, 5, 2, 7, 6, 8], [1, 3, 9, 0, 5, 2, 7, 8], [1, 3, 9, 0, 5, 4, 2, 7, 6, 8], [1, 3, 9, 0, 5, 4, 2, 7, 8], [1, 3, 9, 0, 5, 4, 6, 7, 8], [1, 3, 9, 0, 5, 4, 6, 8], [1, 3, 9, 0, 5, 6, 4, 2, 7, 8], [1, 3, 9, 0, 5, 6, 7, 8], [1, 3, 9, 0, 5, 6, 8], [1, 3, 9, 0, 5, 7, 2, 4, 6, 8], [1, 3, 9, 0, 5, 7, 6, 8], [1, 3, 9, 0, 5, 7, 8], [1, 3, 9, 0, 8], [1, 3, 9, 7, 2, 0, 5, 4, 6, 8], [1, 3, 9, 7, 2, 0, 5, 6, 8], [1, 3, 9, 7, 2, 0, 8], [1, 3, 9, 7, 2, 4, 5, 0, 8], [1, 3, 9, 7, 2, 4, 5, 6, 8], [1, 3, 9, 7, 2, 4, 6, 5, 0, 8], [1, 3, 9, 7, 2, 4, 6, 8], [1, 3, 9, 7, 2, 5, 0, 8], [1, 3, 9, 7, 2, 5, 4, 6, 8], [1, 3, 9, 7, 2, 5, 6, 8], [1, 3, 9, 7, 5, 0, 2, 4, 6, 8], [1, 3, 9, 7, 5, 0, 8], [1, 3, 9, 7, 5, 2, 0, 8], [1, 3, 9, 7, 5, 2, 4, 6, 8], [1, 3, 9, 7, 5, 4, 2, 0, 8], [1, 3, 9, 7, 5, 4, 6, 8], [1, 3, 9, 7, 5, 6, 4, 2, 0, 8], [1, 3, 9, 7, 5, 6, 8], [1, 3, 9, 7, 6, 4, 2, 0, 8], [1, 3, 9, 7, 6, 4, 2, 5, 0, 8], [1, 3, 9, 7, 6, 4, 5, 0, 8], [1, 3, 9, 7, 6, 4, 5, 2, 0, 8], [1, 3, 9, 7, 6, 5, 0, 8], [1, 3, 9, 7, 6, 5, 2, 0, 8], [1, 3, 9, 7, 6, 5, 4, 2, 0, 8], [1, 3, 9, 7, 6, 8], [1, 3, 9, 7, 8], [1, 3, 9, 8], [1, 4, 2, 0, 5, 3, 9, 7, 6, 8], [1, 4, 2, 0, 5, 3, 9, 7, 8], [1, 4, 2, 0, 5, 3, 9, 8], [1, 4, 2, 0, 5, 6, 7, 8], [1, 4, 2, 0, 5, 6, 7, 9, 8], [1, 4, 2, 0, 5, 6, 8], [1, 4, 2, 0, 5, 7, 6, 8], [1, 4, 2, 0, 5, 7, 8], [1, 4, 2, 0, 5, 7, 9, 8], [1, 4, 2, 0, 8], [1, 4, 2, 0, 9, 3, 5, 6, 7, 8], [1, 4, 2, 0, 9, 3, 5, 6, 8], [1, 4, 2, 0, 9, 3, 5, 7, 6, 8], [1, 4, 2, 0, 9, 3, 5, 7, 8], [1, 4, 2, 0, 9, 7, 5, 6, 8], [1, 4, 2, 0, 9, 7, 6, 8], [1, 4, 2, 0, 9, 7, 8], [1, 4, 2, 0, 9, 8], [1, 4, 2, 3, 5, 0, 8], [1, 4, 2, 3, 5, 0, 9, 7, 6, 8], [1, 4, 2, 3, 5, 0, 9, 7, 8], [1, 4, 2, 3, 5, 0, 9, 8], [1, 4, 2, 3, 5, 6, 7, 8], [1, 4, 2, 3, 5, 6, 7, 9, 0, 8], [1, 4, 2, 3, 5, 6, 7, 9, 8], [1, 4, 2, 3, 5, 6, 8], [1, 4, 2, 3, 5, 7, 6, 8], [1, 4, 2, 3, 5, 7, 8], [1, 4, 2, 3, 5, 7, 9, 0, 8], [1, 4, 2, 3, 5, 7, 9, 8], [1, 4, 2, 3, 9, 0, 5, 6, 7, 8], [1, 4, 2, 3, 9, 0, 5, 6, 8], [1, 4, 2, 3, 9, 0, 5, 7, 6, 8], [1, 4, 2, 3, 9, 0, 5, 7, 8], [1, 4, 2, 3, 9, 0, 8], [1, 4, 2, 3, 9, 7, 5, 0, 8], [1, 4, 2, 3, 9, 7, 5, 6, 8], [1, 4, 2, 3, 9, 7, 6, 5, 0, 8], [1, 4, 2, 3, 9, 7, 6, 8], [1, 4, 2, 3, 9, 7, 8], [1, 4, 2, 3, 9, 8], [1, 4, 2, 5, 0, 8], [1, 4, 2, 5, 0, 9, 7, 6, 8], [1, 4, 2, 5, 0, 9, 7, 8], [1, 4, 2, 5, 0, 9, 8], [1, 4, 2, 5, 3, 9, 0, 8], [1, 4, 2, 5, 3, 9, 7, 6, 8], [1, 4, 2, 5, 3, 9, 7, 8], [1, 4, 2, 5, 3, 9, 8], [1, 4, 2, 5, 6, 7, 8], [1, 4, 2, 5, 6, 7, 9, 0, 8], [1, 4, 2, 5, 6, 7, 9, 8], [1, 4, 2, 5, 6, 8], [1, 4, 2, 5, 7, 6, 8], [1, 4, 2, 5, 7, 8], [1, 4, 2, 5, 7, 9, 0, 8], [1, 4, 2, 5, 7, 9, 8], [1, 4, 2, 7, 5, 0, 8], [1, 4, 2, 7, 5, 0, 9, 8], [1, 4, 2, 7, 5, 3, 9, 0, 8], [1, 4, 2, 7, 5, 3, 9, 8], [1, 4, 2, 7, 5, 6, 8], [1, 4, 2, 7, 6, 5, 0, 8], [1, 4, 2, 7, 6, 5, 0, 9, 8], [1, 4, 2, 7, 6, 5, 3, 9, 0, 8], [1, 4, 2, 7, 6, 5, 3, 9, 8], [1, 4, 2, 7, 6, 8], [1, 4, 2, 7, 8], [1, 4, 2, 7, 9, 0, 5, 6, 8], [1, 4, 2, 7, 9, 0, 8], [1, 4, 2, 7, 9, 3, 5, 0, 8], [1, 4, 2, 7, 9, 3, 5, 6, 8], [1, 4, 2, 7, 9, 8], [1, 4, 3, 2, 0, 5, 6, 7, 8], [1, 4, 3, 2, 0, 5, 6, 7, 9, 8], [1, 4, 3, 2, 0, 5, 6, 8], [1, 4, 3, 2, 0, 5, 7, 6, 8], [1, 4, 3, 2, 0, 5, 7, 8], [1, 4, 3, 2, 0, 5, 7, 9, 8], [1, 4, 3, 2, 0, 8], [1, 4, 3, 2, 0, 9, 7, 5, 6, 8], [1, 4, 3, 2, 0, 9, 7, 6, 8], [1, 4, 3, 2, 0, 9, 7, 8], [1, 4, 3, 2, 0, 9, 8], [1, 4, 3, 2, 5, 0, 8], [1, 4, 3, 2, 5, 0, 9, 7, 6, 8], [1, 4, 3, 2, 5, 0, 9, 7, 8], [1, 4, 3, 2, 5, 0, 9, 8], [1, 4, 3, 2, 5, 6, 7, 8], [1, 4, 3, 2, 5, 6, 7, 9, 0, 8], [1, 4, 3, 2, 5, 6, 7, 9, 8], [1, 4, 3, 2, 5, 6, 8], [1, 4, 3, 2, 5, 7, 6, 8], [1, 4, 3, 2, 5, 7, 8], [1, 4, 3, 2, 5, 7, 9, 0, 8], [1, 4, 3, 2, 5, 7, 9, 8], [1, 4, 3, 2, 7, 5, 0, 8], [1, 4, 3, 2, 7, 5, 0, 9, 8], [1, 4, 3, 2, 7, 5, 6, 8], [1, 4, 3, 2, 7, 6, 5, 0, 8], [1, 4, 3, 2, 7, 6, 5, 0, 9, 8], [1, 4, 3, 2, 7, 6, 8], [1, 4, 3, 2, 7, 8], [1, 4, 3, 2, 7, 9, 0, 5, 6, 8], [1, 4, 3, 2, 7, 9, 0, 8], [1, 4, 3, 2, 7, 9, 8], [1, 4, 3, 5, 0, 2, 7, 6, 8], [1, 4, 3, 5, 0, 2, 7, 8], [1, 4, 3, 5, 0, 2, 7, 9, 8], [1, 4, 3, 5, 0, 8], [1, 4, 3, 5, 0, 9, 7, 6, 8], [1, 4, 3, 5, 0, 9, 7, 8], [1, 4, 3, 5, 0, 9, 8], [1, 4, 3, 5, 2, 0, 8], [1, 4, 3, 5, 2, 0, 9, 7, 6, 8], [1, 4, 3, 5, 2, 0, 9, 7, 8], [1, 4, 3, 5, 2, 0, 9, 8], [1, 4, 3, 5, 2, 7, 6, 8], [1, 4, 3, 5, 2, 7, 8], [1, 4, 3, 5, 2, 7, 9, 0, 8], [1, 4, 3, 5, 2, 7, 9, 8], [1, 4, 3, 5, 6, 7, 2, 0, 8], [1, 4, 3, 5, 6, 7, 2, 0, 9, 8], [1, 4, 3, 5, 6, 7, 8], [1, 4, 3, 5, 6, 7, 9, 0, 8], [1, 4, 3, 5, 6, 7, 9, 8], [1, 4, 3, 5, 6, 8], [1, 4, 3, 5, 7, 2, 0, 8], [1, 4, 3, 5, 7, 2, 0, 9, 8], [1, 4, 3, 5, 7, 6, 8], [1, 4, 3, 5, 7, 8], [1, 4, 3, 5, 7, 9, 0, 8], [1, 4, 3, 5, 7, 9, 8], [1, 4, 3, 9, 0, 2, 5, 6, 7, 8], [1, 4, 3, 9, 0, 2, 5, 6, 8], [1, 4, 3, 9, 0, 2, 5, 7, 6, 8], [1, 4, 3, 9, 0, 2, 5, 7, 8], [1, 4, 3, 9, 0, 2, 7, 5, 6, 8], [1, 4, 3, 9, 0, 2, 7, 6, 8], [1, 4, 3, 9, 0, 2, 7, 8], [1, 4, 3, 9, 0, 5, 2, 7, 6, 8], [1, 4, 3, 9, 0, 5, 2, 7, 8], [1, 4, 3, 9, 0, 5, 6, 7, 8], [1, 4, 3, 9, 0, 5, 6, 8], [1, 4, 3, 9, 0, 5, 7, 6, 8], [1, 4, 3, 9, 0, 5, 7, 8], [1, 4, 3, 9, 0, 8], [1, 4, 3, 9, 7, 2, 0, 5, 6, 8], [1, 4, 3, 9, 7, 2, 0, 8], [1, 4, 3, 9, 7, 2, 5, 0, 8], [1, 4, 3, 9, 7, 2, 5, 6, 8], [1, 4, 3, 9, 7, 5, 0, 8], [1, 4, 3, 9, 7, 5, 2, 0, 8], [1, 4, 3, 9, 7, 5, 6, 8], [1, 4, 3, 9, 7, 6, 5, 0, 8], [1, 4, 3, 9, 7, 6, 5, 2, 0, 8], [1, 4, 3, 9, 7, 6, 8], [1, 4, 3, 9, 7, 8], [1, 4, 3, 9, 8], [1, 4, 5, 0, 2, 3, 9, 7, 6, 8], [1, 4, 5, 0, 2, 3, 9, 7, 8], [1, 4, 5, 0, 2, 3, 9, 8], [1, 4, 5, 0, 2, 7, 6, 8], [1, 4, 5, 0, 2, 7, 8], [1, 4, 5, 0, 2, 7, 9, 8], [1, 4, 5, 0, 8], [1, 4, 5, 0, 9, 3, 2, 7, 6, 8], [1, 4, 5, 0, 9, 3, 2, 7, 8], [1, 4, 5, 0, 9, 7, 6, 8], [1, 4, 5, 0, 9, 7, 8], [1, 4, 5, 0, 9, 8], [1, 4, 5, 2, 0, 8], [1, 4, 5, 2, 0, 9, 7, 6, 8], [1, 4, 5, 2, 0, 9, 7, 8], [1, 4, 5, 2, 0, 9, 8], [1, 4, 5, 2, 3, 9, 0, 8], [1, 4, 5, 2, 3, 9, 7, 6, 8], [1, 4, 5, 2, 3, 9, 7, 8], [1, 4, 5, 2, 3, 9, 8], [1, 4, 5, 2, 7, 6, 8], [1, 4, 5, 2, 7, 8], [1, 4, 5, 2, 7, 9, 0, 8], [1, 4, 5, 2, 7, 9, 8], [1, 4, 5, 3, 2, 0, 8], [1, 4, 5, 3, 2, 0, 9, 7, 6, 8], [1, 4, 5, 3, 2, 0, 9, 7, 8], [1, 4, 5, 3, 2, 0, 9, 8], [1, 4, 5, 3, 2, 7, 6, 8], [1, 4, 5, 3, 2, 7, 8], [1, 4, 5, 3, 2, 7, 9, 0, 8], [1, 4, 5, 3, 2, 7, 9, 8], [1, 4, 5, 3, 9, 0, 2, 7, 6, 8], [1, 4, 5, 3, 9, 0, 2, 7, 8], [1, 4, 5, 3, 9, 0, 8], [1, 4, 5, 3, 9, 7, 2, 0, 8], [1, 4, 5, 3, 9, 7, 6, 8], [1, 4, 5, 3, 9, 7, 8], [1, 4, 5, 3, 9, 8], [1, 4, 5, 6, 7, 2, 0, 8], [1, 4, 5, 6, 7, 2, 0, 9, 8], [1, 4, 5, 6, 7, 2, 3, 9, 0, 8], [1, 4, 5, 6, 7, 2, 3, 9, 8], [1, 4, 5, 6, 7, 8], [1, 4, 5, 6, 7, 9, 0, 8], [1, 4, 5, 6, 7, 9, 3, 2, 0, 8], [1, 4, 5, 6, 7, 9, 8], [1, 4, 5, 6, 8], [1, 4, 5, 7, 2, 0, 8], [1, 4, 5, 7, 2, 0, 9, 8], [1, 4, 5, 7, 2, 3, 9, 0, 8], [1, 4, 5, 7, 2, 3, 9, 8], [1, 4, 5, 7, 6, 8], [1, 4, 5, 7, 8], [1, 4, 5, 7, 9, 0, 8], [1, 4, 5, 7, 9, 3, 2, 0, 8], [1, 4, 5, 7, 9, 8], [1, 4, 6, 5, 0, 2, 3, 9, 7, 8], [1, 4, 6, 5, 0, 2, 3, 9, 8], [1, 4, 6, 5, 0, 2, 7, 8], [1, 4, 6, 5, 0, 2, 7, 9, 8], [1, 4, 6, 5, 0, 8], [1, 4, 6, 5, 0, 9, 3, 2, 7, 8], [1, 4, 6, 5, 0, 9, 7, 8], [1, 4, 6, 5, 0, 9, 8], [1, 4, 6, 5, 2, 0, 8], [1, 4, 6, 5, 2, 0, 9, 7, 8], [1, 4, 6, 5, 2, 0, 9, 8], [1, 4, 6, 5, 2, 3, 9, 0, 8], [1, 4, 6, 5, 2, 3, 9, 7, 8], [1, 4, 6, 5, 2, 3, 9, 8], [1, 4, 6, 5, 2, 7, 8], [1, 4, 6, 5, 2, 7, 9, 0, 8], [1, 4, 6, 5, 2, 7, 9, 8], [1, 4, 6, 5, 3, 2, 0, 8], [1, 4, 6, 5, 3, 2, 0, 9, 7, 8], [1, 4, 6, 5, 3, 2, 0, 9, 8], [1, 4, 6, 5, 3, 2, 7, 8], [1, 4, 6, 5, 3, 2, 7, 9, 0, 8], [1, 4, 6, 5, 3, 2, 7, 9, 8], [1, 4, 6, 5, 3, 9, 0, 2, 7, 8], [1, 4, 6, 5, 3, 9, 0, 8], [1, 4, 6, 5, 3, 9, 7, 2, 0, 8], [1, 4, 6, 5, 3, 9, 7, 8], [1, 4, 6, 5, 3, 9, 8], [1, 4, 6, 5, 7, 2, 0, 8], [1, 4, 6, 5, 7, 2, 0, 9, 8], [1, 4, 6, 5, 7, 2, 3, 9, 0, 8], [1, 4, 6, 5, 7, 2, 3, 9, 8], [1, 4, 6, 5, 7, 8], [1, 4, 6, 5, 7, 9, 0, 8], [1, 4, 6, 5, 7, 9, 3, 2, 0, 8], [1, 4, 6, 5, 7, 9, 8], [1, 4, 6, 7, 2, 0, 5, 3, 9, 8], [1, 4, 6, 7, 2, 0, 8], [1, 4, 6, 7, 2, 0, 9, 8], [1, 4, 6, 7, 2, 3, 5, 0, 8], [1, 4, 6, 7, 2, 3, 5, 0, 9, 8], [1, 4, 6, 7, 2, 3, 9, 0, 8], [1, 4, 6, 7, 2, 3, 9, 8], [1, 4, 6, 7, 2, 5, 0, 8], [1, 4, 6, 7, 2, 5, 0, 9, 8], [1, 4, 6, 7, 2, 5, 3, 9, 0, 8], [1, 4, 6, 7, 2, 5, 3, 9, 8], [1, 4, 6, 7, 5, 0, 2, 3, 9, 8], [1, 4, 6, 7, 5, 0, 8], [1, 4, 6, 7, 5, 0, 9, 8], [1, 4, 6, 7, 5, 2, 0, 8], [1, 4, 6, 7, 5, 2, 0, 9, 8], [1, 4, 6, 7, 5, 2, 3, 9, 0, 8], [1, 4, 6, 7, 5, 2, 3, 9, 8], [1, 4, 6, 7, 5, 3, 2, 0, 8], [1, 4, 6, 7, 5, 3, 2, 0, 9, 8], [1, 4, 6, 7, 5, 3, 9, 0, 8], [1, 4, 6, 7, 5, 3, 9, 8], [1, 4, 6, 7, 8], [1, 4, 6, 7, 9, 0, 8], [1, 4, 6, 7, 9, 3, 2, 0, 8], [1, 4, 6, 7, 9, 3, 2, 5, 0, 8], [1, 4, 6, 7, 9, 3, 5, 0, 8], [1, 4, 6, 7, 9, 3, 5, 2, 0, 8], [1, 4, 6, 7, 9, 8], [1, 4, 6, 8], [1, 6, 4, 2, 0, 5, 3, 9, 7, 8], [1, 6, 4, 2, 0, 5, 3, 9, 8], [1, 6, 4, 2, 0, 5, 7, 8], [1, 6, 4, 2, 0, 5, 7, 9, 8], [1, 6, 4, 2, 0, 8], [1, 6, 4, 2, 0, 9, 3, 5, 7, 8], [1, 6, 4, 2, 0, 9, 7, 8], [1, 6, 4, 2, 0, 9, 8], [1, 6, 4, 2, 3, 5, 0, 8], [1, 6, 4, 2, 3, 5, 0, 9, 7, 8], [1, 6, 4, 2, 3, 5, 0, 9, 8], [1, 6, 4, 2, 3, 5, 7, 8], [1, 6, 4, 2, 3, 5, 7, 9, 0, 8], [1, 6, 4, 2, 3, 5, 7, 9, 8], [1, 6, 4, 2, 3, 9, 0, 5, 7, 8], [1, 6, 4, 2, 3, 9, 0, 8], [1, 6, 4, 2, 3, 9, 7, 5, 0, 8], [1, 6, 4, 2, 3, 9, 7, 8], [1, 6, 4, 2, 3, 9, 8], [1, 6, 4, 2, 5, 0, 8], [1, 6, 4, 2, 5, 0, 9, 7, 8], [1, 6, 4, 2, 5, 0, 9, 8], [1, 6, 4, 2, 5, 3, 9, 0, 8], [1, 6, 4, 2, 5, 3, 9, 7, 8], [1, 6, 4, 2, 5, 3, 9, 8], [1, 6, 4, 2, 5, 7, 8], [1, 6, 4, 2, 5, 7, 9, 0, 8], [1, 6, 4, 2, 5, 7, 9, 8], [1, 6, 4, 2, 7, 5, 0, 8], [1, 6, 4, 2, 7, 5, 0, 9, 8], [1, 6, 4, 2, 7, 5, 3, 9, 0, 8], [1, 6, 4, 2, 7, 5, 3, 9, 8], [1, 6, 4, 2, 7, 8], [1, 6, 4, 2, 7, 9, 0, 8], [1, 6, 4, 2, 7, 9, 3, 5, 0, 8], [1, 6, 4, 2, 7, 9, 8], [1, 6, 4, 3, 2, 0, 5, 7, 8], [1, 6, 4, 3, 2, 0, 5, 7, 9, 8], [1, 6, 4, 3, 2, 0, 8], [1, 6, 4, 3, 2, 0, 9, 7, 8], [1, 6, 4, 3, 2, 0, 9, 8], [1, 6, 4, 3, 2, 5, 0, 8], [1, 6, 4, 3, 2, 5, 0, 9, 7, 8], [1, 6, 4, 3, 2, 5, 0, 9, 8], [1, 6, 4, 3, 2, 5, 7, 8], [1, 6, 4, 3, 2, 5, 7, 9, 0, 8], [1, 6, 4, 3, 2, 5, 7, 9, 8], [1, 6, 4, 3, 2, 7, 5, 0, 8], [1, 6, 4, 3, 2, 7, 5, 0, 9, 8], [1, 6, 4, 3, 2, 7, 8], [1, 6, 4, 3, 2, 7, 9, 0, 8], [1, 6, 4, 3, 2, 7, 9, 8], [1, 6, 4, 3, 5, 0, 2, 7, 8], [1, 6, 4, 3, 5, 0, 2, 7, 9, 8], [1, 6, 4, 3, 5, 0, 8], [1, 6, 4, 3, 5, 0, 9, 7, 8], [1, 6, 4, 3, 5, 0, 9, 8], [1, 6, 4, 3, 5, 2, 0, 8], [1, 6, 4, 3, 5, 2, 0, 9, 7, 8], [1, 6, 4, 3, 5, 2, 0, 9, 8], [1, 6, 4, 3, 5, 2, 7, 8], [1, 6, 4, 3, 5, 2, 7, 9, 0, 8], [1, 6, 4, 3, 5, 2, 7, 9, 8], [1, 6, 4, 3, 5, 7, 2, 0, 8], [1, 6, 4, 3, 5, 7, 2, 0, 9, 8], [1, 6, 4, 3, 5, 7, 8], [1, 6, 4, 3, 5, 7, 9, 0, 8], [1, 6, 4, 3, 5, 7, 9, 8], [1, 6, 4, 3, 9, 0, 2, 5, 7, 8], [1, 6, 4, 3, 9, 0, 2, 7, 8], [1, 6, 4, 3, 9, 0, 5, 2, 7, 8], [1, 6, 4, 3, 9, 0, 5, 7, 8], [1, 6, 4, 3, 9, 0, 8], [1, 6, 4, 3, 9, 7, 2, 0, 8], [1, 6, 4, 3, 9, 7, 2, 5, 0, 8], [1, 6, 4, 3, 9, 7, 5, 0, 8], [1, 6, 4, 3, 9, 7, 5, 2, 0, 8], [1, 6, 4, 3, 9, 7, 8], [1, 6, 4, 3, 9, 8], [1, 6, 4, 5, 0, 2, 3, 9, 7, 8], [1, 6, 4, 5, 0, 2, 3, 9, 8], [1, 6, 4, 5, 0, 2, 7, 8], [1, 6, 4, 5, 0, 2, 7, 9, 8], [1, 6, 4, 5, 0, 8], [1, 6, 4, 5, 0, 9, 3, 2, 7, 8], [1, 6, 4, 5, 0, 9, 7, 8], [1, 6, 4, 5, 0, 9, 8], [1, 6, 4, 5, 2, 0, 8], [1, 6, 4, 5, 2, 0, 9, 7, 8], [1, 6, 4, 5, 2, 0, 9, 8], [1, 6, 4, 5, 2, 3, 9, 0, 8], [1, 6, 4, 5, 2, 3, 9, 7, 8], [1, 6, 4, 5, 2, 3, 9, 8], [1, 6, 4, 5, 2, 7, 8], [1, 6, 4, 5, 2, 7, 9, 0, 8], [1, 6, 4, 5, 2, 7, 9, 8], [1, 6, 4, 5, 3, 2, 0, 8], [1, 6, 4, 5, 3, 2, 0, 9, 7, 8], [1, 6, 4, 5, 3, 2, 0, 9, 8], [1, 6, 4, 5, 3, 2, 7, 8], [1, 6, 4, 5, 3, 2, 7, 9, 0, 8], [1, 6, 4, 5, 3, 2, 7, 9, 8], [1, 6, 4, 5, 3, 9, 0, 2, 7, 8], [1, 6, 4, 5, 3, 9, 0, 8], [1, 6, 4, 5, 3, 9, 7, 2, 0, 8], [1, 6, 4, 5, 3, 9, 7, 8], [1, 6, 4, 5, 3, 9, 8], [1, 6, 4, 5, 7, 2, 0, 8], [1, 6, 4, 5, 7, 2, 0, 9, 8], [1, 6, 4, 5, 7, 2, 3, 9, 0, 8], [1, 6, 4, 5, 7, 2, 3, 9, 8], [1, 6, 4, 5, 7, 8], [1, 6, 4, 5, 7, 9, 0, 8], [1, 6, 4, 5, 7, 9, 3, 2, 0, 8], [1, 6, 4, 5, 7, 9, 8], [1, 6, 5, 0, 2, 3, 9, 7, 8], [1, 6, 5, 0, 2, 3, 9, 8], [1, 6, 5, 0, 2, 4, 3, 9, 7, 8], [1, 6, 5, 0, 2, 4, 3, 9, 8], [1, 6, 5, 0, 2, 7, 8], [1, 6, 5, 0, 2, 7, 9, 8], [1, 6, 5, 0, 8], [1, 6, 5, 0, 9, 3, 2, 7, 8], [1, 6, 5, 0, 9, 3, 4, 2, 7, 8], [1, 6, 5, 0, 9, 7, 8], [1, 6, 5, 0, 9, 8], [1, 6, 5, 2, 0, 8], [1, 6, 5, 2, 0, 9, 7, 8], [1, 6, 5, 2, 0, 9, 8], [1, 6, 5, 2, 3, 9, 0, 8], [1, 6, 5, 2, 3, 9, 7, 8], [1, 6, 5, 2, 3, 9, 8], [1, 6, 5, 2, 4, 3, 9, 0, 8], [1, 6, 5, 2, 4, 3, 9, 7, 8], [1, 6, 5, 2, 4, 3, 9, 8], [1, 6, 5, 2, 7, 8], [1, 6, 5, 2, 7, 9, 0, 8], [1, 6, 5, 2, 7, 9, 8], [1, 6, 5, 3, 2, 0, 8], [1, 6, 5, 3, 2, 0, 9, 7, 8], [1, 6, 5, 3, 2, 0, 9, 8], [1, 6, 5, 3, 2, 7, 8], [1, 6, 5, 3, 2, 7, 9, 0, 8], [1, 6, 5, 3, 2, 7, 9, 8], [1, 6, 5, 3, 4, 2, 0, 8], [1, 6, 5, 3, 4, 2, 0, 9, 7, 8], [1, 6, 5, 3, 4, 2, 0, 9, 8], [1, 6, 5, 3, 4, 2, 7, 8], [1, 6, 5, 3, 4, 2, 7, 9, 0, 8], [1, 6, 5, 3, 4, 2, 7, 9, 8], [1, 6, 5, 3, 9, 0, 2, 7, 8], [1, 6, 5, 3, 9, 0, 8], [1, 6, 5, 3, 9, 7, 2, 0, 8], [1, 6, 5, 3, 9, 7, 8], [1, 6, 5, 3, 9, 8], [1, 6, 5, 4, 2, 0, 8], [1, 6, 5, 4, 2, 0, 9, 7, 8], [1, 6, 5, 4, 2, 0, 9, 8], [1, 6, 5, 4, 2, 3, 9, 0, 8], [1, 6, 5, 4, 2, 3, 9, 7, 8], [1, 6, 5, 4, 2, 3, 9, 8], [1, 6, 5, 4, 2, 7, 8], [1, 6, 5, 4, 2, 7, 9, 0, 8], [1, 6, 5, 4, 2, 7, 9, 8], [1, 6, 5, 4, 3, 2, 0, 8], [1, 6, 5, 4, 3, 2, 0, 9, 7, 8], [1, 6, 5, 4, 3, 2, 0, 9, 8], [1, 6, 5, 4, 3, 2, 7, 8], [1, 6, 5, 4, 3, 2, 7, 9, 0, 8], [1, 6, 5, 4, 3, 2, 7, 9, 8], [1, 6, 5, 4, 3, 9, 0, 2, 7, 8], [1, 6, 5, 4, 3, 9, 0, 8], [1, 6, 5, 4, 3, 9, 7, 2, 0, 8], [1, 6, 5, 4, 3, 9, 7, 8], [1, 6, 5, 4, 3, 9, 8], [1, 6, 5, 7, 2, 0, 8], [1, 6, 5, 7, 2, 0, 9, 8], [1, 6, 5, 7, 2, 3, 9, 0, 8], [1, 6, 5, 7, 2, 3, 9, 8], [1, 6, 5, 7, 2, 4, 3, 9, 0, 8], [1, 6, 5, 7, 2, 4, 3, 9, 8], [1, 6, 5, 7, 8], [1, 6, 5, 7, 9, 0, 8], [1, 6, 5, 7, 9, 3, 2, 0, 8], [1, 6, 5, 7, 9, 3, 4, 2, 0, 8], [1, 6, 5, 7, 9, 8], [1, 6, 7, 2, 0, 5, 3, 9, 8], [1, 6, 7, 2, 0, 5, 4, 3, 9, 8], [1, 6, 7, 2, 0, 8], [1, 6, 7, 2, 0, 9, 8], [1, 6, 7, 2, 3, 4, 5, 0, 8], [1, 6, 7, 2, 3, 4, 5, 0, 9, 8], [1, 6, 7, 2, 3, 5, 0, 8], [1, 6, 7, 2, 3, 5, 0, 9, 8], [1, 6, 7, 2, 3, 9, 0, 8], [1, 6, 7, 2, 3, 9, 8], [1, 6, 7, 2, 4, 3, 5, 0, 8], [1, 6, 7, 2, 4, 3, 5, 0, 9, 8], [1, 6, 7, 2, 4, 3, 9, 0, 8], [1, 6, 7, 2, 4, 3, 9, 8], [1, 6, 7, 2, 4, 5, 0, 8], [1, 6, 7, 2, 4, 5, 0, 9, 8], [1, 6, 7, 2, 4, 5, 3, 9, 0, 8], [1, 6, 7, 2, 4, 5, 3, 9, 8], [1, 6, 7, 2, 5, 0, 8], [1, 6, 7, 2, 5, 0, 9, 8], [1, 6, 7, 2, 5, 3, 9, 0, 8], [1, 6, 7, 2, 5, 3, 9, 8], [1, 6, 7, 2, 5, 4, 3, 9, 0, 8], [1, 6, 7, 2, 5, 4, 3, 9, 8], [1, 6, 7, 5, 0, 2, 3, 9, 8], [1, 6, 7, 5, 0, 2, 4, 3, 9, 8], [1, 6, 7, 5, 0, 8], [1, 6, 7, 5, 0, 9, 8], [1, 6, 7, 5, 2, 0, 8], [1, 6, 7, 5, 2, 0, 9, 8], [1, 6, 7, 5, 2, 3, 9, 0, 8], [1, 6, 7, 5, 2, 3, 9, 8], [1, 6, 7, 5, 2, 4, 3, 9, 0, 8], [1, 6, 7, 5, 2, 4, 3, 9, 8], [1, 6, 7, 5, 3, 2, 0, 8], [1, 6, 7, 5, 3, 2, 0, 9, 8], [1, 6, 7, 5, 3, 4, 2, 0, 8], [1, 6, 7, 5, 3, 4, 2, 0, 9, 8], [1, 6, 7, 5, 3, 9, 0, 8], [1, 6, 7, 5, 3, 9, 8], [1, 6, 7, 5, 4, 2, 0, 8], [1, 6, 7, 5, 4, 2, 0, 9, 8], [1, 6, 7, 5, 4, 2, 3, 9, 0, 8], [1, 6, 7, 5, 4, 2, 3, 9, 8], [1, 6, 7, 5, 4, 3, 2, 0, 8], [1, 6, 7, 5, 4, 3, 2, 0, 9, 8], [1, 6, 7, 5, 4, 3, 9, 0, 8], [1, 6, 7, 5, 4, 3, 9, 8], [1, 6, 7, 8], [1, 6, 7, 9, 0, 8], [1, 6, 7, 9, 3, 2, 0, 8], [1, 6, 7, 9, 3, 2, 4, 5, 0, 8], [1, 6, 7, 9, 3, 2, 5, 0, 8], [1, 6, 7, 9, 3, 4, 2, 0, 8], [1, 6, 7, 9, 3, 4, 2, 5, 0, 8], [1, 6, 7, 9, 3, 4, 5, 0, 8], [1, 6, 7, 9, 3, 4, 5, 2, 0, 8], [1, 6, 7, 9, 3, 5, 0, 8], [1, 6, 7, 9, 3, 5, 2, 0, 8], [1, 6, 7, 9, 3, 5, 4, 2, 0, 8], [1, 6, 7, 9, 8], [1, 6, 8], [1, 7, 2, 0, 5, 3, 4, 6, 8], [1, 7, 2, 0, 5, 3, 9, 8], [1, 7, 2, 0, 5, 4, 3, 9, 8], [1, 7, 2, 0, 5, 4, 6, 8], [1, 7, 2, 0, 5, 6, 4, 3, 9, 8], [1, 7, 2, 0, 5, 6, 8], [1, 7, 2, 0, 8], [1, 7, 2, 0, 9, 3, 4, 5, 6, 8], [1, 7, 2, 0, 9, 3, 4, 6, 8], [1, 7, 2, 0, 9, 3, 5, 4, 6, 8], [1, 7, 2, 0, 9, 3, 5, 6, 8], [1, 7, 2, 0, 9, 8], [1, 7, 2, 3, 4, 5, 0, 8], [1, 7, 2, 3, 4, 5, 0, 9, 8], [1, 7, 2, 3, 4, 5, 6, 8], [1, 7, 2, 3, 4, 6, 5, 0, 8], [1, 7, 2, 3, 4, 6, 5, 0, 9, 8], [1, 7, 2, 3, 4, 6, 8], [1, 7, 2, 3, 5, 0, 8], [1, 7, 2, 3, 5, 0, 9, 8], [1, 7, 2, 3, 5, 4, 6, 8], [1, 7, 2, 3, 5, 6, 8], [1, 7, 2, 3, 9, 0, 5, 4, 6, 8], [1, 7, 2, 3, 9, 0, 5, 6, 8], [1, 7, 2, 3, 9, 0, 8], [1, 7, 2, 3, 9, 8], [1, 7, 2, 4, 3, 5, 0, 8], [1, 7, 2, 4, 3, 5, 0, 9, 8], [1, 7, 2, 4, 3, 5, 6, 8], [1, 7, 2, 4, 3, 9, 0, 5, 6, 8], [1, 7, 2, 4, 3, 9, 0, 8], [1, 7, 2, 4, 3, 9, 8], [1, 7, 2, 4, 5, 0, 8], [1, 7, 2, 4, 5, 0, 9, 8], [1, 7, 2, 4, 5, 3, 9, 0, 8], [1, 7, 2, 4, 5, 3, 9, 8], [1, 7, 2, 4, 5, 6, 8], [1, 7, 2, 4, 6, 5, 0, 8], [1, 7, 2, 4, 6, 5, 0, 9, 8], [1, 7, 2, 4, 6, 5, 3, 9, 0, 8], [1, 7, 2, 4, 6, 5, 3, 9, 8], [1, 7, 2, 4, 6, 8], [1, 7, 2, 5, 0, 8], [1, 7, 2, 5, 0, 9, 3, 4, 6, 8], [1, 7, 2, 5, 0, 9, 8], [1, 7, 2, 5, 3, 4, 6, 8], [1, 7, 2, 5, 3, 9, 0, 8], [1, 7, 2, 5, 3, 9, 8], [1, 7, 2, 5, 4, 3, 9, 0, 8], [1, 7, 2, 5, 4, 3, 9, 8], [1, 7, 2, 5, 4, 6, 8], [1, 7, 2, 5, 6, 4, 3, 9, 0, 8], [1, 7, 2, 5, 6, 4, 3, 9, 8], [1, 7, 2, 5, 6, 8], [1, 7, 5, 0, 2, 3, 4, 6, 8], [1, 7, 5, 0, 2, 3, 9, 8], [1, 7, 5, 0, 2, 4, 3, 9, 8], [1, 7, 5, 0, 2, 4, 6, 8], [1, 7, 5, 0, 8], [1, 7, 5, 0, 9, 3, 2, 4, 6, 8], [1, 7, 5, 0, 9, 3, 4, 6, 8], [1, 7, 5, 0, 9, 8], [1, 7, 5, 2, 0, 8], [1, 7, 5, 2, 0, 9, 3, 4, 6, 8], [1, 7, 5, 2, 0, 9, 8], [1, 7, 5, 2, 3, 4, 6, 8], [1, 7, 5, 2, 3, 9, 0, 8], [1, 7, 5, 2, 3, 9, 8], [1, 7, 5, 2, 4, 3, 9, 0, 8], [1, 7, 5, 2, 4, 3, 9, 8], [1, 7, 5, 2, 4, 6, 8], [1, 7, 5, 3, 2, 0, 8], [1, 7, 5, 3, 2, 0, 9, 8], [1, 7, 5, 3, 2, 4, 6, 8], [1, 7, 5, 3, 4, 2, 0, 8], [1, 7, 5, 3, 4, 2, 0, 9, 8], [1, 7, 5, 3, 4, 6, 8], [1, 7, 5, 3, 9, 0, 2, 4, 6, 8], [1, 7, 5, 3, 9, 0, 8], [1, 7, 5, 3, 9, 8], [1, 7, 5, 4, 2, 0, 8], [1, 7, 5, 4, 2, 0, 9, 8], [1, 7, 5, 4, 2, 3, 9, 0, 8], [1, 7, 5, 4, 2, 3, 9, 8], [1, 7, 5, 4, 3, 2, 0, 8], [1, 7, 5, 4, 3, 2, 0, 9, 8], [1, 7, 5, 4, 3, 9, 0, 8], [1, 7, 5, 4, 3, 9, 8], [1, 7, 5, 4, 6, 8], [1, 7, 5, 6, 4, 2, 0, 8], [1, 7, 5, 6, 4, 2, 0, 9, 8], [1, 7, 5, 6, 4, 2, 3, 9, 0, 8], [1, 7, 5, 6, 4, 2, 3, 9, 8], [1, 7, 5, 6, 4, 3, 2, 0, 8], [1, 7, 5, 6, 4, 3, 2, 0, 9, 8], [1, 7, 5, 6, 4, 3, 9, 0, 8], [1, 7, 5, 6, 4, 3, 9, 8], [1, 7, 5, 6, 8], [1, 7, 6, 4, 2, 0, 5, 3, 9, 8], [1, 7, 6, 4, 2, 0, 8], [1, 7, 6, 4, 2, 0, 9, 8], [1, 7, 6, 4, 2, 3, 5, 0, 8], [1, 7, 6, 4, 2, 3, 5, 0, 9, 8], [1, 7, 6, 4, 2, 3, 9, 0, 8], [1, 7, 6, 4, 2, 3, 9, 8], [1, 7, 6, 4, 2, 5, 0, 8], [1, 7, 6, 4, 2, 5, 0, 9, 8], [1, 7, 6, 4, 2, 5, 3, 9, 0, 8], [1, 7, 6, 4, 2, 5, 3, 9, 8], [1, 7, 6, 4, 3, 2, 0, 8], [1, 7, 6, 4, 3, 2, 0, 9, 8], [1, 7, 6, 4, 3, 2, 5, 0, 8], [1, 7, 6, 4, 3, 2, 5, 0, 9, 8], [1, 7, 6, 4, 3, 5, 0, 8], [1, 7, 6, 4, 3, 5, 0, 9, 8], [1, 7, 6, 4, 3, 5, 2, 0, 8], [1, 7, 6, 4, 3, 5, 2, 0, 9, 8], [1, 7, 6, 4, 3, 9, 0, 8], [1, 7, 6, 4, 3, 9, 8], [1, 7, 6, 4, 5, 0, 2, 3, 9, 8], [1, 7, 6, 4, 5, 0, 8], [1, 7, 6, 4, 5, 0, 9, 8], [1, 7, 6, 4, 5, 2, 0, 8], [1, 7, 6, 4, 5, 2, 0, 9, 8], [1, 7, 6, 4, 5, 2, 3, 9, 0, 8], [1, 7, 6, 4, 5, 2, 3, 9, 8], [1, 7, 6, 4, 5, 3, 2, 0, 8], [1, 7, 6, 4, 5, 3, 2, 0, 9, 8], [1, 7, 6, 4, 5, 3, 9, 0, 8], [1, 7, 6, 4, 5, 3, 9, 8], [1, 7, 6, 5, 0, 2, 3, 9, 8], [1, 7, 6, 5, 0, 2, 4, 3, 9, 8], [1, 7, 6, 5, 0, 8], [1, 7, 6, 5, 0, 9, 8], [1, 7, 6, 5, 2, 0, 8], [1, 7, 6, 5, 2, 0, 9, 8], [1, 7, 6, 5, 2, 3, 9, 0, 8], [1, 7, 6, 5, 2, 3, 9, 8], [1, 7, 6, 5, 2, 4, 3, 9, 0, 8], [1, 7, 6, 5, 2, 4, 3, 9, 8], [1, 7, 6, 5, 3, 2, 0, 8], [1, 7, 6, 5, 3, 2, 0, 9, 8], [1, 7, 6, 5, 3, 4, 2, 0, 8], [1, 7, 6, 5, 3, 4, 2, 0, 9, 8], [1, 7, 6, 5, 3, 9, 0, 8], [1, 7, 6, 5, 3, 9, 8], [1, 7, 6, 5, 4, 2, 0, 8], [1, 7, 6, 5, 4, 2, 0, 9, 8], [1, 7, 6, 5, 4, 2, 3, 9, 0, 8], [1, 7, 6, 5, 4, 2, 3, 9, 8], [1, 7, 6, 5, 4, 3, 2, 0, 8], [1, 7, 6, 5, 4, 3, 2, 0, 9, 8], [1, 7, 6, 5, 4, 3, 9, 0, 8], [1, 7, 6, 5, 4, 3, 9, 8], [1, 7, 6, 8], [1, 7, 8], [1, 7, 9, 0, 2, 3, 4, 5, 6, 8], [1, 7, 9, 0, 2, 3, 4, 6, 8], [1, 7, 9, 0, 2, 3, 5, 4, 6, 8], [1, 7, 9, 0, 2, 3, 5, 6, 8], [1, 7, 9, 0, 2, 4, 3, 5, 6, 8], [1, 7, 9, 0, 2, 4, 5, 6, 8], [1, 7, 9, 0, 2, 4, 6, 8], [1, 7, 9, 0, 2, 5, 3, 4, 6, 8], [1, 7, 9, 0, 2, 5, 4, 6, 8], [1, 7, 9, 0, 2, 5, 6, 8], [1, 7, 9, 0, 5, 2, 3, 4, 6, 8], [1, 7, 9, 0, 5, 2, 4, 6, 8], [1, 7, 9, 0, 5, 3, 2, 4, 6, 8], [1, 7, 9, 0, 5, 3, 4, 6, 8], [1, 7, 9, 0, 5, 4, 6, 8], [1, 7, 9, 0, 5, 6, 8], [1, 7, 9, 0, 8], [1, 7, 9, 3, 2, 0, 5, 4, 6, 8], [1, 7, 9, 3, 2, 0, 5, 6, 8], [1, 7, 9, 3, 2, 0, 8], [1, 7, 9, 3, 2, 4, 5, 0, 8], [1, 7, 9, 3, 2, 4, 5, 6, 8], [1, 7, 9, 3, 2, 4, 6, 5, 0, 8], [1, 7, 9, 3, 2, 4, 6, 8], [1, 7, 9, 3, 2, 5, 0, 8], [1, 7, 9, 3, 2, 5, 4, 6, 8], [1, 7, 9, 3, 2, 5, 6, 8], [1, 7, 9, 3, 4, 2, 0, 5, 6, 8], [1, 7, 9, 3, 4, 2, 0, 8], [1, 7, 9, 3, 4, 2, 5, 0, 8], [1, 7, 9, 3, 4, 2, 5, 6, 8], [1, 7, 9, 3, 4, 5, 0, 8], [1, 7, 9, 3, 4, 5, 2, 0, 8], [1, 7, 9, 3, 4, 5, 6, 8], [1, 7, 9, 3, 4, 6, 5, 0, 8], [1, 7, 9, 3, 4, 6, 5, 2, 0, 8], [1, 7, 9, 3, 4, 6, 8], [1, 7, 9, 3, 5, 0, 2, 4, 6, 8], [1, 7, 9, 3, 5, 0, 8], [1, 7, 9, 3, 5, 2, 0, 8], [1, 7, 9, 3, 5, 2, 4, 6, 8], [1, 7, 9, 3, 5, 4, 2, 0, 8], [1, 7, 9, 3, 5, 4, 6, 8], [1, 7, 9, 3, 5, 6, 4, 2, 0, 8], [1, 7, 9, 3, 5, 6, 8], [1, 7, 9, 8], [1, 9, 0, 2, 3, 4, 5, 6, 7, 8], [1, 9, 0, 2, 3, 4, 5, 6, 8], [1, 9, 0, 2, 3, 4, 5, 7, 6, 8], [1, 9, 0, 2, 3, 4, 5, 7, 8], [1, 9, 0, 2, 3, 4, 6, 5, 7, 8], [1, 9, 0, 2, 3, 4, 6, 7, 8], [1, 9, 0, 2, 3, 4, 6, 8], [1, 9, 0, 2, 3, 5, 4, 6, 7, 8], [1, 9, 0, 2, 3, 5, 4, 6, 8], [1, 9, 0, 2, 3, 5, 6, 7, 8], [1, 9, 0, 2, 3, 5, 6, 8], [1, 9, 0, 2, 3, 5, 7, 6, 8], [1, 9, 0, 2, 3, 5, 7, 8], [1, 9, 0, 2, 4, 3, 5, 6, 7, 8], [1, 9, 0, 2, 4, 3, 5, 6, 8], [1, 9, 0, 2, 4, 3, 5, 7, 6, 8], [1, 9, 0, 2, 4, 3, 5, 7, 8], [1, 9, 0, 2, 4, 5, 6, 7, 8], [1, 9, 0, 2, 4, 5, 6, 8], [1, 9, 0, 2, 4, 5, 7, 6, 8], [1, 9, 0, 2, 4, 5, 7, 8], [1, 9, 0, 2, 4, 6, 5, 7, 8], [1, 9, 0, 2, 4, 6, 7, 8], [1, 9, 0, 2, 4, 6, 8], [1, 9, 0, 2, 5, 3, 4, 6, 7, 8], [1, 9, 0, 2, 5, 3, 4, 6, 8], [1, 9, 0, 2, 5, 4, 6, 7, 8], [1, 9, 0, 2, 5, 4, 6, 8], [1, 9, 0, 2, 5, 6, 7, 8], [1, 9, 0, 2, 5, 6, 8], [1, 9, 0, 2, 5, 7, 6, 8], [1, 9, 0, 2, 5, 7, 8], [1, 9, 0, 2, 7, 5, 3, 4, 6, 8], [1, 9, 0, 2, 7, 5, 4, 6, 8], [1, 9, 0, 2, 7, 5, 6, 8], [1, 9, 0, 2, 7, 6, 8], [1, 9, 0, 2, 7, 8], [1, 9, 0, 5, 2, 3, 4, 6, 7, 8], [1, 9, 0, 5, 2, 3, 4, 6, 8], [1, 9, 0, 5, 2, 4, 6, 7, 8], [1, 9, 0, 5, 2, 4, 6, 8], [1, 9, 0, 5, 2, 7, 6, 8], [1, 9, 0, 5, 2, 7, 8], [1, 9, 0, 5, 3, 2, 4, 6, 7, 8], [1, 9, 0, 5, 3, 2, 4, 6, 8], [1, 9, 0, 5, 3, 2, 7, 6, 8], [1, 9, 0, 5, 3, 2, 7, 8], [1, 9, 0, 5, 3, 4, 2, 7, 6, 8], [1, 9, 0, 5, 3, 4, 2, 7, 8], [1, 9, 0, 5, 3, 4, 6, 7, 8], [1, 9, 0, 5, 3, 4, 6, 8], [1, 9, 0, 5, 4, 2, 7, 6, 8], [1, 9, 0, 5, 4, 2, 7, 8], [1, 9, 0, 5, 4, 3, 2, 7, 6, 8], [1, 9, 0, 5, 4, 3, 2, 7, 8], [1, 9, 0, 5, 4, 6, 7, 8], [1, 9, 0, 5, 4, 6, 8], [1, 9, 0, 5, 6, 4, 2, 7, 8], [1, 9, 0, 5, 6, 4, 3, 2, 7, 8], [1, 9, 0, 5, 6, 7, 8], [1, 9, 0, 5, 6, 8], [1, 9, 0, 5, 7, 2, 3, 4, 6, 8], [1, 9, 0, 5, 7, 2, 4, 6, 8], [1, 9, 0, 5, 7, 6, 8], [1, 9, 0, 5, 7, 8], [1, 9, 0, 8], [1, 9, 3, 2, 0, 5, 4, 6, 7, 8], [1, 9, 3, 2, 0, 5, 4, 6, 8], [1, 9, 3, 2, 0, 5, 6, 7, 8], [1, 9, 3, 2, 0, 5, 6, 8], [1, 9, 3, 2, 0, 5, 7, 6, 8], [1, 9, 3, 2, 0, 5, 7, 8], [1, 9, 3, 2, 0, 8], [1, 9, 3, 2, 4, 5, 0, 8], [1, 9, 3, 2, 4, 5, 6, 7, 8], [1, 9, 3, 2, 4, 5, 6, 8], [1, 9, 3, 2, 4, 5, 7, 6, 8], [1, 9, 3, 2, 4, 5, 7, 8], [1, 9, 3, 2, 4, 6, 5, 0, 8], [1, 9, 3, 2, 4, 6, 5, 7, 8], [1, 9, 3, 2, 4, 6, 7, 5, 0, 8], [1, 9, 3, 2, 4, 6, 7, 8], [1, 9, 3, 2, 4, 6, 8], [1, 9, 3, 2, 5, 0, 8], [1, 9, 3, 2, 5, 4, 6, 7, 8], [1, 9, 3, 2, 5, 4, 6, 8], [1, 9, 3, 2, 5, 6, 7, 8], [1, 9, 3, 2, 5, 6, 8], [1, 9, 3, 2, 5, 7, 6, 8], [1, 9, 3, 2, 5, 7, 8], [1, 9, 3, 2, 7, 5, 0, 8], [1, 9, 3, 2, 7, 5, 4, 6, 8], [1, 9, 3, 2, 7, 5, 6, 8], [1, 9, 3, 2, 7, 6, 4, 5, 0, 8], [1, 9, 3, 2, 7, 6, 5, 0, 8], [1, 9, 3, 2, 7, 6, 8], [1, 9, 3, 2, 7, 8], [1, 9, 3, 4, 2, 0, 5, 6, 7, 8], [1, 9, 3, 4, 2, 0, 5, 6, 8], [1, 9, 3, 4, 2, 0, 5, 7, 6, 8], [1, 9, 3, 4, 2, 0, 5, 7, 8], [1, 9, 3, 4, 2, 0, 8], [1, 9, 3, 4, 2, 5, 0, 8], [1, 9, 3, 4, 2, 5, 6, 7, 8], [1, 9, 3, 4, 2, 5, 6, 8], [1, 9, 3, 4, 2, 5, 7, 6, 8], [1, 9, 3, 4, 2, 5, 7, 8], [1, 9, 3, 4, 2, 7, 5, 0, 8], [1, 9, 3, 4, 2, 7, 5, 6, 8], [1, 9, 3, 4, 2, 7, 6, 5, 0, 8], [1, 9, 3, 4, 2, 7, 6, 8], [1, 9, 3, 4, 2, 7, 8], [1, 9, 3, 4, 5, 0, 2, 7, 6, 8], [1, 9, 3, 4, 5, 0, 2, 7, 8], [1, 9, 3, 4, 5, 0, 8], [1, 9, 3, 4, 5, 2, 0, 8], [1, 9, 3, 4, 5, 2, 7, 6, 8], [1, 9, 3, 4, 5, 2, 7, 8], [1, 9, 3, 4, 5, 6, 7, 2, 0, 8], [1, 9, 3, 4, 5, 6, 7, 8], [1, 9, 3, 4, 5, 6, 8], [1, 9, 3, 4, 5, 7, 2, 0, 8], [1, 9, 3, 4, 5, 7, 6, 8], [1, 9, 3, 4, 5, 7, 8], [1, 9, 3, 4, 6, 5, 0, 2, 7, 8], [1, 9, 3, 4, 6, 5, 0, 8], [1, 9, 3, 4, 6, 5, 2, 0, 8], [1, 9, 3, 4, 6, 5, 2, 7, 8], [1, 9, 3, 4, 6, 5, 7, 2, 0, 8], [1, 9, 3, 4, 6, 5, 7, 8], [1, 9, 3, 4, 6, 7, 2, 0, 8], [1, 9, 3, 4, 6, 7, 2, 5, 0, 8], [1, 9, 3, 4, 6, 7, 5, 0, 8], [1, 9, 3, 4, 6, 7, 5, 2, 0, 8], [1, 9, 3, 4, 6, 7, 8], [1, 9, 3, 4, 6, 8], [1, 9, 3, 5, 0, 2, 4, 6, 7, 8], [1, 9, 3, 5, 0, 2, 4, 6, 8], [1, 9, 3, 5, 0, 2, 7, 6, 8], [1, 9, 3, 5, 0, 2, 7, 8], [1, 9, 3, 5, 0, 8], [1, 9, 3, 5, 2, 0, 8], [1, 9, 3, 5, 2, 4, 6, 7, 8], [1, 9, 3, 5, 2, 4, 6, 8], [1, 9, 3, 5, 2, 7, 6, 8], [1, 9, 3, 5, 2, 7, 8], [1, 9, 3, 5, 4, 2, 0, 8], [1, 9, 3, 5, 4, 2, 7, 6, 8], [1, 9, 3, 5, 4, 2, 7, 8], [1, 9, 3, 5, 4, 6, 7, 2, 0, 8], [1, 9, 3, 5, 4, 6, 7, 8], [1, 9, 3, 5, 4, 6, 8], [1, 9, 3, 5, 6, 4, 2, 0, 8], [1, 9, 3, 5, 6, 4, 2, 7, 8], [1, 9, 3, 5, 6, 7, 2, 0, 8], [1, 9, 3, 5, 6, 7, 8], [1, 9, 3, 5, 6, 8], [1, 9, 3, 5, 7, 2, 0, 8], [1, 9, 3, 5, 7, 2, 4, 6, 8], [1, 9, 3, 5, 7, 6, 4, 2, 0, 8], [1, 9, 3, 5, 7, 6, 8], [1, 9, 3, 5, 7, 8], [1, 9, 7, 2, 0, 5, 3, 4, 6, 8], [1, 9, 7, 2, 0, 5, 4, 6, 8], [1, 9, 7, 2, 0, 5, 6, 8], [1, 9, 7, 2, 0, 8], [1, 9, 7, 2, 3, 4, 5, 0, 8], [1, 9, 7, 2, 3, 4, 5, 6, 8], [1, 9, 7, 2, 3, 4, 6, 5, 0, 8], [1, 9, 7, 2, 3, 4, 6, 8], [1, 9, 7, 2, 3, 5, 0, 8], [1, 9, 7, 2, 3, 5, 4, 6, 8], [1, 9, 7, 2, 3, 5, 6, 8], [1, 9, 7, 2, 4, 3, 5, 0, 8], [1, 9, 7, 2, 4, 3, 5, 6, 8], [1, 9, 7, 2, 4, 5, 0, 8], [1, 9, 7, 2, 4, 5, 6, 8], [1, 9, 7, 2, 4, 6, 5, 0, 8], [1, 9, 7, 2, 4, 6, 8], [1, 9, 7, 2, 5, 0, 8], [1, 9, 7, 2, 5, 3, 4, 6, 8], [1, 9, 7, 2, 5, 4, 6, 8], [1, 9, 7, 2, 5, 6, 8], [1, 9, 7, 5, 0, 2, 3, 4, 6, 8], [1, 9, 7, 5, 0, 2, 4, 6, 8], [1, 9, 7, 5, 0, 8], [1, 9, 7, 5, 2, 0, 8], [1, 9, 7, 5, 2, 3, 4, 6, 8], [1, 9, 7, 5, 2, 4, 6, 8], [1, 9, 7, 5, 3, 2, 0, 8], [1, 9, 7, 5, 3, 2, 4, 6, 8], [1, 9, 7, 5, 3, 4, 2, 0, 8], [1, 9, 7, 5, 3, 4, 6, 8], [1, 9, 7, 5, 4, 2, 0, 8], [1, 9, 7, 5, 4, 3, 2, 0, 8], [1, 9, 7, 5, 4, 6, 8], [1, 9, 7, 5, 6, 4, 2, 0, 8], [1, 9, 7, 5, 6, 4, 3, 2, 0, 8], [1, 9, 7, 5, 6, 8], [1, 9, 7, 6, 4, 2, 0, 8], [1, 9, 7, 6, 4, 2, 3, 5, 0, 8], [1, 9, 7, 6, 4, 2, 5, 0, 8], [1, 9, 7, 6, 4, 3, 2, 0, 8], [1, 9, 7, 6, 4, 3, 2, 5, 0, 8], [1, 9, 7, 6, 4, 3, 5, 0, 8], [1, 9, 7, 6, 4, 3, 5, 2, 0, 8], [1, 9, 7, 6, 4, 5, 0, 8], [1, 9, 7, 6, 4, 5, 2, 0, 8], [1, 9, 7, 6, 4, 5, 3, 2, 0, 8], [1, 9, 7, 6, 5, 0, 8], [1, 9, 7, 6, 5, 2, 0, 8], [1, 9, 7, 6, 5, 3, 2, 0, 8], [1, 9, 7, 6, 5, 3, 4, 2, 0, 8], [1, 9, 7, 6, 5, 4, 2, 0, 8], [1, 9, 7, 6, 5, 4, 3, 2, 0, 8], [1, 9, 7, 6, 8], [1, 9, 7, 8], [1, 9, 8]]\n"
     ]
    }
   ],
   "source": [
    "spaths = nx.all_simple_paths(DiG, 1, )\n",
    "print(list(spaths))"
   ]
  },
  {
   "cell_type": "code",
   "execution_count": 25,
   "metadata": {},
   "outputs": [
    {
     "name": "stdout",
     "output_type": "stream",
     "text": [
      "[1, 2, 3, 4, 6]\n",
      "[1, 0, 8, 7, 6]\n",
      "[[[1, 2, 1], [2, 3, 1], [3, 4, 1], [4, 6, 1]], [[1, 0, 1], [0, 8, 1], [8, 7, 1], [7, 6, 1]]]\n"
     ]
    }
   ],
   "source": [
    "swg_pth = path_gen([[1,2,3,4,6], \n",
    "                    [1,0,8,7,6]])\n",
    "print(swg_pth)"
   ]
  },
  {
   "cell_type": "code",
   "execution_count": 82,
   "metadata": {},
   "outputs": [
    {
     "name": "stdout",
     "output_type": "stream",
     "text": [
      "[[4, 2, 0, 3], [4, 2, 0, 6, 3], [4, 2, 3], [4, 2, 5, 3], [4, 2, 7, 0, 3], [4, 2, 7, 0, 6, 3], [4, 2, 8, 3], [4, 2, 9, 3], [4, 3]]\n"
     ]
    }
   ],
   "source": [
    "spaths = nx.all_simple_paths(sfg, 4, 3)\n",
    "print(list(spaths))"
   ]
  },
  {
   "cell_type": "code",
   "execution_count": 83,
   "metadata": {},
   "outputs": [
    {
     "name": "stdout",
     "output_type": "stream",
     "text": [
      "[5, 3, 0, 7, 2]\n",
      "[4, 2, 0, 6, 3]\n",
      "[7, 3, 1, 2, 9]\n",
      "[[[5, 3, 11], [3, 0, 11], [0, 7, 10], [7, 2, 6]], [[4, 2, 13], [2, 0, 12], [0, 6, 12], [6, 3, 13]], [[7, 3, 9], [3, 1, 9], [1, 2, 9], [2, 9, 13]]]\n"
     ]
    }
   ],
   "source": [
    "sfg_pth = path_gen([[5, 3, 0, 7, 2],                     \n",
    "                    [4, 2, 0, 6, 3],                     \n",
    "                    [7, 3, 1, 2, 9]])\n",
    "print(sfg_pth)"
   ]
  },
  {
   "cell_type": "code",
   "execution_count": 11,
   "metadata": {},
   "outputs": [
    {
     "name": "stdout",
     "output_type": "stream",
     "text": [
      "[1, 2, 3, 4, 6]\n",
      "[1, 0, 8, 7, 6]\n",
      "[[[1, 2, 1], [2, 3, 1], [3, 4, 1], [4, 6, 1]], [[1, 0, 1], [0, 8, 1], [8, 7, 1], [7, 6, 1]]]\n"
     ]
    }
   ],
   "source": [
    "npg_pth = path_gen([[1,2,3,4,6], \n",
    "                    [1,0,8,7,6]])\n",
    "print(npg_pth)"
   ]
  },
  {
   "cell_type": "code",
   "execution_count": 24,
   "metadata": {},
   "outputs": [
    {
     "name": "stdout",
     "output_type": "stream",
     "text": [
      "Edges:\n",
      " [[0, 1], [0, 2], [0, 5], [0, 8], [0, 9], [1, 0], [1, 2], [1, 3], [1, 4], [1, 6], [1, 7], [1, 9], [2, 0], [2, 1], [2, 3], [2, 4], [2, 5], [2, 7], [3, 1], [3, 2], [3, 4], [3, 5], [3, 9], [4, 1], [4, 2], [4, 3], [4, 5], [4, 6], [5, 0], [5, 2], [5, 3], [5, 4], [5, 6], [5, 7], [6, 1], [6, 4], [6, 5], [6, 7], [6, 8], [7, 1], [7, 2], [7, 5], [7, 6], [7, 8], [7, 9], [8, 0], [8, 6], [8, 7], [8, 9], [9, 0], [9, 1], [9, 3], [9, 7], [9, 8]]\n",
      "Paths:\n",
      " [[0. 0. 0. 1. 0. 1. 0. 0. 0. 0. 0. 0. 0. 0. 0. 0. 0. 0. 0. 0. 0. 0. 0. 0.\n",
      "  0. 0. 0. 0. 0. 0. 0. 0. 0. 0. 0. 0. 0. 0. 0. 0. 0. 0. 1. 0. 0. 0. 0. 1.\n",
      "  0. 0. 0. 0. 0. 0.]]\n"
     ]
    }
   ],
   "source": [
    "flows, noiseless_flows, edge_adj, paths = flow_gen(G, npg_pth[1:2], 2000, Range=50)"
   ]
  },
  {
   "cell_type": "code",
   "execution_count": 17,
   "metadata": {},
   "outputs": [
    {
     "name": "stdout",
     "output_type": "stream",
     "text": [
      "[[ 0.          0.          0.          0.          0.          0.\n",
      "  48.98215367  0.          0.          0.          0.          0.\n",
      "   0.          0.         48.98215367  0.          0.          0.\n",
      "   0.          0.         48.98215367  0.          0.          0.\n",
      "   0.          0.          0.         48.98215367  0.          0.\n",
      "   0.          0.          0.          0.          0.          0.\n",
      "   0.          0.          0.          0.          0.          0.\n",
      "   0.          0.          0.          0.          0.          0.\n",
      "   0.          0.          0.          0.          0.          0.        ]]\n",
      "[-0.04138047  0.79397683 -0.31113572 -0.07273145 -0.51344208  0.68264437\n",
      " -1.24871271 -1.40819241 -0.91346542  1.89010849  0.01701088 -0.31870556\n",
      " -0.4501386   0.73241855  0.84904485  0.18604879  0.66139357 -1.24983724\n",
      "  0.16997968 -0.20099899 -2.16271488  0.78062504  0.01608277 -0.44386052\n",
      " -0.27102818 -0.65553267  0.32632164 -1.76728138  0.31009866  0.03352437\n",
      " -0.94869533  0.20438738 -0.25354078  0.25263973 -0.08325891  1.36663916\n",
      " -0.77263819  1.38374749  0.89641587  0.20296798  0.82179389 -2.48365948\n",
      "  1.14815562 -1.7480554   1.32108694  0.63271088 -1.11185472  1.22230731\n",
      "  0.30464441 -0.46214349 -0.54342796  0.05966065  0.17382157  0.13203049]\n"
     ]
    }
   ],
   "source": [
    "print(noiseless_flows[0:1])\n",
    "print(flows[0] - noiseless_flows[0])"
   ]
  },
  {
   "cell_type": "code",
   "execution_count": 25,
   "metadata": {},
   "outputs": [],
   "source": [
    "np.save('flows.npy', flows)\n",
    "np.save('noiseless_flows.npy', noiseless_flows)\n",
    "np.save('adj.npy', edge_adj)\n",
    "np.save('paths.npy', paths)\n",
    "np.save('graph.npy', G)"
   ]
  },
  {
   "cell_type": "code",
   "execution_count": 16,
   "metadata": {},
   "outputs": [
    {
     "name": "stdout",
     "output_type": "stream",
     "text": [
      "[ 0.          0.          0.          0.          0.          0.\n",
      " 48.98215367  0.          0.          0.          0.          0.\n",
      "  0.          0.         48.98215367  0.          0.          0.\n",
      "  0.          0.         48.98215367  0.          0.          0.\n",
      "  0.          0.          0.         48.98215367  0.          0.\n",
      "  0.          0.          0.          0.          0.          0.\n",
      "  0.          0.          0.          0.          0.          0.\n",
      "  0.          0.          0.          0.          0.          0.\n",
      "  0.          0.          0.          0.          0.          0.        ]\n"
     ]
    }
   ],
   "source": [
    "print(noiseless_flows[0])"
   ]
  }
 ],
 "metadata": {
  "kernelspec": {
   "display_name": "Python 3",
   "language": "python",
   "name": "python3"
  },
  "language_info": {
   "codemirror_mode": {
    "name": "ipython",
    "version": 3
   },
   "file_extension": ".py",
   "mimetype": "text/x-python",
   "name": "python",
   "nbconvert_exporter": "python",
   "pygments_lexer": "ipython3",
   "version": "3.8.2"
  }
 },
 "nbformat": 4,
 "nbformat_minor": 4
}
