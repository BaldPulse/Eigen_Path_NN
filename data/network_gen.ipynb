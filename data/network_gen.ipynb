{
 "cells": [
  {
   "cell_type": "code",
   "execution_count": 1,
   "metadata": {},
   "outputs": [],
   "source": [
    "import numpy as np\n",
    "import networkx as nx\n",
    "import networkx.generators.random_graphs as nxrg"
   ]
  },
  {
   "cell_type": "code",
   "execution_count": 2,
   "metadata": {},
   "outputs": [],
   "source": [
    "def adjacency_gen(nnodes, undirected = False):\n",
    "    adj = np.random.randint(2, size = (nnodes, nnodes), dtype = int)\n",
    "    for i in range(nnodes):\n",
    "        adj[i,i] = 0\n",
    "    if(undirected):\n",
    "        for i in range(nnodes):\n",
    "            for j in range(i):\n",
    "                adj[i,j] = adj[j,i]\n",
    "    return adj"
   ]
  },
  {
   "cell_type": "code",
   "execution_count": 3,
   "metadata": {},
   "outputs": [],
   "source": [
    "def flow_gen(adj, paths, nsample, Range=10, zero_centered=False, backflow = False, processed_paths = False, noise_level=0.2):\n",
    "    '''\n",
    "    generates flow samples based on eigenpaths with gaussian noise\n",
    "    input:\n",
    "    adj: adjacency matrix of graph, rows represent staring nodes, columns representing destination nodes\n",
    "    paths: eigenpaths of a fixed length, \n",
    "        must be in the format [s1, d1, w1], [s2=d1, d2, w2], ... [sl=d(l-1), dl, wl]\n",
    "        where s is the starting node of the edge, d is the ending node of the edge\n",
    "        and w is the weight of each edge in the path\n",
    "    nsample: number of samples generated\n",
    "    backflow: allow edge adjacency matrix to have backflow, making it symetric\n",
    "    noise: add gaussian noise or not\n",
    "    \n",
    "    output:\n",
    "    sample: nsample * nedges np array\n",
    "    edge_adj: edge adjacency matrix\n",
    "    '''\n",
    "    nEdges = 0\n",
    "    #encode adjacency matrix into edge vector\n",
    "    Edges = []\n",
    "    for start in range(adj.shape[0]):\n",
    "        for dest in range(adj.shape[0]):\n",
    "            if(adj[start, dest] == 1):\n",
    "                nEdges += 1\n",
    "                Edges.append([start, dest])\n",
    "    \n",
    "    Paths = np.zeros((len(paths), nEdges), dtype = float)\n",
    "    if processed_paths == False:\n",
    "        for p in paths:\n",
    "            prev_end = None\n",
    "            for e in p:\n",
    "                assert adj[e[0], e[1]] == 1 #all paths must exist\n",
    "                assert prev_end is None or e[0] == prev_end #all paths must be valid\n",
    "                prev_end = e[1]\n",
    "\n",
    "        for p in range(len(paths)):\n",
    "            for e in range(len(paths[0])):\n",
    "                Paths[p, Edges.index(paths[p][e][0:2])] = paths[p][e][2]\n",
    "    else:\n",
    "        Paths = paths\n",
    "    \n",
    "    print(\"Edges:\\n\", Edges)\n",
    "    print(\"Paths:\\n\", Paths)\n",
    "    \n",
    "    sample = np.zeros((nsample, nEdges), dtype = float)\n",
    "    noiseless_sample = np.zeros((nsample, nEdges), dtype = float)\n",
    "    for i in range(nsample):\n",
    "        w = np.random.rand(len(paths))*Range #random weight for each path\n",
    "        if zero_centered == True:\n",
    "            w = w - Range/2\n",
    "        sample[i,:] += w@Paths + Range * noise_level*np.random.randn(nEdges)\n",
    "        noiseless_sample[i,:] += w@Paths\n",
    "        \n",
    "    #transform adjacency matrix into edge adjacecny matrix\n",
    "    edge_adj = np.zeros((nEdges, nEdges), dtype = int)\n",
    "    for e in range(nEdges):\n",
    "        for i in range(adj.shape[0]):\n",
    "            if(adj[Edges[e][1], i] == 1):\n",
    "                edge_adj[e, Edges.index([Edges[e][1], i])] = 1\n",
    "    \n",
    "    if(backflow == True):\n",
    "        for i in range(nEdges):\n",
    "            for j in range(i):\n",
    "                if(edge_adj[i.j] == 1 or edge_adj[j,i] == 1):\n",
    "                    edge_adj[i,j] = 1 \n",
    "                    edge_adj[j,i] = 1\n",
    "    \n",
    "    return sample, noiseless_sample, edge_adj, Paths"
   ]
  },
  {
   "cell_type": "code",
   "execution_count": 4,
   "metadata": {},
   "outputs": [],
   "source": [
    "def path_gen(paths, weighted = False):\n",
    "    results = []\n",
    "    for pth in paths:\n",
    "        print(pth)\n",
    "        w_pth = []\n",
    "        if weighted:\n",
    "            weights = np.random.uniform(low = 5.0, high = 15.0, size = (len(pth)-1, ))\n",
    "            for i in range(len(pth) - 1):\n",
    "                w_pth.append([pth[i], pth[i+1], int(weights[i]) ])\n",
    "        else:\n",
    "            for i in range(len(pth) - 1):\n",
    "                w_pth.append([pth[i], pth[i+1], 1 ])\n",
    "            \n",
    "        results.append(w_pth)\n",
    "    return results"
   ]
  },
  {
   "cell_type": "code",
   "execution_count": 13,
   "metadata": {
    "collapsed": true
   },
   "outputs": [
    {
     "name": "stdout",
     "output_type": "stream",
     "text": [
      "[[0 1 1 0 1 1 1 1 0 0]\n",
      " [0 0 0 1 0 1 0 1 0 1]\n",
      " [1 0 0 0 1 0 0 1 0 0]\n",
      " [0 0 0 0 0 1 1 1 0 0]\n",
      " [1 1 0 0 0 0 0 0 0 0]\n",
      " [1 0 1 0 1 0 1 0 0 1]\n",
      " [0 0 1 0 1 0 0 0 1 1]\n",
      " [1 1 0 0 1 1 0 0 1 1]\n",
      " [0 1 1 0 1 1 0 1 0 1]\n",
      " [0 1 0 0 0 1 0 0 0 0]]\n"
     ]
    }
   ],
   "source": [
    "G = adjacency_gen(10, undirected = False)\n",
    "print(G)"
   ]
  },
  {
   "cell_type": "code",
   "execution_count": 52,
   "metadata": {
    "collapsed": true
   },
   "outputs": [
    {
     "name": "stdout",
     "output_type": "stream",
     "text": [
      "[[0 0 0 0 0 1 1 0 0 0 1 1 1 0 1 0 0 0 0 1 0 0 1 1 0 1 0 0 0 0]\n",
      " [0 0 0 1 0 0 1 0 0 0 0 0 0 0 0 0 0 0 0 0 0 0 0 0 0 0 1 1 1 0]\n",
      " [0 0 0 0 0 1 0 1 0 1 1 0 0 0 0 0 1 1 0 0 0 0 0 1 0 1 0 1 0 0]\n",
      " [0 1 0 0 0 1 1 0 0 0 0 0 1 0 0 0 0 0 0 1 0 1 1 1 0 0 0 1 0 0]\n",
      " [0 0 0 0 0 0 1 0 0 1 1 1 1 0 1 0 1 1 0 0 0 0 0 0 0 0 0 1 1 1]\n",
      " [1 0 1 1 0 0 0 0 1 0 0 0 1 0 1 0 0 0 0 1 0 1 1 0 0 0 0 1 0 0]\n",
      " [1 1 0 1 1 0 0 1 1 0 0 1 0 0 1 0 0 0 0 0 1 0 1 1 0 1 1 1 1 0]\n",
      " [0 0 1 0 0 0 1 0 1 1 1 0 1 0 0 0 0 0 0 1 0 0 0 0 0 1 0 0 0 0]\n",
      " [0 0 0 0 0 1 1 1 0 0 0 1 1 0 0 1 0 0 0 1 1 1 0 0 1 0 0 0 0 0]\n",
      " [0 0 1 0 1 0 0 1 0 0 0 1 0 0 1 0 0 0 0 1 1 0 1 1 1 0 1 0 1 0]\n",
      " [1 0 1 0 1 0 0 1 0 0 0 0 0 1 0 1 0 0 1 1 0 1 1 1 0 0 1 0 0 1]\n",
      " [1 0 0 0 1 0 1 0 1 1 0 0 0 0 0 0 1 0 0 0 0 1 1 0 1 0 0 0 0 0]\n",
      " [1 0 0 1 1 1 0 1 1 0 0 0 0 0 0 0 0 0 1 1 1 0 1 0 0 0 0 0 1 1]\n",
      " [0 0 0 0 0 0 0 0 0 0 1 0 0 0 0 1 1 1 1 0 0 1 0 0 0 1 1 0 0 1]\n",
      " [1 0 0 0 1 1 1 0 0 1 0 0 0 0 0 0 0 0 0 1 1 0 0 0 0 0 0 0 0 1]\n",
      " [0 0 0 0 0 0 0 0 1 0 1 0 0 1 0 0 0 1 0 1 0 1 0 1 0 0 0 0 0 1]\n",
      " [0 0 1 0 1 0 0 0 0 0 0 1 0 1 0 0 0 0 1 0 0 1 1 0 1 1 1 1 1 1]\n",
      " [0 0 1 0 1 0 0 0 0 0 0 0 0 1 0 1 0 0 0 1 1 0 0 0 0 0 1 1 0 0]\n",
      " [0 0 0 0 0 0 0 0 0 0 1 0 1 1 0 0 1 0 0 0 0 0 0 1 0 0 0 0 0 0]\n",
      " [1 0 0 1 0 1 0 1 1 1 1 0 1 0 1 1 0 1 0 0 0 0 1 0 1 0 1 1 1 1]\n",
      " [0 0 0 0 0 0 1 0 1 1 0 0 1 0 1 0 0 1 0 0 0 0 0 1 1 0 1 1 1 1]\n",
      " [0 0 0 1 0 1 0 0 1 0 1 1 0 1 0 1 1 0 0 0 0 0 1 0 0 0 1 0 0 0]\n",
      " [1 0 0 1 0 1 1 0 0 1 1 1 1 0 0 0 1 0 0 1 0 1 0 0 1 1 0 0 0 0]\n",
      " [1 0 1 1 0 0 1 0 0 1 1 0 0 0 0 1 0 0 1 0 1 0 0 0 1 0 0 0 0 0]\n",
      " [0 0 0 0 0 0 0 0 1 1 0 1 0 0 0 0 1 0 0 1 1 0 1 1 0 1 0 1 0 0]\n",
      " [1 0 1 0 0 0 1 1 0 0 0 0 0 1 0 0 1 0 0 0 0 0 1 0 1 0 0 0 1 0]\n",
      " [0 1 0 0 0 0 1 0 0 1 1 0 0 1 0 0 1 1 0 1 1 1 0 0 0 0 0 0 0 1]\n",
      " [0 1 1 1 1 1 1 0 0 0 0 0 0 0 0 0 1 1 0 1 1 0 0 0 1 0 0 0 0 1]\n",
      " [0 1 0 0 1 0 1 0 0 1 0 0 1 0 0 0 1 0 0 1 1 0 0 0 0 1 0 0 0 1]\n",
      " [0 0 0 0 1 0 0 0 0 0 1 0 1 1 1 1 1 0 0 1 1 0 0 0 0 0 1 1 1 0]]\n"
     ]
    }
   ],
   "source": [
    "gnp = nxrg.fast_gnp_random_graph(30, 0.3, seed=None, directed=False)\n",
    "gnp_G = nx.adjacency_matrix(gnp).toarray()\n",
    "print(gnp_G)"
   ]
  },
  {
   "cell_type": "code",
   "execution_count": 47,
   "metadata": {
    "collapsed": true
   },
   "outputs": [
    {
     "name": "stdout",
     "output_type": "stream",
     "text": [
      "[[0 1 1 0 0 1 0 0 1 1]\n",
      " [1 0 1 1 1 0 0 0 0 1]\n",
      " [1 1 0 1 1 0 0 0 0 0]\n",
      " [0 1 1 0 1 1 0 1 0 0]\n",
      " [0 1 1 1 0 1 1 1 1 0]\n",
      " [1 0 0 1 1 0 1 1 1 0]\n",
      " [0 0 0 0 1 1 0 1 1 1]\n",
      " [0 0 0 1 1 1 1 0 1 1]\n",
      " [1 0 0 0 1 1 1 1 0 1]\n",
      " [1 1 0 0 0 0 1 1 1 0]]\n"
     ]
    }
   ],
   "source": [
    "swg = nxrg.newman_watts_strogatz_graph(10, 4, 0.3)\n",
    "swg_G = nx.adjacency_matrix(swg).toarray()\n",
    "print(swg_G)"
   ]
  },
  {
   "cell_type": "code",
   "execution_count": 8,
   "metadata": {},
   "outputs": [
    {
     "name": "stdout",
     "output_type": "stream",
     "text": [
      "[[0 0 1 ... 0 0 0]\n",
      " [0 0 1 ... 0 0 0]\n",
      " [1 1 0 ... 0 0 0]\n",
      " ...\n",
      " [0 0 0 ... 0 0 0]\n",
      " [0 0 0 ... 0 0 0]\n",
      " [0 0 0 ... 0 0 0]]\n"
     ]
    }
   ],
   "source": [
    "sfg = nxrg.barabasi_albert_graph(100,2)\n",
    "sfg_G = nx.adjacency_matrix(sfg).toarray()\n",
    "print(sfg_G)"
   ]
  },
  {
   "cell_type": "code",
   "execution_count": 6,
   "metadata": {},
   "outputs": [
    {
     "name": "stdout",
     "output_type": "stream",
     "text": [
      "[[0 0 1 ... 0 0 0]\n",
      " [0 0 1 ... 0 0 0]\n",
      " [1 1 0 ... 0 0 0]\n",
      " ...\n",
      " [0 0 0 ... 0 0 0]\n",
      " [0 0 0 ... 0 0 0]\n",
      " [0 0 0 ... 0 0 0]]\n",
      "[[0. 0. 0. ... 0. 0. 0.]\n",
      " [0. 0. 0. ... 0. 0. 0.]\n",
      " [0. 0. 0. ... 0. 0. 0.]]\n",
      "(array([0, 0, 0, 0, 0, 1, 1, 1, 1, 1, 2, 2, 2, 2, 2]), array([  6,  32,  53,  61,  87,  22,  30,  52,  62, 116,  21, 152, 309,\n",
      "       338, 387]))\n"
     ]
    }
   ],
   "source": [
    "G = np.load('graph.npy')\n",
    "print(G)\n",
    "loaded_paths = np.load('paths.npy')\n",
    "print(loaded_paths)\n",
    "restored_path = np.nonzero(loaded_paths)\n",
    "print(restored_path)"
   ]
  },
  {
   "cell_type": "code",
   "execution_count": 13,
   "metadata": {
    "scrolled": true
   },
   "outputs": [
    {
     "name": "stdout",
     "output_type": "stream",
     "text": [
      "[(27, 4), (31, 4), (33, 4), (36, 4), (38, 4), (41, 4), (43, 4), (46, 4), (50, 4), (51, 4), (53, 4), (56, 4), (59, 4), (61, 4), (62, 4), (63, 4), (64, 4), (65, 4), (66, 4), (67, 4), (69, 4), (70, 4), (71, 4), (73, 4), (75, 4), (77, 4), (78, 4), (79, 4), (80, 4), (81, 4), (82, 4), (83, 4), (84, 4), (85, 4), (86, 4), (87, 4), (88, 4), (89, 4), (90, 4), (91, 4), (92, 4), (93, 4), (94, 4), (95, 4), (96, 4), (97, 4), (98, 4), (99, 4), (15, 6), (23, 6), (24, 6), (25, 6), (30, 6), (34, 6), (35, 6), (37, 6), (39, 6), (40, 6), (44, 6), (48, 6), (49, 6), (52, 6), (54, 6), (55, 6), (57, 6), (60, 6), (68, 6), (72, 6), (74, 6), (76, 6), (0, 8), (14, 8), (16, 8), (19, 8), (26, 8), (29, 8), (32, 8), (42, 8), (47, 8), (58, 8), (8, 10), (13, 10), (22, 10), (28, 10), (17, 12), (45, 12), (21, 14), (10, 16), (12, 16), (18, 16), (4, 18), (20, 18), (6, 20), (2, 22), (11, 22), (9, 24), (1, 26), (7, 26), (5, 30), (3, 48)]\n"
     ]
    },
    {
     "data": {
      "image/png": "[encoded data removed]",
      "text/plain": [
       "<Figure size 432x288 with 1 Axes>"
      ]
     },
     "metadata": {},
     "output_type": "display_data"
    }
   ],
   "source": [
    "DiG = nx.from_numpy_matrix(G, create_using=nx.DiGraph())\n",
    "#DiG = G\n",
    "nx.draw_networkx(DiG, with_label = True) \n",
    "degs = []\n",
    "for node in range(100):\n",
    "    deg = DiG.degree(node)\n",
    "    degs.append((node, deg))\n",
    "    \n",
    "degs_sorted = sorted(degs, key=lambda deg: deg[1])\n",
    "\n",
    "print(degs_sorted)"
   ]
  },
  {
   "cell_type": "code",
   "execution_count": 47,
   "metadata": {},
   "outputs": [
    {
     "name": "stdout",
     "output_type": "stream",
     "text": [
      "5\n",
      "[60, 12, 69, 7]\n"
     ]
    }
   ],
   "source": [
    "print(nx.diameter(DiG))\n",
    "print(nx.shortest_path(DiG, 60, 7))"
   ]
  },
  {
   "cell_type": "code",
   "execution_count": 7,
   "metadata": {
    "scrolled": false
   },
   "outputs": [
    {
     "name": "stdout",
     "output_type": "stream",
     "text": [
      "[8, 7, 1, 2, 4]\n",
      "[8, 7, 1, 3, 9]\n",
      "[[[8, 7, 1], [7, 1, 1], [1, 2, 1], [2, 4, 1]], [[8, 7, 1], [7, 1, 1], [1, 3, 1], [3, 9, 1]]]\n"
     ]
    }
   ],
   "source": [
    "swg_pth = path_gen([[8,7,1,2,4], \n",
    "                    [8,7,1,3,9]])\n",
    "print(swg_pth)"
   ]
  },
  {
   "cell_type": "code",
   "execution_count": 82,
   "metadata": {
    "collapsed": true
   },
   "outputs": [
    {
     "name": "stdout",
     "output_type": "stream",
     "text": [
      "[[4, 2, 0, 3], [4, 2, 0, 6, 3], [4, 2, 3], [4, 2, 5, 3], [4, 2, 7, 0, 3], [4, 2, 7, 0, 6, 3], [4, 2, 8, 3], [4, 2, 9, 3], [4, 3]]\n"
     ]
    }
   ],
   "source": [
    "spaths = nx.all_simple_paths(sfg, 4, 3)\n",
    "print(list(spaths))"
   ]
  },
  {
   "cell_type": "code",
   "execution_count": 48,
   "metadata": {},
   "outputs": [
    {
     "name": "stdout",
     "output_type": "stream",
     "text": [
      "[5, 1, 7, 4, 3, 9]\n",
      "[10, 5, 1, 7, 4, 3, 13, 98]\n",
      "[60, 12, 69, 7, 4, 3, 99]\n",
      "[80, 32, 18, 3, 13, 98]\n",
      "[[[5, 1, 1], [1, 7, 1], [7, 4, 1], [4, 3, 1], [3, 9, 1]], [[10, 5, 1], [5, 1, 1], [1, 7, 1], [7, 4, 1], [4, 3, 1], [3, 13, 1], [13, 98, 1]], [[60, 12, 1], [12, 69, 1], [69, 7, 1], [7, 4, 1], [4, 3, 1], [3, 99, 1]], [[80, 32, 1], [32, 18, 1], [18, 3, 1], [3, 13, 1], [13, 98, 1]]]\n"
     ]
    }
   ],
   "source": [
    "sfg_pth = path_gen([[5, 1, 7, 4, 3, 9],                     \n",
    "                    [10, 5,1,7, 4, 3,13,98],                     \n",
    "                    [60,12, 69,7, 4, 3,99],\n",
    "                    [80, 32, 18, 3, 13, 98]])\n",
    "print(sfg_pth)"
   ]
  },
  {
   "cell_type": "code",
   "execution_count": 66,
   "metadata": {},
   "outputs": [
    {
     "name": "stdout",
     "output_type": "stream",
     "text": [
      "[12, 0, 11, 8, 20]\n",
      "[8, 12, 29, 26, 1]\n",
      "[13, 21, 5, 2, 7]\n",
      "[[[12, 0, 1], [0, 11, 1], [11, 8, 1], [8, 20, 1]], [[8, 12, 1], [12, 29, 1], [29, 26, 1], [26, 1, 1]], [[13, 21, 1], [21, 5, 1], [5, 2, 1], [2, 7, 1]]]\n"
     ]
    }
   ],
   "source": [
    "npg_pth = path_gen([[12,0,11,8,20], \n",
    "                    [8,12,29,26,1],\n",
    "                    [13,21,5,2,7]])\n",
    "print(npg_pth)"
   ]
  },
  {
   "cell_type": "code",
   "execution_count": 53,
   "metadata": {},
   "outputs": [
    {
     "name": "stdout",
     "output_type": "stream",
     "text": [
      "Edges:\n",
      " [[0, 2], [0, 3], [0, 31], [0, 89], [1, 2], [1, 5], [1, 7], [1, 8], [1, 23], [1, 25], [1, 34], [1, 36], [1, 39], [1, 42], [1, 65], [1, 68], [1, 91], [2, 0], [2, 1], [2, 3], [2, 4], [2, 6], [2, 15], [2, 16], [2, 26], [2, 47], [2, 48], [2, 94], [3, 0], [3, 2], [3, 4], [3, 5], [3, 9], [3, 11], [3, 13], [3, 16], [3, 17], [3, 18], [3, 25], [3, 27], [3, 28], [3, 34], [3, 35], [3, 45], [3, 51], [3, 52], [3, 54], [3, 62], [3, 77], [3, 82], [3, 91], [3, 99], [4, 2], [4, 3], [4, 6], [4, 7], [4, 23], [4, 36], [4, 38], [4, 39], [4, 67], [5, 1], [5, 3], [5, 8], [5, 9], [5, 10], [5, 12], [5, 18], [5, 22], [5, 47], [5, 51], [5, 56], [5, 58], [5, 65], [5, 83], [5, 87], [6, 2], [6, 4], [6, 19], [6, 29], [6, 58], [6, 62], [6, 64], [6, 76], [6, 82], [6, 88], [7, 1], [7, 4], [7, 13], [7, 14], [7, 26], [7, 40], [7, 55], [7, 56], [7, 61], [7, 69], [7, 71], [7, 78], [7, 79], [8, 1], [8, 5], [8, 17], [8, 24], [8, 81], [9, 3], [9, 5], [9, 10], [9, 11], [9, 12], [9, 20], [9, 22], [9, 27], [9, 43], [9, 45], [9, 92], [9, 96], [10, 5], [10, 9], [10, 15], [10, 21], [10, 32], [10, 73], [10, 76], [10, 96], [11, 3], [11, 9], [11, 14], [11, 20], [11, 21], [11, 24], [11, 35], [11, 37], [11, 41], [11, 61], [11, 67], [12, 5], [12, 9], [12, 42], [12, 43], [12, 60], [12, 69], [12, 72], [12, 84], [13, 3], [13, 7], [13, 48], [13, 90], [13, 98], [14, 7], [14, 11], [14, 59], [14, 70], [15, 2], [15, 10], [15, 74], [16, 2], [16, 3], [16, 33], [16, 53], [17, 3], [17, 8], [17, 19], [17, 29], [17, 30], [17, 87], [18, 3], [18, 5], [18, 31], [18, 32], [18, 49], [18, 63], [18, 77], [18, 85], [19, 6], [19, 17], [19, 66], [19, 75], [20, 9], [20, 11], [20, 41], [20, 44], [20, 49], [20, 57], [20, 78], [20, 79], [20, 95], [21, 10], [21, 11], [21, 28], [21, 50], [21, 54], [21, 57], [21, 85], [22, 5], [22, 9], [22, 30], [22, 52], [22, 68], [23, 1], [23, 4], [23, 92], [24, 8], [24, 11], [24, 86], [25, 1], [25, 3], [25, 33], [26, 2], [26, 7], [26, 46], [26, 93], [27, 3], [27, 9], [28, 3], [28, 21], [28, 60], [28, 63], [28, 81], [29, 6], [29, 17], [29, 38], [29, 40], [30, 17], [30, 22], [30, 84], [31, 0], [31, 18], [32, 10], [32, 18], [32, 37], [32, 80], [33, 16], [33, 25], [34, 1], [34, 3], [34, 44], [35, 3], [35, 11], [35, 74], [36, 1], [36, 4], [37, 11], [37, 32], [37, 71], [38, 4], [38, 29], [39, 1], [39, 4], [39, 46], [40, 7], [40, 29], [40, 73], [41, 11], [41, 20], [42, 1], [42, 12], [42, 64], [42, 94], [43, 9], [43, 12], [44, 20], [44, 34], [44, 95], [45, 3], [45, 9], [45, 70], [45, 89], [45, 90], [45, 99], [46, 26], [46, 39], [47, 2], [47, 5], [47, 50], [47, 72], [48, 2], [48, 13], [48, 53], [49, 18], [49, 20], [49, 93], [50, 21], [50, 47], [51, 3], [51, 5], [52, 3], [52, 22], [52, 66], [53, 16], [53, 48], [54, 3], [54, 21], [54, 55], [55, 7], [55, 54], [55, 88], [56, 5], [56, 7], [57, 20], [57, 21], [57, 75], [58, 5], [58, 6], [58, 59], [58, 83], [59, 14], [59, 58], [60, 12], [60, 28], [60, 97], [61, 7], [61, 11], [62, 3], [62, 6], [63, 18], [63, 28], [64, 6], [64, 42], [65, 1], [65, 5], [66, 19], [66, 52], [67, 4], [67, 11], [68, 1], [68, 22], [68, 98], [69, 7], [69, 12], [70, 14], [70, 45], [71, 7], [71, 37], [72, 12], [72, 47], [72, 80], [73, 10], [73, 40], [74, 15], [74, 35], [74, 97], [75, 19], [75, 57], [76, 6], [76, 10], [76, 86], [77, 3], [77, 18], [78, 7], [78, 20], [79, 7], [79, 20], [80, 32], [80, 72], [81, 8], [81, 28], [82, 3], [82, 6], [83, 5], [83, 58], [84, 12], [84, 30], [85, 18], [85, 21], [86, 24], [86, 76], [87, 5], [87, 17], [88, 6], [88, 55], [89, 0], [89, 45], [90, 13], [90, 45], [91, 1], [91, 3], [92, 9], [92, 23], [93, 26], [93, 49], [94, 2], [94, 42], [95, 20], [95, 44], [96, 9], [96, 10], [97, 60], [97, 74], [98, 13], [98, 68], [99, 3], [99, 45]]\n",
      "Paths:\n",
      " [[0. 0. 0. ... 0. 0. 0.]\n",
      " [0. 0. 0. ... 0. 0. 0.]\n",
      " [0. 0. 0. ... 0. 0. 0.]]\n"
     ]
    }
   ],
   "source": [
    "flows, noiseless_flows, edge_adj, paths = flow_gen(G, sfg_pth[0:3], 2000, Range=2, zero_centered=True, \\\n",
    "                                                   processed_paths = False, noise_level=0.2)"
   ]
  },
  {
   "cell_type": "code",
   "execution_count": 71,
   "metadata": {
    "collapsed": true
   },
   "outputs": [
    {
     "name": "stdout",
     "output_type": "stream",
     "text": [
      "noiseless:\n",
      " [[ 0.          0.          0.         -0.23747479  0.          0.\n",
      "   0.          0.          0.          0.          0.          0.\n",
      "   0.          0.          0.          0.          0.99925106  0.\n",
      "   0.          0.          0.          0.          0.          0.\n",
      "   0.          0.          0.          0.          0.          0.\n",
      "   0.          0.          0.          0.          0.          0.\n",
      "   0.          0.          0.          0.          0.          0.\n",
      "   0.          0.          0.          0.99925106  0.          0.\n",
      "   0.          0.          0.          0.          0.          0.\n",
      "   0.          0.          0.          0.          0.          0.\n",
      "   0.          0.          0.          0.          0.          0.\n",
      "   0.          0.          0.          0.          0.          0.\n",
      "   0.          0.          0.          0.          0.          0.\n",
      "   0.          0.          0.         -0.43117308  0.          0.\n",
      "  -0.23747479  0.          0.          0.          0.          0.\n",
      "   0.          0.          0.          0.          0.          0.\n",
      "   0.          0.          0.          0.          0.          0.\n",
      "   0.          0.          0.          0.          0.          0.\n",
      "   0.          0.          0.          0.          0.          0.\n",
      "   0.         -0.23747479  0.          0.          0.          0.\n",
      "   0.         -0.23747479  0.          0.          0.          0.\n",
      "   0.          0.          0.          0.          0.          0.\n",
      "  -0.43117308  0.          0.          0.          0.          0.\n",
      "   0.99925106  0.          0.          0.          0.          0.\n",
      "   0.          0.          0.          0.          0.          0.\n",
      "   0.          0.          0.          0.          0.          0.\n",
      "   0.          0.          0.          0.          0.          0.\n",
      "   0.          0.          0.          0.          0.          0.\n",
      "   0.          0.          0.          0.          0.          0.\n",
      "   0.          0.          0.          0.          0.          0.\n",
      "   0.          0.          0.          0.          0.          0.\n",
      "   0.          0.          0.          0.          0.          0.\n",
      "   0.          0.          0.          0.          0.          0.\n",
      "   0.          0.          0.          0.          0.          0.\n",
      "   0.          0.          0.          0.          0.          0.\n",
      "   0.          0.          0.          0.          0.99925106  0.\n",
      "   0.          0.          0.          0.          0.          0.\n",
      "   0.          0.          0.          0.          0.          0.\n",
      "   0.          0.          0.          0.          0.          0.\n",
      "   0.          0.          0.          0.          0.          0.\n",
      "   0.          0.          0.          0.          0.          0.\n",
      "   0.          0.          0.          0.          0.          0.\n",
      "   0.          0.          0.          0.          0.          0.\n",
      "   0.          0.          0.          0.          0.          0.\n",
      "   0.         -0.43117308  0.          0.          0.          0.\n",
      "   0.          0.          0.          0.          0.          0.\n",
      "   0.          0.          0.          0.          0.          0.\n",
      "   0.          0.          0.          0.          0.          0.\n",
      "   0.          0.          0.          0.          0.          0.\n",
      "   0.          0.          0.          0.          0.          0.\n",
      "   0.          0.          0.          0.          0.          0.\n",
      "   0.         -0.43117308  0.          0.        ]]\n",
      "with noise:\n",
      " [[-0.05706418 -0.04799646  0.22946424 -0.50479209 -0.04827376  0.29097029\n",
      "  -0.00600267 -0.62431912 -0.34387436 -0.56842927  0.00166838  0.23650915\n",
      "   0.08916515  0.57668451 -0.80827695  0.078401    0.80908804  0.48394222\n",
      "   0.37510843  0.00522459  0.37731581 -0.75129017  0.20150079  0.43661398\n",
      "  -0.41507111  0.56348793 -0.34892648  0.00713849  0.61941353  0.43120157\n",
      "  -0.41452547 -0.13147561 -0.09718278  0.28239783  0.53574207 -0.60202704\n",
      "   0.34484157  0.24482421 -0.36661246  0.28416192  0.41548896  0.52601659\n",
      "  -0.07877408  0.28195956 -0.21436865  0.03486933  0.29049056  0.41160962\n",
      "  -0.03293571  0.36107911 -0.09829414  0.37233168  0.45603385  0.00859355\n",
      "   0.3281625   0.03157305 -0.29014809 -0.06791074  0.42858634  0.27004465\n",
      "   0.73850283  0.32032967  0.70382147  0.36089298 -0.13701336 -0.00292331\n",
      "   0.0403093   0.32171811 -0.46160564 -0.77545376 -0.66495289  0.64993713\n",
      "  -0.28777171  0.15637992 -0.48268503  0.78887931  0.48550362 -0.04920463\n",
      "  -0.25071488 -0.5073881   0.0222373  -0.39926612  0.25249178  0.11645394\n",
      "  -0.28422998 -0.06448952  0.34072025  0.32249209 -0.6916984  -0.11254195\n",
      "  -0.50008176  0.41145525  0.18491319 -0.03990723 -1.02301665  0.01004776\n",
      "  -0.71379902 -0.65990029  0.24383631  0.42553137 -0.08412513 -0.31943822\n",
      "   0.64385838  0.21435783 -0.64927959  0.18376651  0.30541396 -0.10838582\n",
      "   0.06061273  0.33144724 -0.34594648  0.04042313  0.07123711 -0.55004476\n",
      "  -0.46261594  0.18230989 -0.35476375  0.10278714 -0.02246612 -0.38382165\n",
      "  -0.24829607 -0.76784343 -0.29451493  0.1847347   0.37681062  0.36514425\n",
      "   0.16588252  0.17021544 -0.409692    0.42595662 -0.42622257 -0.62755342\n",
      "   0.14366021  0.47506752  0.1782223   0.44430507 -0.23977468  1.37102672\n",
      "   1.66215652 -0.35640749  0.34079978  0.2576621  -0.02427768  0.50527162\n",
      "   0.60081959 -0.04582605 -0.0817791  -0.52569786  0.01171359  0.32928994\n",
      "  -0.16371531  0.30895203 -0.5218763  -0.11197738  0.19113573 -0.15962777\n",
      "  -0.2463741  -0.20166103 -0.21212582 -0.20194891 -0.14629826 -0.05530807\n",
      "  -0.25436635  0.08734189 -0.34572883  0.59498579  0.04473723  0.09105781\n",
      "   0.29867405 -0.83882944  0.36657678  0.63971717  0.74310801 -0.14726875\n",
      "   0.05094879 -0.47647552  0.06158021 -0.07801835  0.20483768  0.07810043\n",
      "   0.20291583  0.19838764  0.33212099  0.3196315   0.38760408  0.02186243\n",
      "   0.14140101  0.13806838  0.37254983 -0.1885971   0.05555791 -0.23054608\n",
      "  -0.19591816  0.3036563  -0.10071257 -0.10020681 -0.23559632  0.12254836\n",
      "   0.52834287 -0.05534836  0.52486673  0.38670183  0.13535264  0.13483328\n",
      "   0.52832998  0.16801364 -0.63726121  0.0940492   0.23179138 -0.16987316\n",
      "   0.21348533  0.18523022  0.00167968  0.4035101   1.45804981  0.3663866\n",
      "  -0.14033859  0.3872541  -0.0464907  -0.11536651 -0.52671352 -0.04652001\n",
      "  -0.40510191 -0.01117582  0.38105332  0.63556972  0.25600742  0.33985459\n",
      "   0.21179568  0.56796211 -0.85843563  0.25497198  0.46541003  0.26326293\n",
      "  -0.70124559  0.08143863 -0.23413209  0.05215896  0.16983487  0.05828368\n",
      "  -0.202951    0.12378868 -0.58786181  0.52540802 -0.15326313 -0.35077935\n",
      "   0.15342357  0.41555202  0.32750659 -0.49373899 -0.0209119  -0.64807593\n",
      "   0.17699112 -0.46394906 -0.60543944 -0.44410213  0.5558142  -0.06811091\n",
      "   0.14916806 -0.74432829  0.48176975 -0.03162048  0.92230262  0.01169042\n",
      "   0.43759763 -1.00771325 -0.12236881  0.28388949 -0.14557792  0.48316236\n",
      "  -0.20317688 -0.40927214  0.22353211  0.50867484 -0.53571444 -0.33985309\n",
      "   0.09625894 -0.53902533 -0.50709829 -0.52495982 -0.15522298  1.38175016\n",
      "   0.70909819  0.24038628  0.27467966  0.09215725 -0.01188178 -0.29531464\n",
      "   0.58026635  0.04515227 -0.23875414  0.18239599 -0.25890598 -0.91937747\n",
      "  -0.65152767 -0.56726102 -0.45654209  0.12175547  0.80043409  0.58904173\n",
      "  -1.10170848 -0.04195367 -0.16336855 -0.69821764  0.28568532  0.48846059\n",
      "   0.10153555 -0.411651    0.21545119  0.49350724]]\n"
     ]
    },
    {
     "data": {
      "text/plain": [
       "(2000, 310)"
      ]
     },
     "execution_count": 71,
     "metadata": {},
     "output_type": "execute_result"
    }
   ],
   "source": [
    "print('noiseless:\\n',noiseless_flows[0:1])\n",
    "print('with noise:\\n',flows[0:1])\n",
    "noiseless_flows.shape"
   ]
  },
  {
   "cell_type": "code",
   "execution_count": 54,
   "metadata": {},
   "outputs": [],
   "source": [
    "np.save('flows.npy', flows)\n",
    "np.save('noiseless_flows.npy', noiseless_flows)\n",
    "np.save('adj.npy', edge_adj)\n",
    "np.save('paths.npy', paths)\n",
    "np.save('graph.npy', G)"
   ]
  },
  {
   "cell_type": "code",
   "execution_count": 16,
   "metadata": {},
   "outputs": [
    {
     "name": "stdout",
     "output_type": "stream",
     "text": [
      "[ 0.          0.          0.          0.          0.          0.\n",
      " 48.98215367  0.          0.          0.          0.          0.\n",
      "  0.          0.         48.98215367  0.          0.          0.\n",
      "  0.          0.         48.98215367  0.          0.          0.\n",
      "  0.          0.          0.         48.98215367  0.          0.\n",
      "  0.          0.          0.          0.          0.          0.\n",
      "  0.          0.          0.          0.          0.          0.\n",
      "  0.          0.          0.          0.          0.          0.\n",
      "  0.          0.          0.          0.          0.          0.        ]\n"
     ]
    }
   ],
   "source": [
    "print(noiseless_flows[0])"
   ]
  }
 ],
 "metadata": {
  "kernelspec": {
   "display_name": "Python 3",
   "language": "python",
   "name": "python3"
  },
  "language_info": {
   "codemirror_mode": {
    "name": "ipython",
    "version": 3
   },
   "file_extension": ".py",
   "mimetype": "text/x-python",
   "name": "python",
   "nbconvert_exporter": "python",
   "pygments_lexer": "ipython3",
   "version": "3.8.2"
  }
 },
 "nbformat": 4,
 "nbformat_minor": 4
}
