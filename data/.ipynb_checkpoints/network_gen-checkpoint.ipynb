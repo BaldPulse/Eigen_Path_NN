{
 "cells": [
  {
   "cell_type": "code",
   "execution_count": 1,
   "metadata": {},
   "outputs": [],
   "source": [
    "import numpy as np"
   ]
  },
  {
   "cell_type": "code",
   "execution_count": 7,
   "metadata": {},
   "outputs": [],
   "source": [
    "def adjacency_gen(nnodes, undirected = False):\n",
    "    adj = np.random.randint(2, size = (nnodes, nnodes), dtype = int)\n",
    "    for i in range(nnodes):\n",
    "        adj[i,i] = 0\n",
    "    if(undirected):\n",
    "        for i in range(nnodes):\n",
    "            for j in range(i):\n",
    "                adj[i,j] = adj[j,i]\n",
    "    return adj"
   ]
  },
  {
   "cell_type": "code",
   "execution_count": 73,
   "metadata": {},
   "outputs": [
    {
     "name": "stdout",
     "output_type": "stream",
     "text": [
      "[[0 0 0]\n",
      " [1 0 1]\n",
      " [1 1 0]]\n"
     ]
    }
   ],
   "source": [
    "G = adjacency_gen(3, undirected = False)\n",
    "print(G)"
   ]
  },
  {
   "cell_type": "code",
   "execution_count": 69,
   "metadata": {},
   "outputs": [],
   "source": [
    "def flow_gen(adj, paths, nsample, backflow = False):\n",
    "    '''\n",
    "    generates flow samples based on eigenpaths with gaussian noise\n",
    "    input:\n",
    "    adj: adjacency matrix of graph, rows represent staring nodes, columns representing destination nodes\n",
    "    paths: eigenpaths of a fixed length, \n",
    "        must be in the format [s1, d1, w1], [s2=d1, d2, w2], ... [sl=d(l-1), dl, wl]\n",
    "        where s is the starting node of the edge, d is the ending node of the edge\n",
    "        and w is the weight of each edge in the path\n",
    "    nsample: number of samples generated\n",
    "    backflow: allow edge adjacency matrix to have backflow, making it symetric\n",
    "    \n",
    "    output:\n",
    "    sample: nsample * nedges np array\n",
    "    edge_adj: edge adjacency matrix\n",
    "    '''\n",
    "    \n",
    "    for p in paths:\n",
    "        prev_end = None\n",
    "        for e in p:\n",
    "            assert adj[e[0], e[1]] == 1 #all paths must exist\n",
    "            assert prev_end is None or e[0] == prev_end #all paths must be valid\n",
    "            prev_end = e[1]\n",
    "    \n",
    "    #encode adjacency matrix into edge vector\n",
    "    nEdges = 0\n",
    "    Edges = []\n",
    "    for start in range(adj.shape[0]):\n",
    "        for dest in range(adj.shape[0]):\n",
    "            if(adj[start, dest] == 1):\n",
    "                nEdges += 1\n",
    "                Edges.append([start, dest])\n",
    "    print(\"Edges:\\n\", Edges)\n",
    "    \n",
    "    Paths = np.zeros((len(paths), nEdges), dtype = float)\n",
    "    for p in range(len(paths)):\n",
    "        for e in range(len(paths[0])):\n",
    "            Paths[p, Edges.index(paths[p][e][0:2])] = paths[p][e][2]\n",
    "    print(\"Paths:\\n\", Paths)\n",
    "    \n",
    "    sample = np.zeros((nsample, nEdges), dtype = float)\n",
    "    for i in range(nsample):\n",
    "        w = np.random.rand(len(paths))*10 #random weight for each path\n",
    "        sample[i,:] += w@Paths + np.random.randn(nEdges)\n",
    "        \n",
    "    #transform adjacency matrix into edge adjacecny matrix\n",
    "    edge_adj = np.zeros((nEdges, nEdges), dtype = int)\n",
    "    for e in range(nEdges):\n",
    "        for i in range(adj.shape[0]):\n",
    "            if(adj[Edges[e][1], i] == 1):\n",
    "                edge_adj[e, Edges.index([Edges[e][1], i])] = 1\n",
    "    \n",
    "    if(backflow == True):\n",
    "        for i in range(nEdges):\n",
    "            for j in range(i):\n",
    "                if(edge_adj[i.j] == 1 or edge_adj[j,i] == 1):\n",
    "                    edge_adj[i,j] = 1 \n",
    "                    edge_adj[j,i] = 1\n",
    "    \n",
    "    return sample, edge_adj"
   ]
  },
  {
   "cell_type": "code",
   "execution_count": 75,
   "metadata": {},
   "outputs": [
    {
     "name": "stdout",
     "output_type": "stream",
     "text": [
      "[[[2, 1, 5], [1, 0, 10]], [[1, 2, 7], [2, 0, 3]]]\n"
     ]
    }
   ],
   "source": [
    "pth = [[[2,1, 5],[1,0, 10]],\n",
    "       [[1,2, 7],[2,0, 3]]]\n",
    "print(pth)"
   ]
  },
  {
   "cell_type": "code",
   "execution_count": 76,
   "metadata": {},
   "outputs": [
    {
     "name": "stdout",
     "output_type": "stream",
     "text": [
      "Edges:\n",
      " [[1, 0], [1, 2], [2, 0], [2, 1]]\n",
      "Paths:\n",
      " [[10.  0.  0.  5.]\n",
      " [ 0.  7.  3.  0.]]\n"
     ]
    },
    {
     "data": {
      "text/plain": [
       "(array([[63.10226867, 43.05605303, 17.58904172, 31.8931564 ],\n",
       "        [66.23182982, 23.36523797, 10.84205068, 33.39648705],\n",
       "        [72.97211356, 15.78604619,  4.16180813, 36.23328918],\n",
       "        [68.70562486, 53.71404194, 25.01116039, 34.19902731],\n",
       "        [15.78155023, 59.60862623, 25.19777434,  8.83909011]]),\n",
       " array([[0, 0, 0, 0],\n",
       "        [0, 0, 1, 1],\n",
       "        [0, 0, 0, 0],\n",
       "        [1, 1, 0, 0]]))"
      ]
     },
     "execution_count": 76,
     "metadata": {},
     "output_type": "execute_result"
    }
   ],
   "source": [
    "flow_gen(G, pth, 5)"
   ]
  }
 ],
 "metadata": {
  "kernelspec": {
   "display_name": "Python 3",
   "language": "python",
   "name": "python3"
  },
  "language_info": {
   "codemirror_mode": {
    "name": "ipython",
    "version": 3
   },
   "file_extension": ".py",
   "mimetype": "text/x-python",
   "name": "python",
   "nbconvert_exporter": "python",
   "pygments_lexer": "ipython3",
   "version": "3.7.5"
  }
 },
 "nbformat": 4,
 "nbformat_minor": 4
}
