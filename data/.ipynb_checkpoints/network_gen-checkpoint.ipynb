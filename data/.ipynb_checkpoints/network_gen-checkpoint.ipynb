{
 "cells": [
  {
   "cell_type": "code",
   "execution_count": 1,
   "metadata": {},
   "outputs": [],
   "source": [
    "import numpy as np\n",
    "import networkx as nx\n",
    "import networkx.generators.random_graphs as nxrg"
   ]
  },
  {
   "cell_type": "code",
   "execution_count": 2,
   "metadata": {},
   "outputs": [],
   "source": [
    "def adjacency_gen(nnodes, undirected = False):\n",
    "    adj = np.random.randint(2, size = (nnodes, nnodes), dtype = int)\n",
    "    for i in range(nnodes):\n",
    "        adj[i,i] = 0\n",
    "    if(undirected):\n",
    "        for i in range(nnodes):\n",
    "            for j in range(i):\n",
    "                adj[i,j] = adj[j,i]\n",
    "    return adj"
   ]
  },
  {
   "cell_type": "code",
   "execution_count": 3,
   "metadata": {},
   "outputs": [],
   "source": [
    "def flow_gen(adj, paths, nsample, Range=10, zero_centered=False, backflow = False, processed_paths = False, noise_level=0.2):\n",
    "    '''\n",
    "    generates flow samples based on eigenpaths with gaussian noise\n",
    "    input:\n",
    "    adj: adjacency matrix of graph, rows represent staring nodes, columns representing destination nodes\n",
    "    paths: eigenpaths of a fixed length, \n",
    "        must be in the format [s1, d1, w1], [s2=d1, d2, w2], ... [sl=d(l-1), dl, wl]\n",
    "        where s is the starting node of the edge, d is the ending node of the edge\n",
    "        and w is the weight of each edge in the path\n",
    "    nsample: number of samples generated\n",
    "    backflow: allow edge adjacency matrix to have backflow, making it symetric\n",
    "    noise: add gaussian noise or not\n",
    "    \n",
    "    output:\n",
    "    sample: nsample * nedges np array\n",
    "    edge_adj: edge adjacency matrix\n",
    "    '''\n",
    "    nEdges = 0\n",
    "    #encode adjacency matrix into edge vector\n",
    "    Edges = []\n",
    "    for start in range(adj.shape[0]):\n",
    "        for dest in range(adj.shape[0]):\n",
    "            if(adj[start, dest] == 1):\n",
    "                nEdges += 1\n",
    "                Edges.append([start, dest])\n",
    "    \n",
    "    Paths = np.zeros((len(paths), nEdges), dtype = float)\n",
    "    if processed_paths == False:\n",
    "        for p in paths:\n",
    "            prev_end = None\n",
    "            for e in p:\n",
    "                assert adj[e[0], e[1]] == 1 #all paths must exist\n",
    "                assert prev_end is None or e[0] == prev_end #all paths must be valid\n",
    "                prev_end = e[1]\n",
    "\n",
    "        for p in range(len(paths)):\n",
    "            for e in range(len(paths[0])):\n",
    "                Paths[p, Edges.index(paths[p][e][0:2])] = paths[p][e][2]\n",
    "    else:\n",
    "        Paths = paths\n",
    "    \n",
    "    print(\"Edges:\\n\", Edges)\n",
    "    print(\"Paths:\\n\", Paths)\n",
    "    \n",
    "    sample = np.zeros((nsample, nEdges), dtype = float)\n",
    "    noiseless_sample = np.zeros((nsample, nEdges), dtype = float)\n",
    "    for i in range(nsample):\n",
    "        w = np.random.rand(len(paths))*Range #random weight for each path\n",
    "        if zero_centered == True:\n",
    "            w = w - Range/2\n",
    "        sample[i,:] += w@Paths + Range * noise_level*np.random.randn(nEdges)\n",
    "        noiseless_sample[i,:] += w@Paths\n",
    "        \n",
    "    #transform adjacency matrix into edge adjacecny matrix\n",
    "    edge_adj = np.zeros((nEdges, nEdges), dtype = int)\n",
    "    for e in range(nEdges):\n",
    "        for i in range(adj.shape[0]):\n",
    "            if(adj[Edges[e][1], i] == 1):\n",
    "                edge_adj[e, Edges.index([Edges[e][1], i])] = 1\n",
    "    \n",
    "    if(backflow == True):\n",
    "        for i in range(nEdges):\n",
    "            for j in range(i):\n",
    "                if(edge_adj[i.j] == 1 or edge_adj[j,i] == 1):\n",
    "                    edge_adj[i,j] = 1 \n",
    "                    edge_adj[j,i] = 1\n",
    "    \n",
    "    return sample, noiseless_sample, edge_adj, Paths"
   ]
  },
  {
   "cell_type": "code",
   "execution_count": 4,
   "metadata": {},
   "outputs": [],
   "source": [
    "def path_gen(paths, weighted = False):\n",
    "    results = []\n",
    "    for pth in paths:\n",
    "        print(pth)\n",
    "        w_pth = []\n",
    "        if weighted:\n",
    "            weights = np.random.uniform(low = 5.0, high = 15.0, size = (len(pth)-1, ))\n",
    "            for i in range(len(pth) - 1):\n",
    "                w_pth.append([pth[i], pth[i+1], int(weights[i]) ])\n",
    "        else:\n",
    "            for i in range(len(pth) - 1):\n",
    "                w_pth.append([pth[i], pth[i+1], 1 ])\n",
    "            \n",
    "        results.append(w_pth)\n",
    "    return results"
   ]
  },
  {
   "cell_type": "code",
   "execution_count": 13,
   "metadata": {
    "collapsed": true
   },
   "outputs": [
    {
     "name": "stdout",
     "output_type": "stream",
     "text": [
      "[[0 1 1 0 1 1 1 1 0 0]\n",
      " [0 0 0 1 0 1 0 1 0 1]\n",
      " [1 0 0 0 1 0 0 1 0 0]\n",
      " [0 0 0 0 0 1 1 1 0 0]\n",
      " [1 1 0 0 0 0 0 0 0 0]\n",
      " [1 0 1 0 1 0 1 0 0 1]\n",
      " [0 0 1 0 1 0 0 0 1 1]\n",
      " [1 1 0 0 1 1 0 0 1 1]\n",
      " [0 1 1 0 1 1 0 1 0 1]\n",
      " [0 1 0 0 0 1 0 0 0 0]]\n"
     ]
    }
   ],
   "source": [
    "G = adjacency_gen(10, undirected = False)\n",
    "print(G)"
   ]
  },
  {
   "cell_type": "code",
   "execution_count": 19,
   "metadata": {
    "collapsed": true
   },
   "outputs": [
    {
     "name": "stdout",
     "output_type": "stream",
     "text": [
      "[[0 1 1 1 0 1 0 0 0 1]\n",
      " [1 0 0 1 1 0 0 0 0 1]\n",
      " [1 0 0 0 0 1 1 1 1 0]\n",
      " [1 1 0 0 1 1 1 1 0 0]\n",
      " [0 1 0 1 0 1 0 1 1 1]\n",
      " [1 0 1 1 1 0 1 1 0 1]\n",
      " [0 0 1 1 0 1 0 0 0 0]\n",
      " [0 0 1 1 1 1 0 0 0 1]\n",
      " [0 0 1 0 1 0 0 0 0 0]\n",
      " [1 1 0 0 1 1 0 1 0 0]]\n"
     ]
    }
   ],
   "source": [
    "gnp = nxrg.fast_gnp_random_graph(10, 0.5, seed=None, directed=False)\n",
    "gnp_G = nx.adjacency_matrix(gnp).toarray()\n",
    "print(gnp_G)"
   ]
  },
  {
   "cell_type": "code",
   "execution_count": 21,
   "metadata": {
    "collapsed": true
   },
   "outputs": [
    {
     "name": "stdout",
     "output_type": "stream",
     "text": [
      "[[0 1 1 1 0 1 0 1 1 1]\n",
      " [1 0 1 1 0 1 0 1 1 1]\n",
      " [1 1 0 1 1 0 0 1 0 0]\n",
      " [1 1 1 0 1 1 0 1 1 0]\n",
      " [0 0 1 1 0 1 1 1 1 0]\n",
      " [1 1 0 1 1 0 1 1 1 0]\n",
      " [0 0 0 0 1 1 0 1 1 1]\n",
      " [1 1 1 1 1 1 1 0 1 1]\n",
      " [1 1 0 1 1 1 1 1 0 1]\n",
      " [1 1 0 0 0 0 1 1 1 0]]\n"
     ]
    }
   ],
   "source": [
    "swg = nxrg.newman_watts_strogatz_graph(10, 4, 0.5)\n",
    "swg_G = nx.adjacency_matrix(swg).toarray()\n",
    "print(swg_G)"
   ]
  },
  {
   "cell_type": "code",
   "execution_count": 79,
   "metadata": {
    "collapsed": true
   },
   "outputs": [
    {
     "name": "stdout",
     "output_type": "stream",
     "text": [
      "[[0 0 1 1 0 0 1 1 0 0]\n",
      " [0 0 1 0 0 0 0 0 0 0]\n",
      " [1 1 0 1 1 1 0 1 1 1]\n",
      " [1 0 1 0 1 1 1 0 1 1]\n",
      " [0 0 1 1 0 0 0 0 0 0]\n",
      " [0 0 1 1 0 0 0 0 0 0]\n",
      " [1 0 0 1 0 0 0 0 0 0]\n",
      " [1 0 1 0 0 0 0 0 0 0]\n",
      " [0 0 1 1 0 0 0 0 0 0]\n",
      " [0 0 1 1 0 0 0 0 0 0]]\n"
     ]
    }
   ],
   "source": [
    "sfg = nxrg.barabasi_albert_graph(10, 2)\n",
    "sfg_G = nx.adjacency_matrix(sfg).toarray()\n",
    "print(sfg_G)"
   ]
  },
  {
   "cell_type": "code",
   "execution_count": 13,
   "metadata": {},
   "outputs": [
    {
     "name": "stdout",
     "output_type": "stream",
     "text": [
      "[[0 1 1 0 0 1 0 0 1 1]\n",
      " [1 0 1 1 1 0 1 1 0 1]\n",
      " [1 1 0 1 1 1 0 1 0 0]\n",
      " [0 1 1 0 1 1 0 0 0 1]\n",
      " [0 1 1 1 0 1 1 0 0 0]\n",
      " [1 0 1 1 1 0 1 1 0 0]\n",
      " [0 1 0 0 1 1 0 1 1 0]\n",
      " [0 1 1 0 0 1 1 0 1 1]\n",
      " [1 0 0 0 0 0 1 1 0 1]\n",
      " [1 1 0 1 0 0 0 1 1 0]]\n",
      "[[0. 0. 0. 0. 0. 0. 1. 0. 0. 0. 0. 0. 0. 0. 1. 0. 0. 0. 0. 0. 1. 0. 0. 0.\n",
      "  0. 0. 0. 1. 0. 0. 0. 0. 0. 0. 0. 0. 0. 0. 0. 0. 0. 0. 0. 0. 0. 0. 0. 0.\n",
      "  0. 0. 0. 0. 0. 0.]\n",
      " [0. 0. 0. 1. 0. 1. 0. 0. 0. 0. 0. 0. 0. 0. 0. 0. 0. 0. 0. 0. 0. 0. 0. 0.\n",
      "  0. 0. 0. 0. 0. 0. 0. 0. 0. 0. 0. 0. 0. 0. 0. 0. 0. 0. 1. 0. 0. 0. 0. 1.\n",
      "  0. 0. 0. 0. 0. 0.]]\n",
      "(array([0, 0, 0, 0, 1, 1, 1, 1]), array([ 6, 14, 20, 27,  3,  5, 42, 47]))\n"
     ]
    }
   ],
   "source": [
    "G = np.load('graph.npy')\n",
    "print(G)\n",
    "loaded_paths = np.load('paths.npy')\n",
    "print(loaded_paths)\n",
    "restored_path = np.nonzero(loaded_paths)\n",
    "print(restored_path)"
   ]
  },
  {
   "cell_type": "code",
   "execution_count": 14,
   "metadata": {},
   "outputs": [
    {
     "data": {
      "image/png": "[encoded data removed]",
      "text/plain": [
       "<Figure size 432x288 with 1 Axes>"
      ]
     },
     "metadata": {},
     "output_type": "display_data"
    }
   ],
   "source": [
    "DiG = nx.from_numpy_matrix(G, create_using=nx.DiGraph())\n",
    "nx.draw_networkx(DiG, with_label = True) "
   ]
  },
  {
   "cell_type": "code",
   "execution_count": 23,
   "metadata": {
    "collapsed": true
   },
   "outputs": [
    {
     "ename": "TypeError",
     "evalue": "all_simple_paths() missing 1 required positional argument: 'target'",
     "output_type": "error",
     "traceback": [
      "\u001b[0;31m---------------------------------------------------------------------------\u001b[0m",
      "\u001b[0;31mTypeError\u001b[0m                                 Traceback (most recent call last)",
      "\u001b[0;32m<ipython-input-23-6d382f8162bf>\u001b[0m in \u001b[0;36m<module>\u001b[0;34m\u001b[0m\n\u001b[0;32m----> 1\u001b[0;31m \u001b[0mspaths\u001b[0m \u001b[0;34m=\u001b[0m \u001b[0mnx\u001b[0m\u001b[0;34m.\u001b[0m\u001b[0mall_simple_paths\u001b[0m\u001b[0;34m(\u001b[0m\u001b[0mDiG\u001b[0m\u001b[0;34m,\u001b[0m \u001b[0;36m1\u001b[0m\u001b[0;34m,\u001b[0m \u001b[0;34m)\u001b[0m\u001b[0;34m\u001b[0m\u001b[0;34m\u001b[0m\u001b[0m\n\u001b[0m\u001b[1;32m      2\u001b[0m \u001b[0;31m#print(list(spaths))\u001b[0m\u001b[0;34m\u001b[0m\u001b[0;34m\u001b[0m\u001b[0;34m\u001b[0m\u001b[0m\n",
      "\u001b[0;31mTypeError\u001b[0m: all_simple_paths() missing 1 required positional argument: 'target'"
     ]
    }
   ],
   "source": [
    "spaths = nx.all_simple_paths(DiG, 1, )\n",
    "#print(list(spaths))"
   ]
  },
  {
   "cell_type": "code",
   "execution_count": 7,
   "metadata": {
    "collapsed": true
   },
   "outputs": [
    {
     "name": "stdout",
     "output_type": "stream",
     "text": [
      "[8, 7, 1, 2, 4]\n",
      "[8, 7, 1, 3, 9]\n",
      "[[[8, 7, 1], [7, 1, 1], [1, 2, 1], [2, 4, 1]], [[8, 7, 1], [7, 1, 1], [1, 3, 1], [3, 9, 1]]]\n"
     ]
    }
   ],
   "source": [
    "swg_pth = path_gen([[8,7,1,2,4], \n",
    "                    [8,7,1,3,9]])\n",
    "print(swg_pth)"
   ]
  },
  {
   "cell_type": "code",
   "execution_count": 82,
   "metadata": {
    "collapsed": true
   },
   "outputs": [
    {
     "name": "stdout",
     "output_type": "stream",
     "text": [
      "[[4, 2, 0, 3], [4, 2, 0, 6, 3], [4, 2, 3], [4, 2, 5, 3], [4, 2, 7, 0, 3], [4, 2, 7, 0, 6, 3], [4, 2, 8, 3], [4, 2, 9, 3], [4, 3]]\n"
     ]
    }
   ],
   "source": [
    "spaths = nx.all_simple_paths(sfg, 4, 3)\n",
    "print(list(spaths))"
   ]
  },
  {
   "cell_type": "code",
   "execution_count": 83,
   "metadata": {
    "collapsed": true
   },
   "outputs": [
    {
     "name": "stdout",
     "output_type": "stream",
     "text": [
      "[5, 3, 0, 7, 2]\n",
      "[4, 2, 0, 6, 3]\n",
      "[7, 3, 1, 2, 9]\n",
      "[[[5, 3, 11], [3, 0, 11], [0, 7, 10], [7, 2, 6]], [[4, 2, 13], [2, 0, 12], [0, 6, 12], [6, 3, 13]], [[7, 3, 9], [3, 1, 9], [1, 2, 9], [2, 9, 13]]]\n"
     ]
    }
   ],
   "source": [
    "sfg_pth = path_gen([[5, 3, 0, 7, 2],                     \n",
    "                    [4, 2, 0, 6, 3],                     \n",
    "                    [7, 3, 1, 2, 9]])\n",
    "print(sfg_pth)"
   ]
  },
  {
   "cell_type": "code",
   "execution_count": 24,
   "metadata": {},
   "outputs": [
    {
     "name": "stdout",
     "output_type": "stream",
     "text": [
      "[8, 0, 2, 5, 4]\n",
      "[8, 7, 6, 1, 4]\n",
      "[8, 9, 1, 3, 4]\n",
      "[[[8, 0, 1], [0, 2, 1], [2, 5, 1], [5, 4, 1]], [[8, 7, 1], [7, 6, 1], [6, 1, 1], [1, 4, 1]], [[8, 9, 1], [9, 1, 1], [1, 3, 1], [3, 4, 1]]]\n"
     ]
    }
   ],
   "source": [
    "npg_pth = path_gen([[8,0,2,5,4], \n",
    "                    [8,7,6,1,4],\n",
    "                    [8,9,1,3,4]])\n",
    "print(npg_pth)"
   ]
  },
  {
   "cell_type": "code",
   "execution_count": 23,
   "metadata": {},
   "outputs": [
    {
     "name": "stdout",
     "output_type": "stream",
     "text": [
      "Edges:\n",
      " [[0, 1], [0, 2], [0, 5], [0, 8], [0, 9], [1, 0], [1, 2], [1, 3], [1, 4], [1, 6], [1, 7], [1, 9], [2, 0], [2, 1], [2, 3], [2, 4], [2, 5], [2, 7], [3, 1], [3, 2], [3, 4], [3, 5], [3, 9], [4, 1], [4, 2], [4, 3], [4, 5], [4, 6], [5, 0], [5, 2], [5, 3], [5, 4], [5, 6], [5, 7], [6, 1], [6, 4], [6, 5], [6, 7], [6, 8], [7, 1], [7, 2], [7, 5], [7, 6], [7, 8], [7, 9], [8, 0], [8, 6], [8, 7], [8, 9], [9, 0], [9, 1], [9, 3], [9, 7], [9, 8]]\n",
      "Paths:\n",
      " [[0. 0. 0. 0. 0. 0. 1. 0. 0. 0. 0. 0. 0. 0. 1. 0. 0. 0. 0. 0. 1. 0. 0. 0.\n",
      "  0. 0. 0. 1. 0. 0. 0. 0. 0. 0. 0. 0. 0. 0. 0. 0. 0. 0. 0. 0. 0. 0. 0. 0.\n",
      "  0. 0. 0. 0. 0. 0.]\n",
      " [0. 0. 0. 1. 0. 1. 0. 0. 0. 0. 0. 0. 0. 0. 0. 0. 0. 0. 0. 0. 0. 0. 0. 0.\n",
      "  0. 0. 0. 0. 0. 0. 0. 0. 0. 0. 0. 0. 0. 0. 0. 0. 0. 0. 1. 0. 0. 0. 0. 1.\n",
      "  0. 0. 0. 0. 0. 0.]]\n"
     ]
    }
   ],
   "source": [
    "flows, noiseless_flows, edge_adj, paths = flow_gen(G, npg_pth, 2000, Range=2, zero_centered=True, \\\n",
    "                                                   processed_paths = False, noise_level=0.2)"
   ]
  },
  {
   "cell_type": "code",
   "execution_count": 21,
   "metadata": {},
   "outputs": [
    {
     "name": "stdout",
     "output_type": "stream",
     "text": [
      "noiseless:\n",
      " [[ 0.          0.          0.          0.08532306  0.          0.08532306\n",
      "  -0.19811963  0.          0.          0.          0.          0.\n",
      "   0.          0.         -0.19811963  0.          0.          0.\n",
      "   0.          0.         -0.19811963  0.          0.          0.\n",
      "   0.          0.          0.         -0.19811963  0.          0.\n",
      "   0.          0.          0.          0.          0.          0.\n",
      "   0.          0.          0.          0.          0.          0.\n",
      "   0.08532306  0.          0.          0.          0.          0.08532306\n",
      "   0.          0.          0.          0.          0.          0.        ]]\n",
      "with noise:\n",
      " [[ 0.23385495  0.60926494 -0.43159563  0.33969682 -0.22823337 -0.61539194\n",
      "  -0.1616161   0.01730792 -0.01442427  0.46245448 -0.36923843  0.91093958\n",
      "   0.47537791  0.11168708  0.02138827 -0.73824199 -0.51360384  0.25183661\n",
      "  -0.07090824  1.23629138 -0.41232085  0.50343144  0.49060878 -0.1132071\n",
      "   0.19870493 -0.50455416  0.06193411  0.10443468  0.21049247  0.56801476\n",
      "   0.34172053 -0.39127385 -0.41690719  0.4664116  -0.26186128 -0.32591637\n",
      "   0.38597044  0.09249361  0.59792947 -0.11728149 -0.58425953 -0.79152847\n",
      "  -0.14774048  0.34174847  0.09886343 -0.60007491  0.53207729 -0.5916315\n",
      "  -1.09447105 -0.11478184  0.68742506  0.3427219   0.02676947 -0.3706607 ]]\n"
     ]
    }
   ],
   "source": [
    "print('noiseless:\\n',noiseless_flows[0:1])\n",
    "print('with noise:\\n',flows[0:1])"
   ]
  },
  {
   "cell_type": "code",
   "execution_count": 17,
   "metadata": {},
   "outputs": [],
   "source": [
    "np.save('flows.npy', flows)\n",
    "np.save('noiseless_flows.npy', noiseless_flows)\n",
    "np.save('adj.npy', edge_adj)\n",
    "np.save('paths.npy', paths)\n",
    "np.save('graph.npy', G)"
   ]
  },
  {
   "cell_type": "code",
   "execution_count": 16,
   "metadata": {},
   "outputs": [
    {
     "name": "stdout",
     "output_type": "stream",
     "text": [
      "[ 0.          0.          0.          0.          0.          0.\n",
      " 48.98215367  0.          0.          0.          0.          0.\n",
      "  0.          0.         48.98215367  0.          0.          0.\n",
      "  0.          0.         48.98215367  0.          0.          0.\n",
      "  0.          0.          0.         48.98215367  0.          0.\n",
      "  0.          0.          0.          0.          0.          0.\n",
      "  0.          0.          0.          0.          0.          0.\n",
      "  0.          0.          0.          0.          0.          0.\n",
      "  0.          0.          0.          0.          0.          0.        ]\n"
     ]
    }
   ],
   "source": [
    "print(noiseless_flows[0])"
   ]
  }
 ],
 "metadata": {
  "kernelspec": {
   "display_name": "Python 3",
   "language": "python",
   "name": "python3"
  },
  "language_info": {
   "codemirror_mode": {
    "name": "ipython",
    "version": 3
   },
   "file_extension": ".py",
   "mimetype": "text/x-python",
   "name": "python",
   "nbconvert_exporter": "python",
   "pygments_lexer": "ipython3",
   "version": "3.8.2"
  }
 },
 "nbformat": 4,
 "nbformat_minor": 4
}
